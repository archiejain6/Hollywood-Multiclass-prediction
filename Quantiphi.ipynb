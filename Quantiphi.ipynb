{
 "cells": [
  {
   "cell_type": "code",
   "execution_count": 3,
   "metadata": {
    "collapsed": true
   },
   "outputs": [],
   "source": [
    "import pandas as pd\n",
    "import numpy as np\n",
    "import sklearn as skl\n",
    "import matplotlib.pyplot as plt\n",
    "import seaborn as sns; sns.set()\n",
    "import matplotlib.pyplot as plt\n",
    "from pandas.plotting import scatter_matrix\n",
    "from sklearn import preprocessing\n",
    "from sklearn.metrics import accuracy_score\n",
    "from sklearn.linear_model import LogisticRegression\n"
   ]
  },
  {
   "cell_type": "code",
   "execution_count": 4,
   "metadata": {},
   "outputs": [
    {
     "data": {
      "text/html": [
       "<div>\n",
       "<style>\n",
       "    .dataframe thead tr:only-child th {\n",
       "        text-align: right;\n",
       "    }\n",
       "\n",
       "    .dataframe thead th {\n",
       "        text-align: left;\n",
       "    }\n",
       "\n",
       "    .dataframe tbody tr th {\n",
       "        vertical-align: top;\n",
       "    }\n",
       "</style>\n",
       "<table border=\"1\" class=\"dataframe\">\n",
       "  <thead>\n",
       "    <tr style=\"text-align: right;\">\n",
       "      <th></th>\n",
       "      <th>id</th>\n",
       "      <th>name</th>\n",
       "      <th>display_name</th>\n",
       "      <th>production_year</th>\n",
       "      <th>movie_sequel</th>\n",
       "      <th>creative_type</th>\n",
       "      <th>source</th>\n",
       "      <th>production_method</th>\n",
       "      <th>genre</th>\n",
       "      <th>language</th>\n",
       "      <th>board_rating_reason</th>\n",
       "      <th>movie_board_rating_display_name</th>\n",
       "      <th>movie_release_pattern_display_name</th>\n",
       "      <th>total</th>\n",
       "      <th>Category</th>\n",
       "    </tr>\n",
       "  </thead>\n",
       "  <tbody>\n",
       "    <tr>\n",
       "      <th>0</th>\n",
       "      <td>7950115</td>\n",
       "      <td>Avatar</td>\n",
       "      <td>Avatar</td>\n",
       "      <td>2009</td>\n",
       "      <td>0</td>\n",
       "      <td>Science Fiction</td>\n",
       "      <td>Original Screenplay</td>\n",
       "      <td>Animation/Live Action</td>\n",
       "      <td>Action</td>\n",
       "      <td>English</td>\n",
       "      <td>For intense epic battle sequences and warfare,...</td>\n",
       "      <td>PG-13</td>\n",
       "      <td>Wide</td>\n",
       "      <td>2784</td>\n",
       "      <td>9</td>\n",
       "    </tr>\n",
       "    <tr>\n",
       "      <th>1</th>\n",
       "      <td>50950115</td>\n",
       "      <td>Harry Potter and the Deathly Hallows: Part II</td>\n",
       "      <td>Harry Potter and the Deathly Hallows: Part II</td>\n",
       "      <td>2011</td>\n",
       "      <td>1</td>\n",
       "      <td>Fantasy</td>\n",
       "      <td>Based on Fiction Book/Short Story</td>\n",
       "      <td>Animation/Live Action</td>\n",
       "      <td>Adventure</td>\n",
       "      <td>English</td>\n",
       "      <td>for some sequences of intense action violence ...</td>\n",
       "      <td>PG-13</td>\n",
       "      <td>Wide</td>\n",
       "      <td>1328</td>\n",
       "      <td>9</td>\n",
       "    </tr>\n",
       "    <tr>\n",
       "      <th>2</th>\n",
       "      <td>119870115</td>\n",
       "      <td>Transformers 3</td>\n",
       "      <td>Transformers: Dark of the Moon</td>\n",
       "      <td>2011</td>\n",
       "      <td>1</td>\n",
       "      <td>Science Fiction</td>\n",
       "      <td>Based on TV</td>\n",
       "      <td>Animation/Live Action</td>\n",
       "      <td>Action</td>\n",
       "      <td>English</td>\n",
       "      <td>for intense prolonged sequences of sci-fi acti...</td>\n",
       "      <td>PG-13</td>\n",
       "      <td>Wide</td>\n",
       "      <td>1124</td>\n",
       "      <td>9</td>\n",
       "    </tr>\n",
       "    <tr>\n",
       "      <th>3</th>\n",
       "      <td>119590115</td>\n",
       "      <td>Toy Story 3</td>\n",
       "      <td>Toy Story 3</td>\n",
       "      <td>2010</td>\n",
       "      <td>1</td>\n",
       "      <td>Kids Fiction</td>\n",
       "      <td>Original Screenplay</td>\n",
       "      <td>Digital Animation</td>\n",
       "      <td>Adventure</td>\n",
       "      <td>English</td>\n",
       "      <td>General</td>\n",
       "      <td>G</td>\n",
       "      <td>Wide</td>\n",
       "      <td>1064</td>\n",
       "      <td>9</td>\n",
       "    </tr>\n",
       "    <tr>\n",
       "      <th>4</th>\n",
       "      <td>91700115</td>\n",
       "      <td>Pirates of the Caribbean 4</td>\n",
       "      <td>Pirates of the Caribbean: On Stranger Tides</td>\n",
       "      <td>2011</td>\n",
       "      <td>1</td>\n",
       "      <td>Fantasy</td>\n",
       "      <td>Based on Theme Park Ride</td>\n",
       "      <td>Live Action</td>\n",
       "      <td>Adventure</td>\n",
       "      <td>English</td>\n",
       "      <td>for intense sequences of action/adventure viol...</td>\n",
       "      <td>PG-13</td>\n",
       "      <td>Wide</td>\n",
       "      <td>1044</td>\n",
       "      <td>9</td>\n",
       "    </tr>\n",
       "  </tbody>\n",
       "</table>\n",
       "</div>"
      ],
      "text/plain": [
       "          id                                           name  \\\n",
       "0    7950115                                         Avatar   \n",
       "1   50950115  Harry Potter and the Deathly Hallows: Part II   \n",
       "2  119870115                                 Transformers 3   \n",
       "3  119590115                                    Toy Story 3   \n",
       "4   91700115                     Pirates of the Caribbean 4   \n",
       "\n",
       "                                    display_name  production_year  \\\n",
       "0                                         Avatar             2009   \n",
       "1  Harry Potter and the Deathly Hallows: Part II             2011   \n",
       "2                 Transformers: Dark of the Moon             2011   \n",
       "3                                    Toy Story 3             2010   \n",
       "4    Pirates of the Caribbean: On Stranger Tides             2011   \n",
       "\n",
       "   movie_sequel    creative_type                             source  \\\n",
       "0             0  Science Fiction                Original Screenplay   \n",
       "1             1          Fantasy  Based on Fiction Book/Short Story   \n",
       "2             1  Science Fiction                        Based on TV   \n",
       "3             1     Kids Fiction                Original Screenplay   \n",
       "4             1          Fantasy           Based on Theme Park Ride   \n",
       "\n",
       "       production_method      genre language  \\\n",
       "0  Animation/Live Action     Action  English   \n",
       "1  Animation/Live Action  Adventure  English   \n",
       "2  Animation/Live Action     Action  English   \n",
       "3      Digital Animation  Adventure  English   \n",
       "4            Live Action  Adventure  English   \n",
       "\n",
       "                                 board_rating_reason  \\\n",
       "0  For intense epic battle sequences and warfare,...   \n",
       "1  for some sequences of intense action violence ...   \n",
       "2  for intense prolonged sequences of sci-fi acti...   \n",
       "3                                            General   \n",
       "4  for intense sequences of action/adventure viol...   \n",
       "\n",
       "  movie_board_rating_display_name movie_release_pattern_display_name  total  \\\n",
       "0                           PG-13                               Wide   2784   \n",
       "1                           PG-13                               Wide   1328   \n",
       "2                           PG-13                               Wide   1124   \n",
       "3                               G                               Wide   1064   \n",
       "4                           PG-13                               Wide   1044   \n",
       "\n",
       "   Category  \n",
       "0         9  \n",
       "1         9  \n",
       "2         9  \n",
       "3         9  \n",
       "4         9  "
      ]
     },
     "execution_count": 4,
     "metadata": {},
     "output_type": "execute_result"
    }
   ],
   "source": [
    "data = pd.read_excel('TrainingSheet.xlsx')\n",
    "data.head()"
   ]
  },
  {
   "cell_type": "code",
   "execution_count": 5,
   "metadata": {},
   "outputs": [
    {
     "name": "stdout",
     "output_type": "stream",
     "text": [
      "Shape of train data (1196, 15)\n"
     ]
    }
   ],
   "source": [
    "print(\"Shape of train data\", data.shape)"
   ]
  },
  {
   "cell_type": "code",
   "execution_count": 6,
   "metadata": {},
   "outputs": [
    {
     "data": {
      "text/plain": [
       "id                                    0\n",
       "name                                  0\n",
       "display_name                          0\n",
       "production_year                       0\n",
       "movie_sequel                          0\n",
       "creative_type                         0\n",
       "source                                0\n",
       "production_method                     0\n",
       "genre                                 0\n",
       "language                              0\n",
       "board_rating_reason                   0\n",
       "movie_board_rating_display_name       0\n",
       "movie_release_pattern_display_name    0\n",
       "total                                 0\n",
       "Category                              0\n",
       "dtype: int64"
      ]
     },
     "execution_count": 6,
     "metadata": {},
     "output_type": "execute_result"
    }
   ],
   "source": [
    "data.isnull().sum()"
   ]
  },
  {
   "cell_type": "code",
   "execution_count": 8,
   "metadata": {},
   "outputs": [
    {
     "data": {
      "text/html": [
       "<div>\n",
       "<style>\n",
       "    .dataframe thead tr:only-child th {\n",
       "        text-align: right;\n",
       "    }\n",
       "\n",
       "    .dataframe thead th {\n",
       "        text-align: left;\n",
       "    }\n",
       "\n",
       "    .dataframe tbody tr th {\n",
       "        vertical-align: top;\n",
       "    }\n",
       "</style>\n",
       "<table border=\"1\" class=\"dataframe\">\n",
       "  <thead>\n",
       "    <tr style=\"text-align: right;\">\n",
       "      <th></th>\n",
       "      <th>id</th>\n",
       "      <th>name</th>\n",
       "      <th>display_name</th>\n",
       "      <th>production_year</th>\n",
       "      <th>movie_sequel</th>\n",
       "      <th>creative_type</th>\n",
       "      <th>source</th>\n",
       "      <th>production_method</th>\n",
       "      <th>genre</th>\n",
       "      <th>language</th>\n",
       "      <th>board_rating_reason</th>\n",
       "      <th>movie_board_rating_display_name</th>\n",
       "      <th>movie_release_pattern_display_name</th>\n",
       "      <th>total</th>\n",
       "      <th>Category</th>\n",
       "    </tr>\n",
       "  </thead>\n",
       "  <tbody>\n",
       "    <tr>\n",
       "      <th>count</th>\n",
       "      <td>1.196000e+03</td>\n",
       "      <td>1196</td>\n",
       "      <td>1196</td>\n",
       "      <td>1196.000000</td>\n",
       "      <td>1196.000000</td>\n",
       "      <td>1196</td>\n",
       "      <td>1196</td>\n",
       "      <td>1196</td>\n",
       "      <td>1196</td>\n",
       "      <td>1196</td>\n",
       "      <td>1196</td>\n",
       "      <td>1196</td>\n",
       "      <td>1196</td>\n",
       "      <td>1196.000000</td>\n",
       "      <td>1196.000000</td>\n",
       "    </tr>\n",
       "    <tr>\n",
       "      <th>unique</th>\n",
       "      <td>NaN</td>\n",
       "      <td>1196</td>\n",
       "      <td>1195</td>\n",
       "      <td>NaN</td>\n",
       "      <td>NaN</td>\n",
       "      <td>9</td>\n",
       "      <td>16</td>\n",
       "      <td>6</td>\n",
       "      <td>13</td>\n",
       "      <td>16</td>\n",
       "      <td>1003</td>\n",
       "      <td>6</td>\n",
       "      <td>7</td>\n",
       "      <td>NaN</td>\n",
       "      <td>NaN</td>\n",
       "    </tr>\n",
       "    <tr>\n",
       "      <th>top</th>\n",
       "      <td>NaN</td>\n",
       "      <td>My Soul to Take</td>\n",
       "      <td>Death at a Funeral</td>\n",
       "      <td>NaN</td>\n",
       "      <td>NaN</td>\n",
       "      <td>Contemporary Fiction</td>\n",
       "      <td>Original Screenplay</td>\n",
       "      <td>Live Action</td>\n",
       "      <td>Drama</td>\n",
       "      <td>English</td>\n",
       "      <td>International - to be excluded</td>\n",
       "      <td>R</td>\n",
       "      <td>Wide</td>\n",
       "      <td>NaN</td>\n",
       "      <td>NaN</td>\n",
       "    </tr>\n",
       "    <tr>\n",
       "      <th>freq</th>\n",
       "      <td>NaN</td>\n",
       "      <td>1</td>\n",
       "      <td>2</td>\n",
       "      <td>NaN</td>\n",
       "      <td>NaN</td>\n",
       "      <td>638</td>\n",
       "      <td>629</td>\n",
       "      <td>1093</td>\n",
       "      <td>321</td>\n",
       "      <td>1144</td>\n",
       "      <td>83</td>\n",
       "      <td>448</td>\n",
       "      <td>795</td>\n",
       "      <td>NaN</td>\n",
       "      <td>NaN</td>\n",
       "    </tr>\n",
       "    <tr>\n",
       "      <th>mean</th>\n",
       "      <td>8.928203e+07</td>\n",
       "      <td>NaN</td>\n",
       "      <td>NaN</td>\n",
       "      <td>2008.984950</td>\n",
       "      <td>0.097826</td>\n",
       "      <td>NaN</td>\n",
       "      <td>NaN</td>\n",
       "      <td>NaN</td>\n",
       "      <td>NaN</td>\n",
       "      <td>NaN</td>\n",
       "      <td>NaN</td>\n",
       "      <td>NaN</td>\n",
       "      <td>NaN</td>\n",
       "      <td>104.703177</td>\n",
       "      <td>3.564381</td>\n",
       "    </tr>\n",
       "    <tr>\n",
       "      <th>std</th>\n",
       "      <td>4.832893e+07</td>\n",
       "      <td>NaN</td>\n",
       "      <td>NaN</td>\n",
       "      <td>1.383625</td>\n",
       "      <td>0.297204</td>\n",
       "      <td>NaN</td>\n",
       "      <td>NaN</td>\n",
       "      <td>NaN</td>\n",
       "      <td>NaN</td>\n",
       "      <td>NaN</td>\n",
       "      <td>NaN</td>\n",
       "      <td>NaN</td>\n",
       "      <td>NaN</td>\n",
       "      <td>181.927715</td>\n",
       "      <td>1.962417</td>\n",
       "    </tr>\n",
       "    <tr>\n",
       "      <th>min</th>\n",
       "      <td>7.011500e+04</td>\n",
       "      <td>NaN</td>\n",
       "      <td>NaN</td>\n",
       "      <td>2007.000000</td>\n",
       "      <td>0.000000</td>\n",
       "      <td>NaN</td>\n",
       "      <td>NaN</td>\n",
       "      <td>NaN</td>\n",
       "      <td>NaN</td>\n",
       "      <td>NaN</td>\n",
       "      <td>NaN</td>\n",
       "      <td>NaN</td>\n",
       "      <td>NaN</td>\n",
       "      <td>1.000000</td>\n",
       "      <td>1.000000</td>\n",
       "    </tr>\n",
       "    <tr>\n",
       "      <th>25%</th>\n",
       "      <td>4.808012e+07</td>\n",
       "      <td>NaN</td>\n",
       "      <td>NaN</td>\n",
       "      <td>2008.000000</td>\n",
       "      <td>0.000000</td>\n",
       "      <td>NaN</td>\n",
       "      <td>NaN</td>\n",
       "      <td>NaN</td>\n",
       "      <td>NaN</td>\n",
       "      <td>NaN</td>\n",
       "      <td>NaN</td>\n",
       "      <td>NaN</td>\n",
       "      <td>NaN</td>\n",
       "      <td>11.000000</td>\n",
       "      <td>2.000000</td>\n",
       "    </tr>\n",
       "    <tr>\n",
       "      <th>50%</th>\n",
       "      <td>9.391012e+07</td>\n",
       "      <td>NaN</td>\n",
       "      <td>NaN</td>\n",
       "      <td>2009.000000</td>\n",
       "      <td>0.000000</td>\n",
       "      <td>NaN</td>\n",
       "      <td>NaN</td>\n",
       "      <td>NaN</td>\n",
       "      <td>NaN</td>\n",
       "      <td>NaN</td>\n",
       "      <td>NaN</td>\n",
       "      <td>NaN</td>\n",
       "      <td>NaN</td>\n",
       "      <td>40.500000</td>\n",
       "      <td>3.000000</td>\n",
       "    </tr>\n",
       "    <tr>\n",
       "      <th>75%</th>\n",
       "      <td>1.354326e+08</td>\n",
       "      <td>NaN</td>\n",
       "      <td>NaN</td>\n",
       "      <td>2010.000000</td>\n",
       "      <td>0.000000</td>\n",
       "      <td>NaN</td>\n",
       "      <td>NaN</td>\n",
       "      <td>NaN</td>\n",
       "      <td>NaN</td>\n",
       "      <td>NaN</td>\n",
       "      <td>NaN</td>\n",
       "      <td>NaN</td>\n",
       "      <td>NaN</td>\n",
       "      <td>114.250000</td>\n",
       "      <td>5.000000</td>\n",
       "    </tr>\n",
       "    <tr>\n",
       "      <th>max</th>\n",
       "      <td>1.769701e+08</td>\n",
       "      <td>NaN</td>\n",
       "      <td>NaN</td>\n",
       "      <td>2011.000000</td>\n",
       "      <td>1.000000</td>\n",
       "      <td>NaN</td>\n",
       "      <td>NaN</td>\n",
       "      <td>NaN</td>\n",
       "      <td>NaN</td>\n",
       "      <td>NaN</td>\n",
       "      <td>NaN</td>\n",
       "      <td>NaN</td>\n",
       "      <td>NaN</td>\n",
       "      <td>2784.000000</td>\n",
       "      <td>9.000000</td>\n",
       "    </tr>\n",
       "  </tbody>\n",
       "</table>\n",
       "</div>"
      ],
      "text/plain": [
       "                  id             name        display_name  production_year  \\\n",
       "count   1.196000e+03             1196                1196      1196.000000   \n",
       "unique           NaN             1196                1195              NaN   \n",
       "top              NaN  My Soul to Take  Death at a Funeral              NaN   \n",
       "freq             NaN                1                   2              NaN   \n",
       "mean    8.928203e+07              NaN                 NaN      2008.984950   \n",
       "std     4.832893e+07              NaN                 NaN         1.383625   \n",
       "min     7.011500e+04              NaN                 NaN      2007.000000   \n",
       "25%     4.808012e+07              NaN                 NaN      2008.000000   \n",
       "50%     9.391012e+07              NaN                 NaN      2009.000000   \n",
       "75%     1.354326e+08              NaN                 NaN      2010.000000   \n",
       "max     1.769701e+08              NaN                 NaN      2011.000000   \n",
       "\n",
       "        movie_sequel         creative_type               source  \\\n",
       "count    1196.000000                  1196                 1196   \n",
       "unique           NaN                     9                   16   \n",
       "top              NaN  Contemporary Fiction  Original Screenplay   \n",
       "freq             NaN                   638                  629   \n",
       "mean        0.097826                   NaN                  NaN   \n",
       "std         0.297204                   NaN                  NaN   \n",
       "min         0.000000                   NaN                  NaN   \n",
       "25%         0.000000                   NaN                  NaN   \n",
       "50%         0.000000                   NaN                  NaN   \n",
       "75%         0.000000                   NaN                  NaN   \n",
       "max         1.000000                   NaN                  NaN   \n",
       "\n",
       "       production_method  genre language             board_rating_reason  \\\n",
       "count               1196   1196     1196                            1196   \n",
       "unique                 6     13       16                            1003   \n",
       "top          Live Action  Drama  English  International - to be excluded   \n",
       "freq                1093    321     1144                              83   \n",
       "mean                 NaN    NaN      NaN                             NaN   \n",
       "std                  NaN    NaN      NaN                             NaN   \n",
       "min                  NaN    NaN      NaN                             NaN   \n",
       "25%                  NaN    NaN      NaN                             NaN   \n",
       "50%                  NaN    NaN      NaN                             NaN   \n",
       "75%                  NaN    NaN      NaN                             NaN   \n",
       "max                  NaN    NaN      NaN                             NaN   \n",
       "\n",
       "       movie_board_rating_display_name movie_release_pattern_display_name  \\\n",
       "count                             1196                               1196   \n",
       "unique                               6                                  7   \n",
       "top                                  R                               Wide   \n",
       "freq                               448                                795   \n",
       "mean                               NaN                                NaN   \n",
       "std                                NaN                                NaN   \n",
       "min                                NaN                                NaN   \n",
       "25%                                NaN                                NaN   \n",
       "50%                                NaN                                NaN   \n",
       "75%                                NaN                                NaN   \n",
       "max                                NaN                                NaN   \n",
       "\n",
       "              total     Category  \n",
       "count   1196.000000  1196.000000  \n",
       "unique          NaN          NaN  \n",
       "top             NaN          NaN  \n",
       "freq            NaN          NaN  \n",
       "mean     104.703177     3.564381  \n",
       "std      181.927715     1.962417  \n",
       "min        1.000000     1.000000  \n",
       "25%       11.000000     2.000000  \n",
       "50%       40.500000     3.000000  \n",
       "75%      114.250000     5.000000  \n",
       "max     2784.000000     9.000000  "
      ]
     },
     "execution_count": 8,
     "metadata": {},
     "output_type": "execute_result"
    }
   ],
   "source": [
    "data.describe(include='all')"
   ]
  },
  {
   "cell_type": "code",
   "execution_count": 11,
   "metadata": {},
   "outputs": [],
   "source": [
    "#drop irrelevant features\n",
    "\n",
    "def cleanDataSet(df):\n",
    "    file= df.drop([\n",
    "                   'id', 'name','display_name','board_rating_reason'\n",
    "                  ], axis = 1)\n",
    "    return file\n",
    "\n",
    "data= cleanDataSet(data)\n"
   ]
  },
  {
   "cell_type": "code",
   "execution_count": 13,
   "metadata": {},
   "outputs": [
    {
     "data": {
      "text/plain": [
       "production_year                        int64\n",
       "movie_sequel                           int64\n",
       "creative_type                         object\n",
       "source                                object\n",
       "production_method                     object\n",
       "genre                                 object\n",
       "language                              object\n",
       "movie_board_rating_display_name       object\n",
       "movie_release_pattern_display_name    object\n",
       "total                                  int64\n",
       "Category                               int64\n",
       "dtype: object"
      ]
     },
     "execution_count": 13,
     "metadata": {},
     "output_type": "execute_result"
    }
   ],
   "source": [
    "data.dtypes"
   ]
  },
  {
   "cell_type": "code",
   "execution_count": 14,
   "metadata": {
    "collapsed": true
   },
   "outputs": [],
   "source": [
    "for column in data.select_dtypes(include=[np.object]).columns:\n",
    "    data[column]=data[column].astype('category', categories=data[column].unique())\n",
    "    \n",
    "data.dtypes    "
   ]
  },
  {
   "cell_type": "code",
   "execution_count": 17,
   "metadata": {},
   "outputs": [],
   "source": [
    "df = pd.get_dummies(data=data, columns= ['creative_type',\n",
    "                              'source',\n",
    "                              'movie_sequel',\n",
    "                              'production_method',\n",
    "                              'genre',\n",
    "                              'language',\n",
    "                              'movie_board_rating_display_name',\n",
    "                              'movie_release_pattern_display_name'])"
   ]
  },
  {
   "cell_type": "code",
   "execution_count": 18,
   "metadata": {},
   "outputs": [
    {
     "data": {
      "text/html": [
       "<div>\n",
       "<style>\n",
       "    .dataframe thead tr:only-child th {\n",
       "        text-align: right;\n",
       "    }\n",
       "\n",
       "    .dataframe thead th {\n",
       "        text-align: left;\n",
       "    }\n",
       "\n",
       "    .dataframe tbody tr th {\n",
       "        vertical-align: top;\n",
       "    }\n",
       "</style>\n",
       "<table border=\"1\" class=\"dataframe\">\n",
       "  <thead>\n",
       "    <tr style=\"text-align: right;\">\n",
       "      <th></th>\n",
       "      <th>production_year</th>\n",
       "      <th>total</th>\n",
       "      <th>Category</th>\n",
       "      <th>creative_type_Science Fiction</th>\n",
       "      <th>creative_type_Fantasy</th>\n",
       "      <th>creative_type_Kids Fiction</th>\n",
       "      <th>creative_type_Super Hero</th>\n",
       "      <th>creative_type_Historical Fiction</th>\n",
       "      <th>creative_type_Contemporary Fiction</th>\n",
       "      <th>creative_type_Dramatization</th>\n",
       "      <th>...</th>\n",
       "      <th>movie_board_rating_display_name_R</th>\n",
       "      <th>movie_board_rating_display_name_Not Rated</th>\n",
       "      <th>movie_board_rating_display_name_NC-17</th>\n",
       "      <th>movie_release_pattern_display_name_Wide</th>\n",
       "      <th>movie_release_pattern_display_name_Expands Wide</th>\n",
       "      <th>movie_release_pattern_display_name_Limited</th>\n",
       "      <th>movie_release_pattern_display_name_Exclusive</th>\n",
       "      <th>movie_release_pattern_display_name_IMAX</th>\n",
       "      <th>movie_release_pattern_display_name_Special Engagement</th>\n",
       "      <th>movie_release_pattern_display_name_Oscar Qualifying Run</th>\n",
       "    </tr>\n",
       "  </thead>\n",
       "  <tbody>\n",
       "    <tr>\n",
       "      <th>0</th>\n",
       "      <td>2009</td>\n",
       "      <td>2784</td>\n",
       "      <td>9</td>\n",
       "      <td>1</td>\n",
       "      <td>0</td>\n",
       "      <td>0</td>\n",
       "      <td>0</td>\n",
       "      <td>0</td>\n",
       "      <td>0</td>\n",
       "      <td>0</td>\n",
       "      <td>...</td>\n",
       "      <td>0</td>\n",
       "      <td>0</td>\n",
       "      <td>0</td>\n",
       "      <td>1</td>\n",
       "      <td>0</td>\n",
       "      <td>0</td>\n",
       "      <td>0</td>\n",
       "      <td>0</td>\n",
       "      <td>0</td>\n",
       "      <td>0</td>\n",
       "    </tr>\n",
       "    <tr>\n",
       "      <th>1</th>\n",
       "      <td>2011</td>\n",
       "      <td>1328</td>\n",
       "      <td>9</td>\n",
       "      <td>0</td>\n",
       "      <td>1</td>\n",
       "      <td>0</td>\n",
       "      <td>0</td>\n",
       "      <td>0</td>\n",
       "      <td>0</td>\n",
       "      <td>0</td>\n",
       "      <td>...</td>\n",
       "      <td>0</td>\n",
       "      <td>0</td>\n",
       "      <td>0</td>\n",
       "      <td>1</td>\n",
       "      <td>0</td>\n",
       "      <td>0</td>\n",
       "      <td>0</td>\n",
       "      <td>0</td>\n",
       "      <td>0</td>\n",
       "      <td>0</td>\n",
       "    </tr>\n",
       "    <tr>\n",
       "      <th>2</th>\n",
       "      <td>2011</td>\n",
       "      <td>1124</td>\n",
       "      <td>9</td>\n",
       "      <td>1</td>\n",
       "      <td>0</td>\n",
       "      <td>0</td>\n",
       "      <td>0</td>\n",
       "      <td>0</td>\n",
       "      <td>0</td>\n",
       "      <td>0</td>\n",
       "      <td>...</td>\n",
       "      <td>0</td>\n",
       "      <td>0</td>\n",
       "      <td>0</td>\n",
       "      <td>1</td>\n",
       "      <td>0</td>\n",
       "      <td>0</td>\n",
       "      <td>0</td>\n",
       "      <td>0</td>\n",
       "      <td>0</td>\n",
       "      <td>0</td>\n",
       "    </tr>\n",
       "    <tr>\n",
       "      <th>3</th>\n",
       "      <td>2010</td>\n",
       "      <td>1064</td>\n",
       "      <td>9</td>\n",
       "      <td>0</td>\n",
       "      <td>0</td>\n",
       "      <td>1</td>\n",
       "      <td>0</td>\n",
       "      <td>0</td>\n",
       "      <td>0</td>\n",
       "      <td>0</td>\n",
       "      <td>...</td>\n",
       "      <td>0</td>\n",
       "      <td>0</td>\n",
       "      <td>0</td>\n",
       "      <td>1</td>\n",
       "      <td>0</td>\n",
       "      <td>0</td>\n",
       "      <td>0</td>\n",
       "      <td>0</td>\n",
       "      <td>0</td>\n",
       "      <td>0</td>\n",
       "    </tr>\n",
       "    <tr>\n",
       "      <th>4</th>\n",
       "      <td>2011</td>\n",
       "      <td>1044</td>\n",
       "      <td>9</td>\n",
       "      <td>0</td>\n",
       "      <td>1</td>\n",
       "      <td>0</td>\n",
       "      <td>0</td>\n",
       "      <td>0</td>\n",
       "      <td>0</td>\n",
       "      <td>0</td>\n",
       "      <td>...</td>\n",
       "      <td>0</td>\n",
       "      <td>0</td>\n",
       "      <td>0</td>\n",
       "      <td>1</td>\n",
       "      <td>0</td>\n",
       "      <td>0</td>\n",
       "      <td>0</td>\n",
       "      <td>0</td>\n",
       "      <td>0</td>\n",
       "      <td>0</td>\n",
       "    </tr>\n",
       "  </tbody>\n",
       "</table>\n",
       "<p>5 rows × 78 columns</p>\n",
       "</div>"
      ],
      "text/plain": [
       "   production_year  total  Category  creative_type_Science Fiction  \\\n",
       "0             2009   2784         9                              1   \n",
       "1             2011   1328         9                              0   \n",
       "2             2011   1124         9                              1   \n",
       "3             2010   1064         9                              0   \n",
       "4             2011   1044         9                              0   \n",
       "\n",
       "   creative_type_Fantasy  creative_type_Kids Fiction  \\\n",
       "0                      0                           0   \n",
       "1                      1                           0   \n",
       "2                      0                           0   \n",
       "3                      0                           1   \n",
       "4                      1                           0   \n",
       "\n",
       "   creative_type_Super Hero  creative_type_Historical Fiction  \\\n",
       "0                         0                                 0   \n",
       "1                         0                                 0   \n",
       "2                         0                                 0   \n",
       "3                         0                                 0   \n",
       "4                         0                                 0   \n",
       "\n",
       "   creative_type_Contemporary Fiction  creative_type_Dramatization  \\\n",
       "0                                   0                            0   \n",
       "1                                   0                            0   \n",
       "2                                   0                            0   \n",
       "3                                   0                            0   \n",
       "4                                   0                            0   \n",
       "\n",
       "                            ...                             \\\n",
       "0                           ...                              \n",
       "1                           ...                              \n",
       "2                           ...                              \n",
       "3                           ...                              \n",
       "4                           ...                              \n",
       "\n",
       "   movie_board_rating_display_name_R  \\\n",
       "0                                  0   \n",
       "1                                  0   \n",
       "2                                  0   \n",
       "3                                  0   \n",
       "4                                  0   \n",
       "\n",
       "   movie_board_rating_display_name_Not Rated  \\\n",
       "0                                          0   \n",
       "1                                          0   \n",
       "2                                          0   \n",
       "3                                          0   \n",
       "4                                          0   \n",
       "\n",
       "   movie_board_rating_display_name_NC-17  \\\n",
       "0                                      0   \n",
       "1                                      0   \n",
       "2                                      0   \n",
       "3                                      0   \n",
       "4                                      0   \n",
       "\n",
       "   movie_release_pattern_display_name_Wide  \\\n",
       "0                                        1   \n",
       "1                                        1   \n",
       "2                                        1   \n",
       "3                                        1   \n",
       "4                                        1   \n",
       "\n",
       "   movie_release_pattern_display_name_Expands Wide  \\\n",
       "0                                                0   \n",
       "1                                                0   \n",
       "2                                                0   \n",
       "3                                                0   \n",
       "4                                                0   \n",
       "\n",
       "   movie_release_pattern_display_name_Limited  \\\n",
       "0                                           0   \n",
       "1                                           0   \n",
       "2                                           0   \n",
       "3                                           0   \n",
       "4                                           0   \n",
       "\n",
       "   movie_release_pattern_display_name_Exclusive  \\\n",
       "0                                             0   \n",
       "1                                             0   \n",
       "2                                             0   \n",
       "3                                             0   \n",
       "4                                             0   \n",
       "\n",
       "   movie_release_pattern_display_name_IMAX  \\\n",
       "0                                        0   \n",
       "1                                        0   \n",
       "2                                        0   \n",
       "3                                        0   \n",
       "4                                        0   \n",
       "\n",
       "   movie_release_pattern_display_name_Special Engagement  \\\n",
       "0                                                  0       \n",
       "1                                                  0       \n",
       "2                                                  0       \n",
       "3                                                  0       \n",
       "4                                                  0       \n",
       "\n",
       "   movie_release_pattern_display_name_Oscar Qualifying Run  \n",
       "0                                                  0        \n",
       "1                                                  0        \n",
       "2                                                  0        \n",
       "3                                                  0        \n",
       "4                                                  0        \n",
       "\n",
       "[5 rows x 78 columns]"
      ]
     },
     "execution_count": 18,
     "metadata": {},
     "output_type": "execute_result"
    }
   ],
   "source": [
    "df.head(5)"
   ]
  },
  {
   "cell_type": "code",
   "execution_count": 20,
   "metadata": {},
   "outputs": [
    {
     "data": {
      "text/plain": [
       "2    247\n",
       "3    245\n",
       "4    206\n",
       "1    168\n",
       "5    132\n",
       "6     80\n",
       "7     61\n",
       "8     38\n",
       "9     19\n",
       "Name: Category, dtype: int64"
      ]
     },
     "execution_count": 20,
     "metadata": {},
     "output_type": "execute_result"
    }
   ],
   "source": [
    "df[\"Category\"].value_counts(dropna= False )"
   ]
  },
  {
   "cell_type": "code",
   "execution_count": 21,
   "metadata": {
    "collapsed": true
   },
   "outputs": [],
   "source": [
    "ind_features = df.drop(\"Category\", axis=1)\n",
    "dep_feature = df[\"Category\"]\n",
    "X= ind_features\n",
    "y= dep_feature"
   ]
  },
  {
   "cell_type": "code",
   "execution_count": 23,
   "metadata": {},
   "outputs": [
    {
     "data": {
      "text/plain": [
       "<matplotlib.text.Text at 0x117ee5208>"
      ]
     },
     "execution_count": 23,
     "metadata": {},
     "output_type": "execute_result"
    }
   ],
   "source": [
    "import matplotlib.pyplot as plt\n",
    "a = np.hstack(df['Category'])            \n",
    "plt.hist(a, bins='auto')  # arguments are passed to np.histogram\n",
    "plt.title(\"Histogram with 'auto' bins\")"
   ]
  },
  {
   "cell_type": "code",
   "execution_count": 26,
   "metadata": {},
   "outputs": [
    {
     "ename": "ModuleNotFoundError",
     "evalue": "No module named 'imblearn'",
     "output_type": "error",
     "traceback": [
      "\u001b[0;31m---------------------------------------------------------------------------\u001b[0m",
      "\u001b[0;31mModuleNotFoundError\u001b[0m                       Traceback (most recent call last)",
      "\u001b[0;32m<ipython-input-26-0d3b34a728aa>\u001b[0m in \u001b[0;36m<module>\u001b[0;34m()\u001b[0m\n\u001b[1;32m      1\u001b[0m \u001b[0;31m#SMOTE methodology to balance the imbalance class will help us to learn the data better and reduce bias\u001b[0m\u001b[0;34m\u001b[0m\u001b[0;34m\u001b[0m\u001b[0m\n\u001b[1;32m      2\u001b[0m \u001b[0;31m#SMOTE is used special plt.show()\u001b[0m\u001b[0;34m\u001b[0m\u001b[0;34m\u001b[0m\u001b[0m\n\u001b[0;32m----> 3\u001b[0;31m \u001b[0;32mimport\u001b[0m \u001b[0mimblearn\u001b[0m\u001b[0;34m.\u001b[0m\u001b[0mover_sampling\u001b[0m\u001b[0;34m\u001b[0m\u001b[0m\n\u001b[0m\u001b[1;32m      4\u001b[0m \u001b[0;32mfrom\u001b[0m \u001b[0mimblearn\u001b[0m\u001b[0;34m.\u001b[0m\u001b[0mover_sampling\u001b[0m \u001b[0;32mimport\u001b[0m \u001b[0mSMOTE\u001b[0m\u001b[0;34m\u001b[0m\u001b[0m\n\u001b[1;32m      5\u001b[0m \u001b[0mget_ipython\u001b[0m\u001b[0;34m(\u001b[0m\u001b[0;34m)\u001b[0m\u001b[0;34m.\u001b[0m\u001b[0msystem\u001b[0m\u001b[0;34m(\u001b[0m\u001b[0;34m'pip install imblearn'\u001b[0m\u001b[0;34m)\u001b[0m\u001b[0;34m\u001b[0m\u001b[0m\n",
      "\u001b[0;31mModuleNotFoundError\u001b[0m: No module named 'imblearn'"
     ]
    }
   ],
   "source": [
    "#SMOTE methodology to balance the imbalance class will help us to learn the data better and reduce bias\n",
    "#SMOTE is used special plt.show()\n",
    "import imblearn.over_sampling\n",
    "from imblearn.over_sampling import SMOTE\n",
    "!pip install imblearn"
   ]
  },
  {
   "cell_type": "code",
   "execution_count": 24,
   "metadata": {},
   "outputs": [
    {
     "ename": "ModuleNotFoundError",
     "evalue": "No module named 'imblearn'",
     "output_type": "error",
     "traceback": [
      "\u001b[0;31m---------------------------------------------------------------------------\u001b[0m",
      "\u001b[0;31mModuleNotFoundError\u001b[0m                       Traceback (most recent call last)",
      "\u001b[0;32m<ipython-input-24-63e3b6b3515f>\u001b[0m in \u001b[0;36m<module>\u001b[0;34m()\u001b[0m\n\u001b[1;32m      1\u001b[0m \u001b[0;31m#SMOTE methodology to balance the imbalance class will help us to learn the data better and reduce bias\u001b[0m\u001b[0;34m\u001b[0m\u001b[0;34m\u001b[0m\u001b[0m\n\u001b[1;32m      2\u001b[0m \u001b[0;31m#SMOTE is used special plt.show()\u001b[0m\u001b[0;34m\u001b[0m\u001b[0;34m\u001b[0m\u001b[0m\n\u001b[0;32m----> 3\u001b[0;31m \u001b[0;32mimport\u001b[0m \u001b[0mimblearn\u001b[0m\u001b[0;34m.\u001b[0m\u001b[0mover_sampling\u001b[0m\u001b[0;34m\u001b[0m\u001b[0m\n\u001b[0m\u001b[1;32m      4\u001b[0m \u001b[0;32mfrom\u001b[0m \u001b[0mimblearn\u001b[0m\u001b[0;34m.\u001b[0m\u001b[0mover_sampling\u001b[0m \u001b[0;32mimport\u001b[0m \u001b[0mSMOTE\u001b[0m\u001b[0;34m\u001b[0m\u001b[0m\n\u001b[1;32m      5\u001b[0m \u001b[0msmote\u001b[0m \u001b[0;34m=\u001b[0m \u001b[0mSMOTE\u001b[0m\u001b[0;34m(\u001b[0m\u001b[0msampling_strategy\u001b[0m\u001b[0;34m=\u001b[0m\u001b[0;34m'minority'\u001b[0m\u001b[0;34m)\u001b[0m\u001b[0;34m\u001b[0m\u001b[0m\n",
      "\u001b[0;31mModuleNotFoundError\u001b[0m: No module named 'imblearn'"
     ]
    }
   ],
   "source": [
    "smote = SMOTE(sampling_strategy='minority')\n",
    "X_sm, Y_sm = smote.fit_sample(X, Y)\n",
    "plot_2d_space(X_sm, Y_sm, 'SMOTE over-sampling')\n",
    "X = X_sm\n",
    "Y = Y_sm"
   ]
  },
  {
   "cell_type": "code",
   "execution_count": 27,
   "metadata": {},
   "outputs": [
    {
     "data": {
      "image/png": "[encoded data removed]",
      "text/plain": [
       "<matplotlib.figure.Figure at 0x112f03438>"
      ]
     },
     "metadata": {},
     "output_type": "display_data"
    }
   ],
   "source": [
    "import matplotlib.pyplot as plt\n",
    "a = np.hstack(df['Category'])            \n",
    "plt.hist(a, bins='auto')  # arguments are passed to np.histogram\n",
    "plt.title(\"Histogram with 'auto' bins\")\n",
    "plt.show()"
   ]
  },
  {
   "cell_type": "code",
   "execution_count": 31,
   "metadata": {
    "collapsed": true
   },
   "outputs": [],
   "source": [
    "def featureScale(feature,df):\n",
    "    df.iloc[:,df.columns.get_loc(feature):df.columns.get_loc(feature)+1] = sc_X.fit_transform(df.iloc[:,df.columns.get_loc(feature):df.columns.get_loc(feature)+1])\n",
    "    return df;"
   ]
  },
  {
   "cell_type": "code",
   "execution_count": 32,
   "metadata": {
    "collapsed": true
   },
   "outputs": [],
   "source": [
    "from sklearn.preprocessing import StandardScaler\n",
    "scaler = StandardScaler()\n",
    "X=ind_features.as_matrix().astype(np.float)\n",
    "X= scaler.fit_transform(X)\n",
    "y=dep_feature.values"
   ]
  },
  {
   "cell_type": "code",
   "execution_count": 33,
   "metadata": {},
   "outputs": [
    {
     "name": "stdout",
     "output_type": "stream",
     "text": [
      "Shape of features X: (1196, 77)\n",
      "Shape of target label y: (1196,)\n",
      "Unique values present in target label: [1 2 3 4 5 6 7 8 9]\n"
     ]
    }
   ],
   "source": [
    "print(\"Shape of features X:\",X.shape)\n",
    "print(\"Shape of target label y:\",y.shape)\n",
    "print(\"Unique values present in target label:\",np.unique(y))"
   ]
  },
  {
   "cell_type": "code",
   "execution_count": 19,
   "metadata": {
    "collapsed": true
   },
   "outputs": [],
   "source": [
    "from sklearn.svm import LinearSVC\n",
    "from sklearn.naive_bayes import GaussianNB as NB\n",
    "from sklearn.ensemble import RandomForestClassifier as RF\n",
    "from sklearn.neighbors import KNeighborsClassifier as KNN\n",
    "from sklearn.ensemble import GradientBoostingClassifier as GB\n",
    "from sklearn.metrics import average_precision_score"
   ]
  },
  {
   "cell_type": "code",
   "execution_count": 20,
   "metadata": {
    "collapsed": true
   },
   "outputs": [],
   "source": [
    "from sklearn.model_selection import cross_val_score"
   ]
  },
  {
   "cell_type": "code",
   "execution_count": 21,
   "metadata": {},
   "outputs": [
    {
     "name": "stdout",
     "output_type": "stream",
     "text": [
      "Linear SVC--Accuracy: 0.44 (+/- 0.10)\n",
      "naive_bayes--Accuracy: 0.12 (+/- 0.07)\n",
      "RandomForestClassifier--Accuracy: 0.68 (+/- 0.36)\n",
      "KNeighborsClassifier--Accuracy: 0.30 (+/- 0.05)\n",
      "GradientBoostingClassifier--Accuracy: 0.81 (+/- 0.46)\n"
     ]
    }
   ],
   "source": [
    "model_name=['Linear SVC','naive_bayes','RandomForestClassifier','KNeighborsClassifier','GradientBoostingClassifier']\n",
    "models_list= [LinearSVC(),NB(),RF(),KNN(),GB()]\n",
    "for i, j in zip(model_name, models_list):\n",
    "    scores = cross_val_score(j, X, y, cv=5)\n",
    "    print(i+\"--\"+ \"Accuracy: %0.2f (+/- %0.2f)\" % (scores.mean(), scores.std() * 2))"
   ]
  },
  {
   "cell_type": "code",
   "execution_count": 22,
   "metadata": {
    "collapsed": true
   },
   "outputs": [],
   "source": [
    "from sklearn.model_selection import KFold"
   ]
  },
  {
   "cell_type": "code",
   "execution_count": 23,
   "metadata": {},
   "outputs": [
    {
     "name": "stdout",
     "output_type": "stream",
     "text": [
      "Linear SVC--Accuracy: 0.15 (+/- 0.17)\n",
      "naive_bayes--Accuracy: 0.20 (+/- 0.24)\n",
      "RandomForestClassifier--Accuracy: 0.42 (+/- 0.40)\n",
      "KNeighborsClassifier--Accuracy: 0.11 (+/- 0.11)\n",
      "GradientBoostingClassifier--Accuracy: 0.63 (+/- 0.66)\n"
     ]
    }
   ],
   "source": [
    "kf=KFold(n_splits=5)\n",
    "model_name=['Linear SVC','naive_bayes','RandomForestClassifier','KNeighborsClassifier','GradientBoostingClassifier']\n",
    "models_list= [LinearSVC(),NB(),RF(),KNN(),GB()]\n",
    "for i, j in zip(model_name, models_list):\n",
    "    scores = cross_val_score(j, X, y, cv=kf)\n",
    "    print(i+\"--\"+ \"Accuracy: %0.2f (+/- %0.2f)\" % (scores.mean(), scores.std() * 2))"
   ]
  },
  {
   "cell_type": "code",
   "execution_count": 24,
   "metadata": {
    "collapsed": true
   },
   "outputs": [],
   "source": [
    "from sklearn.model_selection import StratifiedKFold"
   ]
  },
  {
   "cell_type": "code",
   "execution_count": 25,
   "metadata": {},
   "outputs": [
    {
     "name": "stdout",
     "output_type": "stream",
     "text": [
      "[ 0.49382716  0.48547718  0.42677824  0.43881857  0.33474576]\n",
      "Linear SVC--Accuracy: 0.44 (+/- 0.11)\n",
      "\n",
      "[ 0.07407407  0.08713693  0.12552301  0.13080169  0.16525424]\n",
      "naive_bayes--Accuracy: 0.12 (+/- 0.07)\n",
      "\n",
      "[ 0.49382716  0.82572614  0.76569038  0.77637131  0.40677966]\n",
      "RandomForestClassifier--Accuracy: 0.65 (+/- 0.34)\n",
      "\n",
      "[ 0.32510288  0.32780083  0.28451883  0.26582278  0.27966102]\n",
      "KNeighborsClassifier--Accuracy: 0.30 (+/- 0.05)\n",
      "\n",
      "[ 0.5308642   1.          1.          1.          0.52118644]\n",
      "GradientBoostingClassifier--Accuracy: 0.81 (+/- 0.46)\n",
      "\n"
     ]
    }
   ],
   "source": [
    "skf = StratifiedKFold(n_splits=5)\n",
    "model_name=['Linear SVC','naive_bayes','RandomForestClassifier','KNeighborsClassifier','GradientBoostingClassifier']\n",
    "models_list= [LinearSVC(),NB(),RF(),KNN(),GB()]\n",
    "for i, j in zip(model_name, models_list):\n",
    "    scores = cross_val_score(j, X, y, cv=skf)\n",
    "    print(scores)\n",
    "    print(i+\"--\"+ \"Accuracy: %0.2f (+/- %0.2f)\" % (scores.mean(), scores.std() * 2))\n",
    "    print()"
   ]
  },
  {
   "cell_type": "code",
   "execution_count": 26,
   "metadata": {},
   "outputs": [
    {
     "data": {
      "text/html": [
       "<div>\n",
       "<style>\n",
       "    .dataframe thead tr:only-child th {\n",
       "        text-align: right;\n",
       "    }\n",
       "\n",
       "    .dataframe thead th {\n",
       "        text-align: left;\n",
       "    }\n",
       "\n",
       "    .dataframe tbody tr th {\n",
       "        vertical-align: top;\n",
       "    }\n",
       "</style>\n",
       "<table border=\"1\" class=\"dataframe\">\n",
       "  <thead>\n",
       "    <tr style=\"text-align: right;\">\n",
       "      <th></th>\n",
       "      <th>id</th>\n",
       "      <th>name</th>\n",
       "      <th>display_name</th>\n",
       "      <th>production_budget</th>\n",
       "      <th>production_year</th>\n",
       "      <th>movie_sequel</th>\n",
       "      <th>creative_type</th>\n",
       "      <th>source</th>\n",
       "      <th>production_method</th>\n",
       "      <th>genre</th>\n",
       "      <th>language</th>\n",
       "      <th>board_rating_reason</th>\n",
       "      <th>movie_board_rating_display_name</th>\n",
       "      <th>movie_release_pattern_display_name</th>\n",
       "    </tr>\n",
       "  </thead>\n",
       "  <tbody>\n",
       "    <tr>\n",
       "      <th>0</th>\n",
       "      <td>7970115</td>\n",
       "      <td>Avengers, The (2011)</td>\n",
       "      <td>Marvel's The Avengers</td>\n",
       "      <td>225000000</td>\n",
       "      <td>2012</td>\n",
       "      <td>0</td>\n",
       "      <td>Super Hero</td>\n",
       "      <td>Based on Comic/Graphic Novel</td>\n",
       "      <td>Live Action</td>\n",
       "      <td>Adventure</td>\n",
       "      <td>English</td>\n",
       "      <td>for intense sequences of sci-fi violence and a...</td>\n",
       "      <td>PG-13</td>\n",
       "      <td>Wide</td>\n",
       "    </tr>\n",
       "    <tr>\n",
       "      <th>1</th>\n",
       "      <td>174540115</td>\n",
       "      <td>Dark Knight Rises The</td>\n",
       "      <td>The Dark Knight Rises</td>\n",
       "      <td>0</td>\n",
       "      <td>2012</td>\n",
       "      <td>1</td>\n",
       "      <td>Super Hero</td>\n",
       "      <td>Based on Comic/Graphic Novel</td>\n",
       "      <td>Live Action</td>\n",
       "      <td>Action</td>\n",
       "      <td>English</td>\n",
       "      <td>for intense sequences of violence and action, ...</td>\n",
       "      <td>PG-13</td>\n",
       "      <td>Wide</td>\n",
       "    </tr>\n",
       "    <tr>\n",
       "      <th>2</th>\n",
       "      <td>149080115</td>\n",
       "      <td>Bond 23</td>\n",
       "      <td>Skyfall</td>\n",
       "      <td>200000000</td>\n",
       "      <td>2012</td>\n",
       "      <td>1</td>\n",
       "      <td>Contemporary Fiction</td>\n",
       "      <td>Based on Fiction Book/Short Story</td>\n",
       "      <td>Live Action</td>\n",
       "      <td>Action</td>\n",
       "      <td>English</td>\n",
       "      <td>for intense violent sequences throughout, some...</td>\n",
       "      <td>PG-13</td>\n",
       "      <td>Wide</td>\n",
       "    </tr>\n",
       "    <tr>\n",
       "      <th>3</th>\n",
       "      <td>136020115</td>\n",
       "      <td>Twilight Saga Breaking Dawn Part 2 The</td>\n",
       "      <td>The Twilight Saga: Breaking Dawn, Part 2</td>\n",
       "      <td>136200000</td>\n",
       "      <td>2012</td>\n",
       "      <td>1</td>\n",
       "      <td>Fantasy</td>\n",
       "      <td>Based on Fiction Book/Short Story</td>\n",
       "      <td>Live Action</td>\n",
       "      <td>Drama</td>\n",
       "      <td>English</td>\n",
       "      <td>for sequences of violence including disturbing...</td>\n",
       "      <td>PG-13</td>\n",
       "      <td>Wide</td>\n",
       "    </tr>\n",
       "    <tr>\n",
       "      <th>4</th>\n",
       "      <td>53500115</td>\n",
       "      <td>Hobbit, The</td>\n",
       "      <td>The Hobbit: An Unexpected Journey</td>\n",
       "      <td>270000000</td>\n",
       "      <td>2012</td>\n",
       "      <td>1</td>\n",
       "      <td>Fantasy</td>\n",
       "      <td>Based on Fiction Book/Short Story</td>\n",
       "      <td>Animation/Live Action</td>\n",
       "      <td>Adventure</td>\n",
       "      <td>English</td>\n",
       "      <td>for extended sequences of intense fantasy acti...</td>\n",
       "      <td>PG-13</td>\n",
       "      <td>Wide</td>\n",
       "    </tr>\n",
       "  </tbody>\n",
       "</table>\n",
       "</div>"
      ],
      "text/plain": [
       "          id                                    name  \\\n",
       "0    7970115                    Avengers, The (2011)   \n",
       "1  174540115                   Dark Knight Rises The   \n",
       "2  149080115                                 Bond 23   \n",
       "3  136020115  Twilight Saga Breaking Dawn Part 2 The   \n",
       "4   53500115                             Hobbit, The   \n",
       "\n",
       "                               display_name  production_budget  \\\n",
       "0                     Marvel's The Avengers          225000000   \n",
       "1                     The Dark Knight Rises                  0   \n",
       "2                                   Skyfall          200000000   \n",
       "3  The Twilight Saga: Breaking Dawn, Part 2          136200000   \n",
       "4         The Hobbit: An Unexpected Journey          270000000   \n",
       "\n",
       "   production_year  movie_sequel         creative_type  \\\n",
       "0             2012             0            Super Hero   \n",
       "1             2012             1            Super Hero   \n",
       "2             2012             1  Contemporary Fiction   \n",
       "3             2012             1               Fantasy   \n",
       "4             2012             1               Fantasy   \n",
       "\n",
       "                              source      production_method      genre  \\\n",
       "0       Based on Comic/Graphic Novel            Live Action  Adventure   \n",
       "1       Based on Comic/Graphic Novel            Live Action     Action   \n",
       "2  Based on Fiction Book/Short Story            Live Action     Action   \n",
       "3  Based on Fiction Book/Short Story            Live Action      Drama   \n",
       "4  Based on Fiction Book/Short Story  Animation/Live Action  Adventure   \n",
       "\n",
       "  language                                board_rating_reason  \\\n",
       "0  English  for intense sequences of sci-fi violence and a...   \n",
       "1  English  for intense sequences of violence and action, ...   \n",
       "2  English  for intense violent sequences throughout, some...   \n",
       "3  English  for sequences of violence including disturbing...   \n",
       "4  English  for extended sequences of intense fantasy acti...   \n",
       "\n",
       "  movie_board_rating_display_name movie_release_pattern_display_name  \n",
       "0                           PG-13                               Wide  \n",
       "1                           PG-13                               Wide  \n",
       "2                           PG-13                               Wide  \n",
       "3                           PG-13                               Wide  \n",
       "4                           PG-13                               Wide  "
      ]
     },
     "execution_count": 26,
     "metadata": {},
     "output_type": "execute_result"
    }
   ],
   "source": [
    "test= pd.read_excel(\"Scoringsheet.xlsx\")\n",
    "test.head()"
   ]
  },
  {
   "cell_type": "code",
   "execution_count": 27,
   "metadata": {},
   "outputs": [
    {
     "name": "stdout",
     "output_type": "stream",
     "text": [
      "Shape of scoring data is: (91, 14)\n"
     ]
    }
   ],
   "source": [
    "print(\"Shape of scoring data is:\",test.shape)"
   ]
  },
  {
   "cell_type": "code",
   "execution_count": 28,
   "metadata": {
    "collapsed": true
   },
   "outputs": [],
   "source": [
    "# Drop the columns, which are not present in training data\n",
    "to_drop= [\"id\",\"name\",\"display_name\",\"board_rating_reason\"]\n",
    "test= test.drop(to_drop, axis=1)"
   ]
  },
  {
   "cell_type": "code",
   "execution_count": 29,
   "metadata": {},
   "outputs": [
    {
     "data": {
      "text/html": [
       "<div>\n",
       "<style>\n",
       "    .dataframe thead tr:only-child th {\n",
       "        text-align: right;\n",
       "    }\n",
       "\n",
       "    .dataframe thead th {\n",
       "        text-align: left;\n",
       "    }\n",
       "\n",
       "    .dataframe tbody tr th {\n",
       "        vertical-align: top;\n",
       "    }\n",
       "</style>\n",
       "<table border=\"1\" class=\"dataframe\">\n",
       "  <thead>\n",
       "    <tr style=\"text-align: right;\">\n",
       "      <th></th>\n",
       "      <th>production_budget</th>\n",
       "      <th>production_year</th>\n",
       "      <th>movie_sequel</th>\n",
       "      <th>creative_type</th>\n",
       "      <th>source</th>\n",
       "      <th>production_method</th>\n",
       "      <th>genre</th>\n",
       "      <th>language</th>\n",
       "      <th>movie_board_rating_display_name</th>\n",
       "      <th>movie_release_pattern_display_name</th>\n",
       "    </tr>\n",
       "  </thead>\n",
       "  <tbody>\n",
       "    <tr>\n",
       "      <th>0</th>\n",
       "      <td>225000000</td>\n",
       "      <td>2012</td>\n",
       "      <td>0</td>\n",
       "      <td>Super Hero</td>\n",
       "      <td>Based on Comic/Graphic Novel</td>\n",
       "      <td>Live Action</td>\n",
       "      <td>Adventure</td>\n",
       "      <td>English</td>\n",
       "      <td>PG-13</td>\n",
       "      <td>Wide</td>\n",
       "    </tr>\n",
       "    <tr>\n",
       "      <th>1</th>\n",
       "      <td>0</td>\n",
       "      <td>2012</td>\n",
       "      <td>1</td>\n",
       "      <td>Super Hero</td>\n",
       "      <td>Based on Comic/Graphic Novel</td>\n",
       "      <td>Live Action</td>\n",
       "      <td>Action</td>\n",
       "      <td>English</td>\n",
       "      <td>PG-13</td>\n",
       "      <td>Wide</td>\n",
       "    </tr>\n",
       "    <tr>\n",
       "      <th>2</th>\n",
       "      <td>200000000</td>\n",
       "      <td>2012</td>\n",
       "      <td>1</td>\n",
       "      <td>Contemporary Fiction</td>\n",
       "      <td>Based on Fiction Book/Short Story</td>\n",
       "      <td>Live Action</td>\n",
       "      <td>Action</td>\n",
       "      <td>English</td>\n",
       "      <td>PG-13</td>\n",
       "      <td>Wide</td>\n",
       "    </tr>\n",
       "    <tr>\n",
       "      <th>3</th>\n",
       "      <td>136200000</td>\n",
       "      <td>2012</td>\n",
       "      <td>1</td>\n",
       "      <td>Fantasy</td>\n",
       "      <td>Based on Fiction Book/Short Story</td>\n",
       "      <td>Live Action</td>\n",
       "      <td>Drama</td>\n",
       "      <td>English</td>\n",
       "      <td>PG-13</td>\n",
       "      <td>Wide</td>\n",
       "    </tr>\n",
       "    <tr>\n",
       "      <th>4</th>\n",
       "      <td>270000000</td>\n",
       "      <td>2012</td>\n",
       "      <td>1</td>\n",
       "      <td>Fantasy</td>\n",
       "      <td>Based on Fiction Book/Short Story</td>\n",
       "      <td>Animation/Live Action</td>\n",
       "      <td>Adventure</td>\n",
       "      <td>English</td>\n",
       "      <td>PG-13</td>\n",
       "      <td>Wide</td>\n",
       "    </tr>\n",
       "  </tbody>\n",
       "</table>\n",
       "</div>"
      ],
      "text/plain": [
       "   production_budget  production_year  movie_sequel         creative_type  \\\n",
       "0          225000000             2012             0            Super Hero   \n",
       "1                  0             2012             1            Super Hero   \n",
       "2          200000000             2012             1  Contemporary Fiction   \n",
       "3          136200000             2012             1               Fantasy   \n",
       "4          270000000             2012             1               Fantasy   \n",
       "\n",
       "                              source      production_method      genre  \\\n",
       "0       Based on Comic/Graphic Novel            Live Action  Adventure   \n",
       "1       Based on Comic/Graphic Novel            Live Action     Action   \n",
       "2  Based on Fiction Book/Short Story            Live Action     Action   \n",
       "3  Based on Fiction Book/Short Story            Live Action      Drama   \n",
       "4  Based on Fiction Book/Short Story  Animation/Live Action  Adventure   \n",
       "\n",
       "  language movie_board_rating_display_name movie_release_pattern_display_name  \n",
       "0  English                           PG-13                               Wide  \n",
       "1  English                           PG-13                               Wide  \n",
       "2  English                           PG-13                               Wide  \n",
       "3  English                           PG-13                               Wide  \n",
       "4  English                           PG-13                               Wide  "
      ]
     },
     "execution_count": 29,
     "metadata": {},
     "output_type": "execute_result"
    }
   ],
   "source": [
    "test.head(5)"
   ]
  },
  {
   "cell_type": "code",
   "execution_count": 30,
   "metadata": {
    "collapsed": true
   },
   "outputs": [],
   "source": [
    "for column in test.select_dtypes(include=[np.object]).columns:\n",
    "    test[column] = test[column].astype('category', categories = test[column].unique())"
   ]
  },
  {
   "cell_type": "code",
   "execution_count": 31,
   "metadata": {},
   "outputs": [
    {
     "data": {
      "text/plain": [
       "production_budget                        int64\n",
       "production_year                          int64\n",
       "movie_sequel                             int64\n",
       "creative_type                         category\n",
       "source                                category\n",
       "production_method                     category\n",
       "genre                                 category\n",
       "language                              category\n",
       "movie_board_rating_display_name       category\n",
       "movie_release_pattern_display_name    category\n",
       "dtype: object"
      ]
     },
     "execution_count": 31,
     "metadata": {},
     "output_type": "execute_result"
    }
   ],
   "source": [
    "test.dtypes"
   ]
  },
  {
   "cell_type": "code",
   "execution_count": 32,
   "metadata": {},
   "outputs": [
    {
     "data": {
      "text/plain": [
       "(91, 50)"
      ]
     },
     "execution_count": 32,
     "metadata": {},
     "output_type": "execute_result"
    }
   ],
   "source": [
    "nominal_columns=[\"movie_sequel\",\"creative_type\",\"source\",\"production_method\",\"genre\",\n",
    "                 \"language\",\"movie_board_rating_display_name\",\"movie_release_pattern_display_name\"]\n",
    "test= pd.get_dummies(data=test, columns=nominal_columns)\n",
    "test.shape"
   ]
  },
  {
   "cell_type": "code",
   "execution_count": 33,
   "metadata": {},
   "outputs": [
    {
     "data": {
      "text/plain": [
       "(1196, 77)"
      ]
     },
     "execution_count": 33,
     "metadata": {},
     "output_type": "execute_result"
    }
   ],
   "source": [
    "X.shape"
   ]
  },
  {
   "cell_type": "code",
   "execution_count": 48,
   "metadata": {
    "collapsed": true
   },
   "outputs": [],
   "source": [
    "X_ScoringData=test"
   ]
  },
  {
   "cell_type": "code",
   "execution_count": 52,
   "metadata": {},
   "outputs": [
    {
     "data": {
      "text/plain": [
       "Index(['production_budget', 'production_year', 'movie_sequel_0',\n",
       "       'movie_sequel_1', 'creative_type_Super Hero',\n",
       "       'creative_type_Contemporary Fiction', 'creative_type_Fantasy',\n",
       "       'creative_type_Kids Fiction', 'creative_type_Historical Fiction',\n",
       "       'creative_type_Science Fiction', 'creative_type_Factual',\n",
       "       'creative_type_Dramatization', 'source_Based on Comic/Graphic Novel',\n",
       "       'source_Based on Fiction Book/Short Story',\n",
       "       'source_Original Screenplay', 'source_Based on Factual Book/Article',\n",
       "       'source_Based on Folk Tale/Legend/Fairytale', 'source_Based on Game',\n",
       "       'source_Based on Real Life Events', 'source_Remake',\n",
       "       'source_Based on Play', 'source_Based on TV',\n",
       "       'production_method_Live Action',\n",
       "       'production_method_Animation/Live Action',\n",
       "       'production_method_Digital Animation', 'genre_Adventure',\n",
       "       'genre_Action', 'genre_Drama', 'genre_Comedy',\n",
       "       'genre_Thriller/Suspense', 'genre_Romantic Comedy', 'genre_Horror',\n",
       "       'genre_Documentary', 'genre_Concert/Performance', 'language_English',\n",
       "       'language_Spanish', 'language_Indonesian/Balinese', 'language_Hindi',\n",
       "       'language_French', 'movie_board_rating_display_name_PG-13',\n",
       "       'movie_board_rating_display_name_PG',\n",
       "       'movie_board_rating_display_name_R',\n",
       "       'movie_board_rating_display_name_G',\n",
       "       'movie_board_rating_display_name_Not Rated',\n",
       "       'movie_release_pattern_display_name_Wide',\n",
       "       'movie_release_pattern_display_name_Expands Wide',\n",
       "       'movie_release_pattern_display_name_Limited',\n",
       "       'movie_release_pattern_display_name_IMAX',\n",
       "       'movie_release_pattern_display_name_Exclusive',\n",
       "       'movie_release_pattern_display_name_Special Engagement'],\n",
       "      dtype='object')"
      ]
     },
     "execution_count": 52,
     "metadata": {},
     "output_type": "execute_result"
    }
   ],
   "source": [
    "X_ScoringData.columns"
   ]
  },
  {
   "cell_type": "code",
   "execution_count": 56,
   "metadata": {},
   "outputs": [
    {
     "data": {
      "text/plain": [
       "Index(['production_year', 'total', 'Category', 'movie_sequel_0',\n",
       "       'movie_sequel_1', 'creative_type_Science Fiction',\n",
       "       'creative_type_Fantasy', 'creative_type_Kids Fiction',\n",
       "       'creative_type_Super Hero', 'creative_type_Historical Fiction',\n",
       "       'creative_type_Contemporary Fiction', 'creative_type_Dramatization',\n",
       "       'creative_type_Factual', 'creative_type_Multiple Creative Types',\n",
       "       'source_Original Screenplay',\n",
       "       'source_Based on Fiction Book/Short Story', 'source_Based on TV',\n",
       "       'source_Based on Theme Park Ride',\n",
       "       'source_Based on Comic/Graphic Novel',\n",
       "       'source_Based on Factual Book/Article',\n",
       "       'source_Based on Musical or Opera',\n",
       "       'source_Based on Folk Tale/Legend/Fairytale', 'source_Spin-Off',\n",
       "       'source_Remake', 'source_Based on Game', 'source_Based on Toy',\n",
       "       'source_Based on Real Life Events', 'source_Based on Short Film',\n",
       "       'source_Based on Play', 'source_Compilation',\n",
       "       'production_method_Animation/Live Action',\n",
       "       'production_method_Digital Animation', 'production_method_Live Action',\n",
       "       'production_method_Hand Animation',\n",
       "       'production_method_Stop-Motion Animation',\n",
       "       'production_method_Multiple Production Methods', 'genre_Action',\n",
       "       'genre_Adventure', 'genre_Thriller/Suspense', 'genre_Drama',\n",
       "       'genre_Comedy', 'genre_Musical', 'genre_Horror',\n",
       "       'genre_Romantic Comedy', 'genre_Western', 'genre_Documentary',\n",
       "       'genre_Black Comedy', 'genre_Concert/Performance',\n",
       "       'genre_Multiple Genres', 'language_English', 'language_French',\n",
       "       'language_Japanese', 'language_Silent', 'language_Swedish',\n",
       "       'language_Hindi', 'language_Spanish', 'language_Farsi',\n",
       "       'language_Arabic', 'language_German', 'language_Portuguese',\n",
       "       'language_Polish', 'language_Danish', 'language_Italian',\n",
       "       'language_Hebrew', 'language_Norwegian',\n",
       "       'movie_board_rating_display_name_PG-13',\n",
       "       'movie_board_rating_display_name_G',\n",
       "       'movie_board_rating_display_name_PG',\n",
       "       'movie_board_rating_display_name_R',\n",
       "       'movie_board_rating_display_name_Not Rated',\n",
       "       'movie_board_rating_display_name_NC-17',\n",
       "       'movie_release_pattern_display_name_Wide',\n",
       "       'movie_release_pattern_display_name_Expands Wide',\n",
       "       'movie_release_pattern_display_name_Limited',\n",
       "       'movie_release_pattern_display_name_Exclusive',\n",
       "       'movie_release_pattern_display_name_IMAX',\n",
       "       'movie_release_pattern_display_name_Special Engagement',\n",
       "       'movie_release_pattern_display_name_Oscar Qualifying Run'],\n",
       "      dtype='object')"
      ]
     },
     "execution_count": 56,
     "metadata": {},
     "output_type": "execute_result"
    }
   ],
   "source": [
    "df.columns"
   ]
  },
  {
   "cell_type": "code",
   "execution_count": 58,
   "metadata": {
    "collapsed": true
   },
   "outputs": [],
   "source": [
    "feature_difference = set(df.columns) - set(X_ScoringData.columns)\n",
    "feature_difference_df = None\n",
    "if(len(list(feature_difference))>0):\n",
    "    feature_difference_df = pd.DataFrame(data=np.zeros((X_ScoringData.shape[0], len(feature_difference))),\n",
    "                                     columns=list(feature_difference))\n",
    "    '''\n",
    "    \n",
    "for c in feature_difference:\n",
    "    X_ScoringData[c] = 0\n",
    "# Ensure the order of column in the test set is in the same order than in train set\n",
    "    X_ScoringData = X_ScoringData[X.columns]'''"
   ]
  },
  {
   "cell_type": "code",
   "execution_count": 71,
   "metadata": {},
   "outputs": [
    {
     "data": {
      "text/plain": [
       "Index(['production_year', 'movie_sequel_0', 'movie_sequel_1',\n",
       "       'creative_type_Super Hero', 'creative_type_Contemporary Fiction',\n",
       "       'creative_type_Fantasy', 'creative_type_Kids Fiction',\n",
       "       'creative_type_Historical Fiction', 'creative_type_Science Fiction',\n",
       "       'creative_type_Factual', 'creative_type_Dramatization',\n",
       "       'source_Based on Comic/Graphic Novel',\n",
       "       'source_Based on Fiction Book/Short Story',\n",
       "       'source_Original Screenplay', 'source_Based on Factual Book/Article',\n",
       "       'source_Based on Folk Tale/Legend/Fairytale', 'source_Based on Game',\n",
       "       'source_Based on Real Life Events', 'source_Remake',\n",
       "       'source_Based on Play', 'source_Based on TV',\n",
       "       'production_method_Live Action',\n",
       "       'production_method_Animation/Live Action',\n",
       "       'production_method_Digital Animation', 'genre_Adventure',\n",
       "       'genre_Action', 'genre_Drama', 'genre_Comedy',\n",
       "       'genre_Thriller/Suspense', 'genre_Romantic Comedy', 'genre_Horror',\n",
       "       'genre_Documentary', 'genre_Concert/Performance', 'language_English',\n",
       "       'language_Spanish', 'language_Indonesian/Balinese', 'language_Hindi',\n",
       "       'language_French', 'movie_board_rating_display_name_PG-13',\n",
       "       'movie_board_rating_display_name_PG',\n",
       "       'movie_board_rating_display_name_R',\n",
       "       'movie_board_rating_display_name_G',\n",
       "       'movie_board_rating_display_name_Not Rated',\n",
       "       'movie_release_pattern_display_name_Wide',\n",
       "       'movie_release_pattern_display_name_Expands Wide',\n",
       "       'movie_release_pattern_display_name_Limited',\n",
       "       'movie_release_pattern_display_name_IMAX',\n",
       "       'movie_release_pattern_display_name_Exclusive',\n",
       "       'movie_release_pattern_display_name_Special Engagement'],\n",
       "      dtype='object')"
      ]
     },
     "execution_count": 71,
     "metadata": {},
     "output_type": "execute_result"
    }
   ],
   "source": [
    "df.columns"
   ]
  },
  {
   "cell_type": "code",
   "execution_count": 70,
   "metadata": {},
   "outputs": [
    {
     "data": {
      "text/plain": [
       "Index(['production_budget', 'production_year', 'movie_sequel_0',\n",
       "       'movie_sequel_1', 'creative_type_Super Hero',\n",
       "       'creative_type_Contemporary Fiction', 'creative_type_Fantasy',\n",
       "       'creative_type_Kids Fiction', 'creative_type_Historical Fiction',\n",
       "       'creative_type_Science Fiction', 'creative_type_Factual',\n",
       "       'creative_type_Dramatization', 'source_Based on Comic/Graphic Novel',\n",
       "       'source_Based on Fiction Book/Short Story',\n",
       "       'source_Original Screenplay', 'source_Based on Factual Book/Article',\n",
       "       'source_Based on Folk Tale/Legend/Fairytale', 'source_Based on Game',\n",
       "       'source_Based on Real Life Events', 'source_Remake',\n",
       "       'source_Based on Play', 'source_Based on TV',\n",
       "       'production_method_Live Action',\n",
       "       'production_method_Animation/Live Action',\n",
       "       'production_method_Digital Animation', 'genre_Adventure',\n",
       "       'genre_Action', 'genre_Drama', 'genre_Comedy',\n",
       "       'genre_Thriller/Suspense', 'genre_Romantic Comedy', 'genre_Horror',\n",
       "       'genre_Documentary', 'genre_Concert/Performance', 'language_English',\n",
       "       'language_Spanish', 'language_Indonesian/Balinese', 'language_Hindi',\n",
       "       'language_French', 'movie_board_rating_display_name_PG-13',\n",
       "       'movie_board_rating_display_name_PG',\n",
       "       'movie_board_rating_display_name_R',\n",
       "       'movie_board_rating_display_name_G',\n",
       "       'movie_board_rating_display_name_Not Rated',\n",
       "       'movie_release_pattern_display_name_Wide',\n",
       "       'movie_release_pattern_display_name_Expands Wide',\n",
       "       'movie_release_pattern_display_name_Limited',\n",
       "       'movie_release_pattern_display_name_IMAX',\n",
       "       'movie_release_pattern_display_name_Exclusive',\n",
       "       'movie_release_pattern_display_name_Special Engagement'],\n",
       "      dtype='object')"
      ]
     },
     "execution_count": 70,
     "metadata": {},
     "output_type": "execute_result"
    }
   ],
   "source": [
    "X_ScoringData.columns"
   ]
  },
  {
   "cell_type": "code",
   "execution_count": 67,
   "metadata": {
    "collapsed": true
   },
   "outputs": [],
   "source": [
    "for column in X_ScoringData:\n",
    "    if(column not in df.columns):\n",
    "        df= X_ScoringData.drop([column],axis=1)"
   ]
  },
  {
   "cell_type": "code",
   "execution_count": 72,
   "metadata": {},
   "outputs": [
    {
     "name": "stdout",
     "output_type": "stream",
     "text": [
      "Shape of training data X: (91, 49)\n",
      "Shape of Scoring data X_scoringData: (91, 50)\n"
     ]
    }
   ],
   "source": [
    "print(\"Shape of training data X:\",df.shape)\n",
    "print(\"Shape of Scoring data X_scoringData:\",X_ScoringData.shape)"
   ]
  },
  {
   "cell_type": "code",
   "execution_count": null,
   "metadata": {
    "collapsed": true
   },
   "outputs": [],
   "source": []
  }
 ],
 "metadata": {
  "kernelspec": {
   "display_name": "Python 3",
   "language": "python",
   "name": "python3"
  },
  "language_info": {
   "codemirror_mode": {
    "name": "ipython",
    "version": 3
   },
   "file_extension": ".py",
   "mimetype": "text/x-python",
   "name": "python",
   "nbconvert_exporter": "python",
   "pygments_lexer": "ipython3",
   "version": "3.6.2"
  }
 },
 "nbformat": 4,
 "nbformat_minor": 2
}
