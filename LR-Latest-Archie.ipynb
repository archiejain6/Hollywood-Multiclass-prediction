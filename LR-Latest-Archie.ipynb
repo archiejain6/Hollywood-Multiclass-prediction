{
 "cells": [
  {
   "cell_type": "code",
   "execution_count": 43,
   "metadata": {},
   "outputs": [],
   "source": [
    "import numpy as np\n",
    "import pandas as pd\n",
    "import pyodbc as odbc \n",
    "import matplotlib.pyplot as plt\n",
    "from pandas.plotting import scatter_matrix\n",
    "from sklearn import preprocessing\n",
    "from sklearn.metrics import accuracy_score\n",
    "from sklearn.linear_model import LogisticRegression"
   ]
  },
  {
   "cell_type": "code",
   "execution_count": 44,
   "metadata": {},
   "outputs": [],
   "source": [
    "import tensorflow as tf\n",
    "from tensorflow import keras"
   ]
  },
  {
   "cell_type": "code",
   "execution_count": 45,
   "metadata": {},
   "outputs": [],
   "source": [
    "def get_imlist(path):\n",
    "    return[os.path.join(path,f) for f in os.listdir(path) if f.endswith('.jpg')]\n",
    "\n",
    "def plot_2d_space(X, y, label='Classes'):   \n",
    "    colors = ['#1F77B4', '#FF7F0E']\n",
    "    markers = ['o', 's']\n",
    "    for l, c, m in zip(np.unique(y), colors, markers):\n",
    "        plt.scatter(\n",
    "            X[y==l, 0],\n",
    "            X[y==l, 1],\n",
    "            c=c, label=l, marker=m\n",
    "        )\n",
    "    plt.title(label)\n",
    "    plt.legend(loc='upper right')\n",
    "    plt.show()"
   ]
  },
  {
   "cell_type": "code",
   "execution_count": 46,
   "metadata": {},
   "outputs": [],
   "source": [
    "def getDataSet(sql):\n",
    "    try:\n",
    "        connection = odbc.connect(\"Driver={SQL Server};Server=EMIRDEV;Database=HDW_EMIR;Trusted_Connection=yes\")\n",
    "        df = pd.read_sql(sql, connection)\n",
    "    except e:\n",
    "        print(e)\n",
    "    finally:\n",
    "        connection.close()\n",
    "    return df\n"
   ]
  },
  {
   "cell_type": "code",
   "execution_count": 49,
   "metadata": {},
   "outputs": [],
   "source": [
    "sql = '''SELECT \n",
    "       [DurableKey]\n",
    "      ,[PatientEpicId]\n",
    "      ,[PostalCode]\n",
    "      ,[CITY]\n",
    "      ,[Zip6County]\n",
    "      ,[Sex]\n",
    "      ,[FirstRace]\n",
    "      ,[PreferredLanguage]\n",
    "      ,[Age]\n",
    "      ,[HouseholdMedianIncome]\n",
    "      ,[AgeGroup]\n",
    "      ,[Insurance]\n",
    "      ,[InsuranceType]\n",
    "      ,[AdmitsCount]\n",
    "      ,[LOS]\n",
    "      ,[ERCount]\n",
    "      ,[AnyMalignancyFlag]\n",
    "      ,[CerebrovascularDiseaseFlag]\n",
    "      ,[ChronicPulmonaryDiseaseFlag]\n",
    "      ,[CongestiveHeartFailureFlag]\n",
    "      ,[DementiaFlag]\n",
    "      ,[DiabetesWithChronicComplicationFlag]\n",
    "      ,[DiabetesWithoutChronicComplicationFlag]\n",
    "      ,[MetastaticSolidTumorFlag]\n",
    "      ,[ModerateOrSevereLiverDiseaseFlag]\n",
    "      ,[PepticUlcerDiseaseFlag]\n",
    "      ,[RenalDiseaseFlag]\n",
    "      ,[PeripheralVascularDiseaseFlag]\n",
    "      ,[RheumaticDiseaseFlag]\n",
    "      ,[Obesity]\n",
    "      ,[HTN]\n",
    "      ,[Medications]\n",
    "      ,[Charges2014]\n",
    "      ,[Charges2015]\n",
    "      ,[Charges2016]\n",
    "      ,[Charges2017]\n",
    "      ,[Visits]\n",
    "      ,[NoShow]\n",
    "      ,[SocialDeterminantRiskFlag]\n",
    "      ,[MaritalStatus]\n",
    "      ,[RACE-Ethnicity]\n",
    "      ,[HighCost_10Percent_Actual]\n",
    "     , CASE\n",
    "\tWHEN ISNULL(Visits,0) > 5\n",
    "\tTHEN 1\n",
    "\tELSE 0\n",
    "END AS [EngagementVisits],\n",
    "CASE\n",
    "\tWHEN PCPDepartment IN ('*Unspecified', 'HFHS EXTERNAL PROVIDERS')\n",
    "\tTHEN 0\n",
    "\tELSE 1\n",
    "END AS [EngagementPCP],\n",
    " CASE\n",
    "\tWHEN Zip6County = 'Yes'\n",
    "\tTHEN 1\n",
    "\tELSE 0\n",
    "END AS [EngagementZip],\n",
    "[No of Diagnosis]\n",
    "\n",
    "\n",
    "  FROM [ML].[PatientClustering_Phase3_Features2016]\n",
    "  where Charges2017<>0 \n",
    "  and Charges2016<>0 \n",
    "  and Charges2013<>0 \n",
    "  and Charges2014<>0 \n",
    "  and Charges2015<>0 \n",
    "  and Charges2017<900000 \n",
    "  and AnyMalignancyFlag=0 AND MetastaticSolidTumorFlag=0 \n",
    "  and\n",
    "  RenalDiseaseFlag=0 \n",
    "          '''"
   ]
  },
  {
   "cell_type": "code",
   "execution_count": 53,
   "metadata": {},
   "outputs": [
    {
     "ename": "NameError",
     "evalue": "name 'e' is not defined",
     "output_type": "error",
     "traceback": [
      "\u001b[1;31m---------------------------------------------------------------------------\u001b[0m",
      "\u001b[1;31mProgrammingError\u001b[0m                          Traceback (most recent call last)",
      "\u001b[1;32mD:\\ProgramData\\Anaconda3\\lib\\site-packages\\pandas\\io\\sql.py\u001b[0m in \u001b[0;36mexecute\u001b[1;34m(self, *args, **kwargs)\u001b[0m\n\u001b[0;32m   1399\u001b[0m             \u001b[1;32melse\u001b[0m\u001b[1;33m:\u001b[0m\u001b[1;33m\u001b[0m\u001b[0m\n\u001b[1;32m-> 1400\u001b[1;33m                 \u001b[0mcur\u001b[0m\u001b[1;33m.\u001b[0m\u001b[0mexecute\u001b[0m\u001b[1;33m(\u001b[0m\u001b[1;33m*\u001b[0m\u001b[0margs\u001b[0m\u001b[1;33m)\u001b[0m\u001b[1;33m\u001b[0m\u001b[0m\n\u001b[0m\u001b[0;32m   1401\u001b[0m             \u001b[1;32mreturn\u001b[0m \u001b[0mcur\u001b[0m\u001b[1;33m\u001b[0m\u001b[0m\n",
      "\u001b[1;31mProgrammingError\u001b[0m: ('42000', \"[42000] [Microsoft][ODBC SQL Server Driver][SQL Server]The SELECT permission was denied on the object 'PatientClustering_Phase3_Features2016', database 'HDW_EMIR', schema 'ML'. (229) (SQLExecDirectW)\")",
      "\nDuring handling of the above exception, another exception occurred:\n",
      "\u001b[1;31mDatabaseError\u001b[0m                             Traceback (most recent call last)",
      "\u001b[1;32m<ipython-input-46-efe27b7c9a9a>\u001b[0m in \u001b[0;36mgetDataSet\u001b[1;34m(sql)\u001b[0m\n\u001b[0;32m      3\u001b[0m         \u001b[0mconnection\u001b[0m \u001b[1;33m=\u001b[0m \u001b[0modbc\u001b[0m\u001b[1;33m.\u001b[0m\u001b[0mconnect\u001b[0m\u001b[1;33m(\u001b[0m\u001b[1;34m\"Driver={SQL Server};Server=EMIRDEV;Database=HDW_EMIR;Trusted_Connection=yes\"\u001b[0m\u001b[1;33m)\u001b[0m\u001b[1;33m\u001b[0m\u001b[0m\n\u001b[1;32m----> 4\u001b[1;33m         \u001b[0mdf\u001b[0m \u001b[1;33m=\u001b[0m \u001b[0mpd\u001b[0m\u001b[1;33m.\u001b[0m\u001b[0mread_sql\u001b[0m\u001b[1;33m(\u001b[0m\u001b[0msql\u001b[0m\u001b[1;33m,\u001b[0m \u001b[0mconnection\u001b[0m\u001b[1;33m)\u001b[0m\u001b[1;33m\u001b[0m\u001b[0m\n\u001b[0m\u001b[0;32m      5\u001b[0m     \u001b[1;32mexcept\u001b[0m \u001b[0me\u001b[0m\u001b[1;33m:\u001b[0m\u001b[1;33m\u001b[0m\u001b[0m\n",
      "\u001b[1;32mD:\\ProgramData\\Anaconda3\\lib\\site-packages\\pandas\\io\\sql.py\u001b[0m in \u001b[0;36mread_sql\u001b[1;34m(sql, con, index_col, coerce_float, params, parse_dates, columns, chunksize)\u001b[0m\n\u001b[0;32m    380\u001b[0m             \u001b[0mcoerce_float\u001b[0m\u001b[1;33m=\u001b[0m\u001b[0mcoerce_float\u001b[0m\u001b[1;33m,\u001b[0m \u001b[0mparse_dates\u001b[0m\u001b[1;33m=\u001b[0m\u001b[0mparse_dates\u001b[0m\u001b[1;33m,\u001b[0m\u001b[1;33m\u001b[0m\u001b[0m\n\u001b[1;32m--> 381\u001b[1;33m             chunksize=chunksize)\n\u001b[0m\u001b[0;32m    382\u001b[0m \u001b[1;33m\u001b[0m\u001b[0m\n",
      "\u001b[1;32mD:\\ProgramData\\Anaconda3\\lib\\site-packages\\pandas\\io\\sql.py\u001b[0m in \u001b[0;36mread_query\u001b[1;34m(self, sql, index_col, coerce_float, params, parse_dates, chunksize)\u001b[0m\n\u001b[0;32m   1434\u001b[0m         \u001b[0margs\u001b[0m \u001b[1;33m=\u001b[0m \u001b[0m_convert_params\u001b[0m\u001b[1;33m(\u001b[0m\u001b[0msql\u001b[0m\u001b[1;33m,\u001b[0m \u001b[0mparams\u001b[0m\u001b[1;33m)\u001b[0m\u001b[1;33m\u001b[0m\u001b[0m\n\u001b[1;32m-> 1435\u001b[1;33m         \u001b[0mcursor\u001b[0m \u001b[1;33m=\u001b[0m \u001b[0mself\u001b[0m\u001b[1;33m.\u001b[0m\u001b[0mexecute\u001b[0m\u001b[1;33m(\u001b[0m\u001b[1;33m*\u001b[0m\u001b[0margs\u001b[0m\u001b[1;33m)\u001b[0m\u001b[1;33m\u001b[0m\u001b[0m\n\u001b[0m\u001b[0;32m   1436\u001b[0m         \u001b[0mcolumns\u001b[0m \u001b[1;33m=\u001b[0m \u001b[1;33m[\u001b[0m\u001b[0mcol_desc\u001b[0m\u001b[1;33m[\u001b[0m\u001b[1;36m0\u001b[0m\u001b[1;33m]\u001b[0m \u001b[1;32mfor\u001b[0m \u001b[0mcol_desc\u001b[0m \u001b[1;32min\u001b[0m \u001b[0mcursor\u001b[0m\u001b[1;33m.\u001b[0m\u001b[0mdescription\u001b[0m\u001b[1;33m]\u001b[0m\u001b[1;33m\u001b[0m\u001b[0m\n",
      "\u001b[1;32mD:\\ProgramData\\Anaconda3\\lib\\site-packages\\pandas\\io\\sql.py\u001b[0m in \u001b[0;36mexecute\u001b[1;34m(self, *args, **kwargs)\u001b[0m\n\u001b[0;32m   1411\u001b[0m                 \"Execution failed on sql '%s': %s\" % (args[0], exc))\n\u001b[1;32m-> 1412\u001b[1;33m             \u001b[0mraise_with_traceback\u001b[0m\u001b[1;33m(\u001b[0m\u001b[0mex\u001b[0m\u001b[1;33m)\u001b[0m\u001b[1;33m\u001b[0m\u001b[0m\n\u001b[0m\u001b[0;32m   1413\u001b[0m \u001b[1;33m\u001b[0m\u001b[0m\n",
      "\u001b[1;32mD:\\ProgramData\\Anaconda3\\lib\\site-packages\\pandas\\compat\\__init__.py\u001b[0m in \u001b[0;36mraise_with_traceback\u001b[1;34m(exc, traceback)\u001b[0m\n\u001b[0;32m    402\u001b[0m             \u001b[0m_\u001b[0m\u001b[1;33m,\u001b[0m \u001b[0m_\u001b[0m\u001b[1;33m,\u001b[0m \u001b[0mtraceback\u001b[0m \u001b[1;33m=\u001b[0m \u001b[0msys\u001b[0m\u001b[1;33m.\u001b[0m\u001b[0mexc_info\u001b[0m\u001b[1;33m(\u001b[0m\u001b[1;33m)\u001b[0m\u001b[1;33m\u001b[0m\u001b[0m\n\u001b[1;32m--> 403\u001b[1;33m         \u001b[1;32mraise\u001b[0m \u001b[0mexc\u001b[0m\u001b[1;33m.\u001b[0m\u001b[0mwith_traceback\u001b[0m\u001b[1;33m(\u001b[0m\u001b[0mtraceback\u001b[0m\u001b[1;33m)\u001b[0m\u001b[1;33m\u001b[0m\u001b[0m\n\u001b[0m\u001b[0;32m    404\u001b[0m \u001b[1;32melse\u001b[0m\u001b[1;33m:\u001b[0m\u001b[1;33m\u001b[0m\u001b[0m\n",
      "\u001b[1;32mD:\\ProgramData\\Anaconda3\\lib\\site-packages\\pandas\\io\\sql.py\u001b[0m in \u001b[0;36mexecute\u001b[1;34m(self, *args, **kwargs)\u001b[0m\n\u001b[0;32m   1399\u001b[0m             \u001b[1;32melse\u001b[0m\u001b[1;33m:\u001b[0m\u001b[1;33m\u001b[0m\u001b[0m\n\u001b[1;32m-> 1400\u001b[1;33m                 \u001b[0mcur\u001b[0m\u001b[1;33m.\u001b[0m\u001b[0mexecute\u001b[0m\u001b[1;33m(\u001b[0m\u001b[1;33m*\u001b[0m\u001b[0margs\u001b[0m\u001b[1;33m)\u001b[0m\u001b[1;33m\u001b[0m\u001b[0m\n\u001b[0m\u001b[0;32m   1401\u001b[0m             \u001b[1;32mreturn\u001b[0m \u001b[0mcur\u001b[0m\u001b[1;33m\u001b[0m\u001b[0m\n",
      "\u001b[1;31mDatabaseError\u001b[0m: Execution failed on sql 'SELECT \n       [DurableKey]\n      ,[PatientEpicId]\n      ,[PostalCode]\n      ,[CITY]\n      ,[Zip6County]\n      ,[Sex]\n      ,[FirstRace]\n      ,[PreferredLanguage]\n      ,[Age]\n      ,[HouseholdMedianIncome]\n      ,[AgeGroup]\n      ,[Insurance]\n      ,[InsuranceType]\n      ,[AdmitsCount]\n      ,[LOS]\n      ,[ERCount]\n      ,[AnyMalignancyFlag]\n      ,[CerebrovascularDiseaseFlag]\n      ,[ChronicPulmonaryDiseaseFlag]\n      ,[CongestiveHeartFailureFlag]\n      ,[DementiaFlag]\n      ,[DiabetesWithChronicComplicationFlag]\n      ,[DiabetesWithoutChronicComplicationFlag]\n      ,[MetastaticSolidTumorFlag]\n      ,[ModerateOrSevereLiverDiseaseFlag]\n      ,[PepticUlcerDiseaseFlag]\n      ,[RenalDiseaseFlag]\n      ,[PeripheralVascularDiseaseFlag]\n      ,[RheumaticDiseaseFlag]\n      ,[Obesity]\n      ,[HTN]\n      ,[Medications]\n      ,[Charges2014]\n      ,[Charges2015]\n      ,[Charges2016]\n      ,[Charges2017]\n      ,[Visits]\n      ,[NoShow]\n      ,[SocialDeterminantRiskFlag]\n      ,[MaritalStatus]\n      ,[RACE-Ethnicity]\n      ,[HighCost_10Percent_Actual]\n     , CASE\n\tWHEN ISNULL(Visits,0) > 5\n\tTHEN 1\n\tELSE 0\nEND AS [EngagementVisits],\nCASE\n\tWHEN PCPDepartment IN ('*Unspecified', 'HFHS EXTERNAL PROVIDERS')\n\tTHEN 0\n\tELSE 1\nEND AS [EngagementPCP],\n CASE\n\tWHEN Zip6County = 'Yes'\n\tTHEN 1\n\tELSE 0\nEND AS [EngagementZip],\n[No of Diagnosis]\n\n\n  FROM [ML].[PatientClustering_Phase3_Features2016]\n  where Charges2017<>0 \n  and Charges2016<>0 \n  and Charges2013<>0 \n  and Charges2014<>0 \n  and Charges2015<>0 \n  and Charges2017<900000 \n  and AnyMalignancyFlag=0 AND MetastaticSolidTumorFlag=0 \n  and\n  RenalDiseaseFlag=0 \n          ': ('42000', \"[42000] [Microsoft][ODBC SQL Server Driver][SQL Server]The SELECT permission was denied on the object 'PatientClustering_Phase3_Features2016', database 'HDW_EMIR', schema 'ML'. (229) (SQLExecDirectW)\")",
      "\nDuring handling of the above exception, another exception occurred:\n",
      "\u001b[1;31mNameError\u001b[0m                                 Traceback (most recent call last)",
      "\u001b[1;32m<ipython-input-53-2ac9d3f2fef4>\u001b[0m in \u001b[0;36m<module>\u001b[1;34m()\u001b[0m\n\u001b[1;32m----> 1\u001b[1;33m \u001b[0mtrainset\u001b[0m \u001b[1;33m=\u001b[0m \u001b[0mgetDataSet\u001b[0m\u001b[1;33m(\u001b[0m\u001b[0msql\u001b[0m\u001b[1;33m)\u001b[0m\u001b[1;33m\u001b[0m\u001b[0m\n\u001b[0m",
      "\u001b[1;32m<ipython-input-46-efe27b7c9a9a>\u001b[0m in \u001b[0;36mgetDataSet\u001b[1;34m(sql)\u001b[0m\n\u001b[0;32m      3\u001b[0m         \u001b[0mconnection\u001b[0m \u001b[1;33m=\u001b[0m \u001b[0modbc\u001b[0m\u001b[1;33m.\u001b[0m\u001b[0mconnect\u001b[0m\u001b[1;33m(\u001b[0m\u001b[1;34m\"Driver={SQL Server};Server=EMIRDEV;Database=HDW_EMIR;Trusted_Connection=yes\"\u001b[0m\u001b[1;33m)\u001b[0m\u001b[1;33m\u001b[0m\u001b[0m\n\u001b[0;32m      4\u001b[0m         \u001b[0mdf\u001b[0m \u001b[1;33m=\u001b[0m \u001b[0mpd\u001b[0m\u001b[1;33m.\u001b[0m\u001b[0mread_sql\u001b[0m\u001b[1;33m(\u001b[0m\u001b[0msql\u001b[0m\u001b[1;33m,\u001b[0m \u001b[0mconnection\u001b[0m\u001b[1;33m)\u001b[0m\u001b[1;33m\u001b[0m\u001b[0m\n\u001b[1;32m----> 5\u001b[1;33m     \u001b[1;32mexcept\u001b[0m \u001b[0me\u001b[0m\u001b[1;33m:\u001b[0m\u001b[1;33m\u001b[0m\u001b[0m\n\u001b[0m\u001b[0;32m      6\u001b[0m         \u001b[0mprint\u001b[0m\u001b[1;33m(\u001b[0m\u001b[0me\u001b[0m\u001b[1;33m)\u001b[0m\u001b[1;33m\u001b[0m\u001b[0m\n\u001b[0;32m      7\u001b[0m     \u001b[1;32mfinally\u001b[0m\u001b[1;33m:\u001b[0m\u001b[1;33m\u001b[0m\u001b[0m\n",
      "\u001b[1;31mNameError\u001b[0m: name 'e' is not defined"
     ]
    }
   ],
   "source": [
    "trainset = getDataSet(sql)"
   ]
  },
  {
   "cell_type": "code",
   "execution_count": 51,
   "metadata": {},
   "outputs": [],
   "source": [
    "def cleanDataSet(df):\n",
    "    file= df.drop(['PatientEpicId',\n",
    "                'DurableKey',\n",
    "                'AgeGroup',\n",
    "                'InsuranceType',\n",
    "                'Charges2017',\n",
    "                   #'Charges2014',\n",
    "                   #'Charges2015',\n",
    "                   #'Charges2016',   \n",
    "                'NoShow',\n",
    "                'PostalCode',\n",
    "                'Zip6County'\n",
    "                ,'FirstRace',\n",
    "                'PreferredLanguage',\n",
    "                   #'HouseholdMedianIncome',\n",
    "                   #'MaritalStatus',\n",
    "                   #'RACE-Ethnicity',\n",
    "                'CITY',\n",
    "                'AnyMalignancyFlag',\n",
    "                     'DiabetesWithChronicComplicationFlag',\n",
    "                     'MetastaticSolidTumorFlag',\n",
    "                     'PepticUlcerDiseaseFlag',\n",
    "                   #'ModerateOrSevereLiverDiseaseFlag',\n",
    "                  'RenalDiseaseFlag',\n",
    "                   'CerebrovascularDiseaseFlag',\n",
    "                   #'DementiaFlag',\n",
    "                   #'PeripheralVascularDiseaseFlag',\n",
    "                   #'RheumaticDiseaseFlag'\n",
    "                   \n",
    "                   \n",
    "                  ], axis = 1)\n",
    "    return file\n",
    "    "
   ]
  },
  {
   "cell_type": "code",
   "execution_count": 168,
   "metadata": {},
   "outputs": [],
   "source": [
    "file = cleanDataSet(trainset)"
   ]
  },
  {
   "cell_type": "code",
   "execution_count": 169,
   "metadata": {},
   "outputs": [],
   "source": [
    "file = file[np.isfinite(file['Age'])]"
   ]
  },
  {
   "cell_type": "code",
   "execution_count": 170,
   "metadata": {},
   "outputs": [],
   "source": [
    "def imputefeature(feature,df,method,missing_values):\n",
    "    from sklearn.preprocessing import Imputer\n",
    "    imputer = Imputer(missing_values=missing_values,strategy=method,axis=0)\n",
    "    imputer = imputer.fit(df.iloc[:,df.columns.get_loc(feature):df.columns.get_loc(feature)+1])\n",
    "    df.iloc[:,df.columns.get_loc(feature):df.columns.get_loc(feature)+1] = imputer.transform(df.iloc[:,df.columns.get_loc(feature):df.columns.get_loc(feature)+1]);\n",
    "    return df;"
   ]
  },
  {
   "cell_type": "code",
   "execution_count": 171,
   "metadata": {},
   "outputs": [],
   "source": [
    "file = imputefeature('HouseholdMedianIncome',file,'mean','NaN')\n",
    "file = imputefeature('SocialDeterminantRiskFlag',file,'most_frequent','NaN')"
   ]
  },
  {
   "cell_type": "code",
   "execution_count": 105,
   "metadata": {},
   "outputs": [],
   "source": [
    "#nan_rows = file[file['HouseholdMedianIncome'].isnull()]\n",
    "#nan_rows"
   ]
  },
  {
   "cell_type": "code",
   "execution_count": 106,
   "metadata": {},
   "outputs": [],
   "source": [
    "#nan_rows = file[file['RACE-Ethnicity'].isnull()]\n",
    "#nan_rows"
   ]
  },
  {
   "cell_type": "code",
   "execution_count": 172,
   "metadata": {},
   "outputs": [],
   "source": [
    "file_1 = file.drop(['HighCost_10Percent_Actual'],axis =1)\n",
    "file_cat = pd.get_dummies(file_1, prefix=[ \n",
    "    'Sex',\n",
    "    'Insurance',\n",
    "    #'CITY',\n",
    "    'RACE-Ethnicity',\n",
    "    #'AgeGroup',\n",
    "    'MaritalStatus'\n",
    "], columns=\n",
    "                          [ \n",
    "                              'Sex',\n",
    "                              'Insurance',\n",
    "                              #'AgeGroup',\n",
    "                              #'CITY'\n",
    "                              'RACE-Ethnicity',\n",
    "                              'MaritalStatus'\n",
    "                          ])\n",
    "#file_cat =file_1"
   ]
  },
  {
   "cell_type": "code",
   "execution_count": null,
   "metadata": {},
   "outputs": [],
   "source": []
  },
  {
   "cell_type": "code",
   "execution_count": 108,
   "metadata": {},
   "outputs": [],
   "source": [
    "def featureScale(feature,df):\n",
    "    df.iloc[:,df.columns.get_loc(feature):df.columns.get_loc(feature)+1] = sc_X.fit_transform(df.iloc[:,df.columns.get_loc(feature):df.columns.get_loc(feature)+1])\n",
    "    return df;"
   ]
  },
  {
   "cell_type": "code",
   "execution_count": 109,
   "metadata": {},
   "outputs": [],
   "source": [
    "from sklearn.preprocessing import StandardScaler\n",
    "sc_X = StandardScaler()\n",
    "file_cat = featureScale('Charges2016',file_cat)\n",
    "file_cat = featureScale('Charges2015',file_cat)\n",
    "file_cat = featureScale('Charges2014',file_cat)\n",
    "#file_cat = featureScale('Lacescore',file_cat)\n",
    "#file_cat = featureScale('NoShow',file_cat)\n",
    "#file_cat = featureScale('Visits',file_cat)\n",
    "#file_cat = featureScale('ERCount',file_cat)\n",
    "#file_cat = featureScale('AdmitsCount',file_cat)\n",
    "#file_cat = featureScale('Medications',file_cat)\n",
    "#file_cat = featureScale('Age',file_cat)\n",
    "#file_cat = featureScale('LOS',file_cat)\n",
    "#file_cat = featureScale('HouseholdMedianIncome',file_cat)"
   ]
  },
  {
   "cell_type": "code",
   "execution_count": 173,
   "metadata": {},
   "outputs": [
    {
     "data": {
      "image/png": "[encoded data removed]",
      "text/plain": [
       "<Figure size 432x288 with 1 Axes>"
      ]
     },
     "metadata": {},
     "output_type": "display_data"
    }
   ],
   "source": [
    "import matplotlib.pyplot as plt\n",
    "a = np.hstack(file_cat['Charges2016'])            \n",
    "plt.hist(a, bins='auto')  # arguments are passed to np.histogram\n",
    "plt.title(\"Histogram with 'auto' bins\")\n",
    "plt.show()"
   ]
  },
  {
   "cell_type": "code",
   "execution_count": 110,
   "metadata": {},
   "outputs": [],
   "source": [
    "X = file_cat.values\n",
    "y = file['HighCost_10Percent_Actual']"
   ]
  },
  {
   "cell_type": "code",
   "execution_count": 111,
   "metadata": {},
   "outputs": [],
   "source": [
    "#file_cat= file_cat.drop(['Insurance_Worker\\'s Comp'],axis=1)"
   ]
  },
  {
   "cell_type": "code",
   "execution_count": 112,
   "metadata": {},
   "outputs": [
    {
     "data": {
      "text/plain": [
       "False    127356\n",
       "True      12899\n",
       "Name: HighCost_10Percent_Actual, dtype: int64"
      ]
     },
     "execution_count": 112,
     "metadata": {},
     "output_type": "execute_result"
    },
    {
     "data": {
      "image/png": "[encoded data removed]",
      "text/plain": [
       "<Figure size 432x288 with 1 Axes>"
      ]
     },
     "metadata": {},
     "output_type": "display_data"
    }
   ],
   "source": [
    "pd.value_counts(y).plot.bar()\n",
    "plt.title('High Cost Histogram')\n",
    "plt.xlabel('Class')\n",
    "plt.ylabel('Frequency')\n",
    "y.value_counts()"
   ]
  },
  {
   "cell_type": "code",
   "execution_count": 113,
   "metadata": {},
   "outputs": [],
   "source": [
    "import imblearn.over_sampling"
   ]
  },
  {
   "cell_type": "code",
   "execution_count": 114,
   "metadata": {},
   "outputs": [
    {
     "data": {
      "image/png": "[encoded data removed]",
      "text/plain": [
       "<Figure size 432x288 with 1 Axes>"
      ]
     },
     "metadata": {},
     "output_type": "display_data"
    }
   ],
   "source": [
    "from imblearn.over_sampling import SMOTE\n",
    "smote = SMOTE(sampling_strategy='minority')\n",
    "X_sm, y_sm = smote.fit_sample(X, y)\n",
    "plot_2d_space(X_sm, y_sm, 'SMOTE over-sampling')\n",
    "X = X_sm\n",
    "y = y_sm"
   ]
  },
  {
   "cell_type": "code",
   "execution_count": 115,
   "metadata": {},
   "outputs": [],
   "source": [
    "X = pd.DataFrame(X)\n",
    "y = pd.Series(y)"
   ]
  },
  {
   "cell_type": "code",
   "execution_count": 116,
   "metadata": {},
   "outputs": [
    {
     "data": {
      "text/plain": [
       "True     127356\n",
       "False    127356\n",
       "dtype: int64"
      ]
     },
     "execution_count": 116,
     "metadata": {},
     "output_type": "execute_result"
    },
    {
     "data": {
      "image/png": "[encoded data removed]",
      "text/plain": [
       "<Figure size 432x288 with 1 Axes>"
      ]
     },
     "metadata": {},
     "output_type": "display_data"
    }
   ],
   "source": [
    "pd.value_counts(y).plot.bar()\n",
    "plt.title('High Cost Histogram')\n",
    "plt.xlabel('Class')\n",
    "plt.ylabel('Frequency')\n",
    "pd.value_counts(y)"
   ]
  },
  {
   "cell_type": "code",
   "execution_count": 117,
   "metadata": {
    "scrolled": true
   },
   "outputs": [],
   "source": [
    "from sklearn.model_selection import train_test_split\n",
    "X_train, X_test,  y_train, y_test = train_test_split(X,y,test_size=0.25, random_state=100)\n",
    "clf = LogisticRegression(class_weight='balanced')\n",
    "clfmodelcross= clf.fit(X_train,y_train)\n",
    "clfmodel= clf.fit(X,y)"
   ]
  },
  {
   "cell_type": "code",
   "execution_count": 118,
   "metadata": {},
   "outputs": [
    {
     "name": "stdout",
     "output_type": "stream",
     "text": [
      "Recall metric in the testing dataset: 69.47381632204825%\n",
      "Precision metric in the testing dataset: 72.36629079444428%\n"
     ]
    },
    {
     "data": {
      "image/png": "[encoded data removed]",
      "text/plain": [
       "<Figure size 432x288 with 2 Axes>"
      ]
     },
     "metadata": {},
     "output_type": "display_data"
    },
    {
     "name": "stdout",
     "output_type": "stream",
     "text": [
      "0.7478784034576333\n"
     ]
    },
    {
     "data": {
      "image/png": "[encoded data removed]",
      "text/plain": [
       "<Figure size 432x288 with 1 Axes>"
      ]
     },
     "metadata": {},
     "output_type": "display_data"
    },
    {
     "name": "stdout",
     "output_type": "stream",
     "text": [
      "Sensitivity0.6947381632204825%\n",
      "Specificity0.8010186436947841%\n",
      "F Measure0.7441025421419347%\n",
      "Positive Predictive Value0.7777036282533104%\n",
      "Negative Predictive Value0.7441025421419347%\n"
     ]
    }
   ],
   "source": [
    "y_pre = clfmodelcross.predict(X_test)\n",
    "from sklearn.metrics import confusion_matrix\n",
    "cnf_matrix = confusion_matrix(y_test, y_pre)\n",
    "import itertools\n",
    "def plot_confusion_matrix(cm, classes,\n",
    "                          normalize=False,\n",
    "                          title='Confusion matrix',\n",
    "                          cmap=plt.cm.Blues):\n",
    "    \"\"\"\n",
    "    This function prints and plots the confusion matrix.\n",
    "    Normalization can be applied by setting `normalize=True`.\n",
    "    \"\"\"\n",
    "    plt.imshow(cm, interpolation='nearest', cmap=cmap)\n",
    "    plt.title(title)\n",
    "    plt.colorbar()\n",
    "    tick_marks = np.arange(len(classes))\n",
    "    plt.xticks(tick_marks, classes, rotation=0)\n",
    "    plt.yticks(tick_marks, classes)\n",
    "\n",
    "    if normalize:\n",
    "        cm = cm.astype('float') / cm.sum(axis=1)[:, np.newaxis]\n",
    "        #print(\"Normalized confusion matrix\")\n",
    "    else:\n",
    "        1#print('Confusion matrix, without normalization')\n",
    "\n",
    "    #print(cm)\n",
    "\n",
    "    thresh = cm.max() / 2.\n",
    "    for i, j in itertools.product(range(cm.shape[0]), range(cm.shape[1])):\n",
    "        plt.text(j, i, cm[i, j],\n",
    "                 horizontalalignment=\"center\",\n",
    "                 color=\"white\" if cm[i, j] > thresh else \"black\")\n",
    "\n",
    "    plt.tight_layout()\n",
    "    plt.ylabel('True label')\n",
    "    plt.xlabel('Predicted label')\n",
    "\n",
    "print(\"Recall metric in the testing dataset: {}%\".format(100*cnf_matrix[1,1]/(cnf_matrix[1,0]+cnf_matrix[1,1])))\n",
    "print(\"Precision metric in the testing dataset: {}%\".format(100*cnf_matrix[0,0]/(cnf_matrix[0,0]+cnf_matrix[1,0])))\n",
    "# Plot non-normalized confusion matrix\n",
    "class_names = [0,1]\n",
    "plt.figure()\n",
    "plot_confusion_matrix(cnf_matrix , classes=class_names, title='Confusion matrix')\n",
    "plt.show()\n",
    "from sklearn.metrics import roc_auc_score,roc_curve,auc,average_precision_score\n",
    "fpr, tpr, thresholds = roc_curve(y_test, y_pre)\n",
    "roc_auc = auc(fpr,tpr)\n",
    "print(roc_auc)\n",
    "plt.title('Receiver Operating Characteristic')\n",
    "plt.plot(fpr, tpr, 'b',label='AUC = %0.3f'% roc_auc)\n",
    "plt.legend(loc='lower right')\n",
    "plt.plot([0,1],[0,1],'r--')\n",
    "plt.xlim([-0.1,1.0])\n",
    "plt.ylim([-0.1,1.01])\n",
    "plt.ylabel('True Positive Rate')\n",
    "plt.xlabel('False Positive Rate')\n",
    "plt.show()\n",
    "tn= cnf_matrix[0,0]\n",
    "fp = cnf_matrix[0,1]\n",
    "fn = cnf_matrix[1,0]\n",
    "tp = cnf_matrix[1,1]\n",
    "\n",
    "\n",
    "st = tp/(tp+fn)\n",
    "sp=tn/(tn+fp)\n",
    "fm =2*st*sp/(st+sp)\n",
    "ppv = tp/(tp+fp)\n",
    "npv=tn/(fn+tn)\n",
    "\n",
    "\n",
    "\n",
    "print(\"Sensitivity{}%\".format(st))\n",
    "print(\"Specificity{}%\".format(sp))\n",
    "print(\"F Measure{}%\".format(fm))\n",
    "print(\"Positive Predictive Value{}%\".format(ppv))\n",
    "print(\"Negative Predictive Value{}%\".format(fm))"
   ]
  },
  {
   "cell_type": "code",
   "execution_count": 134,
   "metadata": {},
   "outputs": [],
   "source": [
    "sql = '''SELECT [DurableKey]\n",
    "      ,[PatientEpicId]\n",
    "      ,[PostalCode]\n",
    "      ,[CITY]\n",
    "      ,[Zip6County]\n",
    "      ,[Sex]\n",
    "      ,[FirstRace]\n",
    "      ,[PreferredLanguage]\n",
    "      ,[Age]\n",
    "      ,[HouseholdMedianIncome]\n",
    "      ,[AgeGroup]\n",
    "      ,[Insurance]\n",
    "      ,[InsuranceType]\n",
    "      ,[AdmitsCount]\n",
    "      ,[LOS]\n",
    "      ,[ERCount]\n",
    "      ,[AnyMalignancyFlag]\n",
    "      ,[CerebrovascularDiseaseFlag]\n",
    "      ,[ChronicPulmonaryDiseaseFlag]\n",
    "      ,[CongestiveHeartFailureFlag]\n",
    "      ,[DementiaFlag]\n",
    "      ,[DiabetesWithChronicComplicationFlag]\n",
    "      ,[DiabetesWithoutChronicComplicationFlag]\n",
    "      ,[MetastaticSolidTumorFlag]\n",
    "      ,[ModerateOrSevereLiverDiseaseFlag]\n",
    "      ,[PepticUlcerDiseaseFlag]\n",
    "      ,[RenalDiseaseFlag]\n",
    "      ,[PeripheralVascularDiseaseFlag]\n",
    "      ,[RheumaticDiseaseFlag]\n",
    "      ,[Obesity]\n",
    "      ,[HTN]\n",
    "      ,[Medications]\n",
    "      ,[Charges2013]\n",
    "      ,[Charges2014]\n",
    "      ,[Charges2015]\n",
    "      ,[Charges2016]\n",
    "      ,[Charges2017]\n",
    "      ,[Charges2018]\n",
    "      ,[Visits]\n",
    "      ,[NoShow]\n",
    "      ,[SocialDeterminantRiskFlag]\n",
    "      ,[MaritalStatus]\n",
    "      ,[RACE-Ethnicity]\n",
    "      ,[HighCost_10Percent_Actual]\n",
    "      ,HighCost_10Percent_predicted\n",
    "      , CASE\n",
    "\tWHEN ISNULL(Visits,0) > 5\n",
    "\tTHEN 1\n",
    "\tELSE 0\n",
    "END AS [EngagementVisits],\n",
    "CASE\n",
    "\tWHEN PCPDepartment IN ('*Unspecified', 'HFHS EXTERNAL PROVIDERS')\n",
    "\tTHEN 0\n",
    "\tELSE 1\n",
    "END AS [EngagementPCP],\n",
    " CASE\n",
    "\tWHEN Zip6County = 'Yes'\n",
    "\tTHEN 1\n",
    "\tELSE 0\n",
    "END AS [EngagementZip],\n",
    "[No of Diagnosis]\n",
    "  FROM [ML].[PatientClustering_Phase3_Features2017] \n",
    "  WHERE \n",
    " Charges2018<>0 \n",
    "  and Charges2016<>0 \n",
    "  and Charges2013<>0 \n",
    "  and Charges2014<>0 \n",
    "  and Charges2015<>0 \n",
    "  and Charges2018<900000 \n",
    "  and AnyMalignancyFlag=0 AND MetastaticSolidTumorFlag=0 \n",
    "  and RenalDiseaseFlag=0 \n",
    "  '''\n",
    "\n",
    "\n",
    "testset = getDataSet(sql)\n",
    "\n",
    "file_test = cleanDataSet(testset)\n",
    "\n",
    "file_test = file_test.drop(['Charges2018'],axis=1)\n",
    "\n",
    "file_test = file_test[np.isfinite(file_test['Age'])]\n",
    "\n",
    "\n",
    "def imputefeature(feature,df,method,missing_values):\n",
    "    from sklearn.preprocessing import Imputer\n",
    "    imputer = Imputer(missing_values=missing_values,strategy=method,axis=0)\n",
    "    imputer = imputer.fit(df.iloc[:,df.columns.get_loc(feature):df.columns.get_loc(feature)+1])\n",
    "    df.iloc[:,df.columns.get_loc(feature):df.columns.get_loc(feature)+1] = imputer.transform(df.iloc[:,df.columns.get_loc(feature):df.columns.get_loc(feature)+1]);\n",
    "    return df;\n",
    "\n",
    "\n",
    "\n",
    "file_test = imputefeature('HouseholdMedianIncome',file_test,'mean','NaN')\n",
    "file_test = imputefeature('SocialDeterminantRiskFlag',file_test,'most_frequent','NaN')\n",
    "\n",
    "\n",
    "file_1_test = file_test.drop(['HighCost_10Percent_Actual'],axis =1)\n",
    "file_cat_test = pd.get_dummies(file_1_test, prefix=[ 'Sex',\n",
    "                                                    'Insurance',\n",
    "                                                    #'CITY',\n",
    "                                                    'RACE-Ethnicity',\n",
    "                                                    'MaritalStatus'\n",
    "                                                   ], columns=[ 'Sex',\n",
    "                                                               'Insurance',\n",
    "                                                               #'CITY'\n",
    "                                                               'RACE-Ethnicity',\n",
    "                                                               'MaritalStatus'\n",
    "                                                              ])\n",
    "#file_cat =file_1\n",
    "\n",
    "\n",
    "\n",
    "def featureScale(feature,df):\n",
    "    df.iloc[:,df.columns.get_loc(feature):df.columns.get_loc(feature)+1] = sc_X.fit_transform(df.iloc[:,df.columns.get_loc(feature):df.columns.get_loc(feature)+1])\n",
    "    return df;\n",
    "\n",
    "\n",
    "\n",
    "from sklearn.preprocessing import StandardScaler\n",
    "sc_X = StandardScaler()\n",
    "file_cat_test = featureScale('Charges2016',file_cat_test)\n",
    "file_cat_test = featureScale('Charges2015',file_cat_test)\n",
    "file_cat_test = featureScale('Charges2014',file_cat_test)\n",
    "#file_cat_test = featureScale('Lacescore',file_cat_test)\n",
    "#file_cat_test = featureScale('Visits',file_cat_test)\n",
    "#file_cat_test = featureScale('ERCount',file_cat_test)\n",
    "#file_cat_test = featureScale('AdmitsCount',file_cat_test)\n",
    "#file_cat_test = featureScale('Medications',file_cat_test)\n",
    "#file_cat_test = featureScale('Age',file_cat_test)\n",
    "#file_cat_test = featureScale('LOS',file_cat_test)\n",
    "#file_cat_test = featureScale('HouseholdMedianIncome',file_cat_test)"
   ]
  },
  {
   "cell_type": "code",
   "execution_count": 135,
   "metadata": {},
   "outputs": [
    {
     "name": "stdout",
     "output_type": "stream",
     "text": [
      "64\n",
      "66\n"
     ]
    }
   ],
   "source": [
    "print(len(file_cat.columns))\n",
    "print(len(file_cat_test.columns))"
   ]
  },
  {
   "cell_type": "code",
   "execution_count": 136,
   "metadata": {},
   "outputs": [
    {
     "data": {
      "text/plain": [
       "Index(['Age', 'HouseholdMedianIncome', 'AdmitsCount', 'LOS', 'ERCount',\n",
       "       'ChronicPulmonaryDiseaseFlag', 'CongestiveHeartFailureFlag',\n",
       "       'DementiaFlag', 'DiabetesWithoutChronicComplicationFlag',\n",
       "       'ModerateOrSevereLiverDiseaseFlag', 'PeripheralVascularDiseaseFlag',\n",
       "       'RheumaticDiseaseFlag', 'Obesity', 'HTN', 'Medications', 'Charges2014',\n",
       "       'Charges2015', 'Charges2016', 'Visits', 'SocialDeterminantRiskFlag',\n",
       "       'EngagementVisits', 'EngagementPCP', 'EngagementZip', 'No of Diagnosis',\n",
       "       'Sex_Female', 'Sex_Male', 'Insurance_*UNKNOWN', 'Insurance_Blue Shield',\n",
       "       'Insurance_Commercial', 'Insurance_HAP', 'Insurance_MEDICAID HMO',\n",
       "       'Insurance_MEDICAID PENDING APPLICATIONS',\n",
       "       'Insurance_MEDICARE ADVANTAGE', 'Insurance_Medicaid',\n",
       "       'Insurance_Medicare', 'Insurance_Self-pay', 'Insurance_Tricare',\n",
       "       'RACE-Ethnicity_African American-Hispanic',\n",
       "       'RACE-Ethnicity_African American-Non Hispanic',\n",
       "       'RACE-Ethnicity_African American-Other',\n",
       "       'RACE-Ethnicity_Asian-Hispanic', 'RACE-Ethnicity_Asian-Non Hispanic',\n",
       "       'RACE-Ethnicity_Asian-Other', 'RACE-Ethnicity_Caucasian-Hispanic',\n",
       "       'RACE-Ethnicity_Caucasian-Non Hispanic',\n",
       "       'RACE-Ethnicity_Caucasian-Other',\n",
       "       'RACE-Ethnicity_Hawaiian/Pacific Islander-Hispanic',\n",
       "       'RACE-Ethnicity_Hawaiian/Pacific Islander-Non Hispanic',\n",
       "       'RACE-Ethnicity_Hawaiian/Pacific Islander-Other',\n",
       "       'RACE-Ethnicity_Native American/Alaskan Native-Hispanic',\n",
       "       'RACE-Ethnicity_Native American/Alaskan Native-Non Hispanic',\n",
       "       'RACE-Ethnicity_Native American/Alaskan Native-Other',\n",
       "       'RACE-Ethnicity_Unknown/Other-Hispanic',\n",
       "       'RACE-Ethnicity_Unknown/Other-Non Hispanic',\n",
       "       'RACE-Ethnicity_Unknown/Other-Other', 'MaritalStatus_Divorced',\n",
       "       'MaritalStatus_Legally Separated', 'MaritalStatus_Married',\n",
       "       'MaritalStatus_Other', 'MaritalStatus_Separated/Parted',\n",
       "       'MaritalStatus_Significant Other', 'MaritalStatus_Single',\n",
       "       'MaritalStatus_Unknown', 'MaritalStatus_Widowed'],\n",
       "      dtype='object')"
      ]
     },
     "execution_count": 136,
     "metadata": {},
     "output_type": "execute_result"
    }
   ],
   "source": [
    "file_cat.columns"
   ]
  },
  {
   "cell_type": "code",
   "execution_count": 137,
   "metadata": {},
   "outputs": [
    {
     "data": {
      "text/plain": [
       "Index(['Age', 'HouseholdMedianIncome', 'AdmitsCount', 'LOS', 'ERCount',\n",
       "       'ChronicPulmonaryDiseaseFlag', 'CongestiveHeartFailureFlag',\n",
       "       'DementiaFlag', 'DiabetesWithoutChronicComplicationFlag',\n",
       "       'ModerateOrSevereLiverDiseaseFlag', 'PeripheralVascularDiseaseFlag',\n",
       "       'RheumaticDiseaseFlag', 'Obesity', 'HTN', 'Medications', 'Charges2013',\n",
       "       'Charges2014', 'Charges2015', 'Charges2016', 'Visits',\n",
       "       'SocialDeterminantRiskFlag', 'HighCost_10Percent_predicted',\n",
       "       'EngagementVisits', 'EngagementPCP', 'EngagementZip', 'No of Diagnosis',\n",
       "       'Sex_Female', 'Sex_Male', 'Insurance_*UNKNOWN', 'Insurance_Blue Shield',\n",
       "       'Insurance_Commercial', 'Insurance_HAP', 'Insurance_MEDICAID HMO',\n",
       "       'Insurance_MEDICAID PENDING APPLICATIONS',\n",
       "       'Insurance_MEDICARE ADVANTAGE', 'Insurance_Medicaid',\n",
       "       'Insurance_Medicare', 'Insurance_Self-pay', 'Insurance_Tricare',\n",
       "       'RACE-Ethnicity_African American-Hispanic',\n",
       "       'RACE-Ethnicity_African American-Non Hispanic',\n",
       "       'RACE-Ethnicity_African American-Other',\n",
       "       'RACE-Ethnicity_Asian-Hispanic', 'RACE-Ethnicity_Asian-Non Hispanic',\n",
       "       'RACE-Ethnicity_Asian-Other', 'RACE-Ethnicity_Caucasian-Hispanic',\n",
       "       'RACE-Ethnicity_Caucasian-Non Hispanic',\n",
       "       'RACE-Ethnicity_Caucasian-Other',\n",
       "       'RACE-Ethnicity_Hawaiian/Pacific Islander-Hispanic',\n",
       "       'RACE-Ethnicity_Hawaiian/Pacific Islander-Non Hispanic',\n",
       "       'RACE-Ethnicity_Hawaiian/Pacific Islander-Other',\n",
       "       'RACE-Ethnicity_Native American/Alaskan Native-Hispanic',\n",
       "       'RACE-Ethnicity_Native American/Alaskan Native-Non Hispanic',\n",
       "       'RACE-Ethnicity_Native American/Alaskan Native-Other',\n",
       "       'RACE-Ethnicity_Unknown/Other-Hispanic',\n",
       "       'RACE-Ethnicity_Unknown/Other-Non Hispanic',\n",
       "       'RACE-Ethnicity_Unknown/Other-Other', 'MaritalStatus_Divorced',\n",
       "       'MaritalStatus_Legally Separated', 'MaritalStatus_Married',\n",
       "       'MaritalStatus_Other', 'MaritalStatus_Separated/Parted',\n",
       "       'MaritalStatus_Significant Other', 'MaritalStatus_Single',\n",
       "       'MaritalStatus_Unknown', 'MaritalStatus_Widowed'],\n",
       "      dtype='object')"
      ]
     },
     "execution_count": 137,
     "metadata": {},
     "output_type": "execute_result"
    }
   ],
   "source": [
    "file_cat_test.columns"
   ]
  },
  {
   "cell_type": "code",
   "execution_count": 138,
   "metadata": {},
   "outputs": [],
   "source": [
    "for column in file_cat_test:\n",
    "    if(column not in file_cat.columns):\n",
    "        file_cat_test= file_cat_test.drop([column],axis=1)"
   ]
  },
  {
   "cell_type": "code",
   "execution_count": 139,
   "metadata": {},
   "outputs": [],
   "source": [
    "#file_cat_test['Charges2017'] = testset['Charges2017']\n",
    "#file_cat_test = featureScale('Charges2017',file_cat_test)"
   ]
  },
  {
   "cell_type": "code",
   "execution_count": 140,
   "metadata": {},
   "outputs": [],
   "source": [
    "\n",
    "feature_difference = set(file_cat) - set(file_cat_test)\n",
    "feature_difference_df = None\n",
    "if(len(list(feature_difference))>0):\n",
    "    feature_difference_df = pd.DataFrame(data=np.zeros((file_cat_test.shape[0], len(feature_difference))),\n",
    "                                     columns=list(feature_difference))\n"
   ]
  },
  {
   "cell_type": "code",
   "execution_count": 141,
   "metadata": {},
   "outputs": [],
   "source": [
    "if feature_difference_df is not None:\n",
    "    file_cat_test = file_cat_test.join(feature_difference_df)\n",
    "    for column in file_cat_test.columns[file_cat_test.isna().any()].tolist():\n",
    "        file_cat_test = imputefeature(column,file_cat_test,'most_frequent','NaN')\n",
    "    "
   ]
  },
  {
   "cell_type": "code",
   "execution_count": 142,
   "metadata": {},
   "outputs": [
    {
     "name": "stdout",
     "output_type": "stream",
     "text": [
      "64\n",
      "64\n"
     ]
    }
   ],
   "source": [
    "print(len(file_cat.columns))\n",
    "print(len(file_cat_test.columns))"
   ]
  },
  {
   "cell_type": "code",
   "execution_count": 143,
   "metadata": {},
   "outputs": [],
   "source": [
    "X_test = file_cat_test.values\n",
    "y_test = file_test['HighCost_10Percent_Actual']"
   ]
  },
  {
   "cell_type": "code",
   "execution_count": 144,
   "metadata": {
    "scrolled": true
   },
   "outputs": [
    {
     "name": "stdout",
     "output_type": "stream",
     "text": [
      "Recall metric in the testing dataset: 74.0530303030303%\n",
      "Precision metric in the testing dataset: 96.49863693895433%\n"
     ]
    },
    {
     "data": {
      "image/png": "[encoded data removed]",
      "text/plain": [
       "<Figure size 432x288 with 2 Axes>"
      ]
     },
     "metadata": {},
     "output_type": "display_data"
    },
    {
     "data": {
      "image/png": "[encoded data removed]",
      "text/plain": [
       "<Figure size 432x288 with 1 Axes>"
      ]
     },
     "metadata": {},
     "output_type": "display_data"
    }
   ],
   "source": [
    "y_pre = clfmodel.predict(X_test)\n",
    "from sklearn.metrics import confusion_matrix\n",
    "cnf_matrix = confusion_matrix(y_test, y_pre)\n",
    "import itertools\n",
    "def plot_confusion_matrix(cm, classes,\n",
    "                          normalize=False,\n",
    "                          title='Confusion matrix',\n",
    "                          cmap=plt.cm.Blues):\n",
    "    \"\"\"\n",
    "    This function prints and plots the confusion matrix.\n",
    "    Normalization can be applied by setting `normalize=True`.\n",
    "    \"\"\"\n",
    "    plt.imshow(cm, interpolation='nearest', cmap=cmap)\n",
    "    plt.title(title)\n",
    "    plt.colorbar()\n",
    "    tick_marks = np.arange(len(classes))\n",
    "    plt.xticks(tick_marks, classes, rotation=0)\n",
    "    plt.yticks(tick_marks, classes)\n",
    "\n",
    "    if normalize:\n",
    "        cm = cm.astype('float') / cm.sum(axis=1)[:, np.newaxis]\n",
    "        #print(\"Normalized confusion matrix\")\n",
    "    else:\n",
    "        1#print('Confusion matrix, without normalization')\n",
    "\n",
    "    #print(cm)\n",
    "\n",
    "    thresh = cm.max() / 2.\n",
    "    for i, j in itertools.product(range(cm.shape[0]), range(cm.shape[1])):\n",
    "        plt.text(j, i, cm[i, j],\n",
    "                 horizontalalignment=\"center\",\n",
    "                 color=\"white\" if cm[i, j] > thresh else \"black\")\n",
    "\n",
    "    plt.tight_layout()\n",
    "    plt.ylabel('True label')\n",
    "    plt.xlabel('Predicted label')\n",
    "\n",
    "print(\"Recall metric in the testing dataset: {}%\".format(100*cnf_matrix[1,1]/(cnf_matrix[1,0]+cnf_matrix[1,1])))\n",
    "print(\"Precision metric in the testing dataset: {}%\".format(100*cnf_matrix[0,0]/(cnf_matrix[0,0]+cnf_matrix[1,0])))\n",
    "# Plot non-normalized confusion matrix\n",
    "class_names = [0,1]\n",
    "plt.figure()\n",
    "plot_confusion_matrix(cnf_matrix , classes=class_names, title='Confusion matrix')\n",
    "plt.show()\n",
    "from sklearn.metrics import roc_auc_score,roc_curve,auc,average_precision_score\n",
    "logit_roc_auc = roc_auc_score(y_test, clfmodel.predict(X_test))\n",
    "fpr, tpr, thresholds = roc_curve(y_test, clfmodel.predict_proba(X_test)[:,1])\n",
    "plt.figure()\n",
    "plt.plot(fpr, tpr, label='Logistic Regression (area = %0.2f)' % logit_roc_auc)\n",
    "plt.plot([0, 1], [0, 1],'r--')\n",
    "plt.xlim([0.0, 1.0])\n",
    "plt.ylim([0.0, 1.05])\n",
    "plt.xlabel('False Positive Rate')\n",
    "plt.ylabel('True Positive Rate')\n",
    "plt.title('Receiver operating characteristic')\n",
    "plt.legend(loc=\"lower right\")\n",
    "plt.savefig('Log_ROC')\n",
    "plt.show()\n",
    "\n",
    "\n"
   ]
  },
  {
   "cell_type": "code",
   "execution_count": 145,
   "metadata": {},
   "outputs": [
    {
     "name": "stdout",
     "output_type": "stream",
     "text": [
      "Sensitivity0.740530303030303%\n",
      "Specificity0.6771510312139716%\n",
      "F Measure0.7074239410924793%\n",
      "Positive Predictive Value0.17844181245246116%\n",
      "Negative Predictive Value0.7074239410924793%\n"
     ]
    }
   ],
   "source": [
    "tn= cnf_matrix[0,0]\n",
    "fp = cnf_matrix[0,1]\n",
    "fn = cnf_matrix[1,0]\n",
    "tp = cnf_matrix[1,1]\n",
    "\n",
    "\n",
    "st = tp/(tp+fn)\n",
    "sp=tn/(tn+fp)\n",
    "fm =2*st*sp/(st+sp)\n",
    "ppv = tp/(tp+fp)\n",
    "npv=tn/(fn+tn)\n",
    "\n",
    "\n",
    "\n",
    "print(\"Sensitivity{}%\".format(st))\n",
    "print(\"Specificity{}%\".format(sp))\n",
    "print(\"F Measure{}%\".format(fm))\n",
    "print(\"Positive Predictive Value{}%\".format(ppv))\n",
    "print(\"Negative Predictive Value{}%\".format(fm))\n"
   ]
  },
  {
   "cell_type": "code",
   "execution_count": 146,
   "metadata": {},
   "outputs": [
    {
     "name": "stdout",
     "output_type": "stream",
     "text": [
      "             precision    recall  f1-score   support\n",
      "\n",
      "      False       0.96      0.68      0.80    117095\n",
      "       True       0.18      0.74      0.29     11088\n",
      "\n",
      "avg / total       0.90      0.68      0.75    128183\n",
      "\n"
     ]
    }
   ],
   "source": [
    "from sklearn.metrics import classification_report\n",
    "target_names = ['Low Cost', 'high Cost']\n",
    "print(classification_report(y_test, y_pre))"
   ]
  },
  {
   "cell_type": "code",
   "execution_count": 147,
   "metadata": {},
   "outputs": [
    {
     "data": {
      "image/png": "[encoded data removed]",
      "text/plain": [
       "<Figure size 432x288 with 1 Axes>"
      ]
     },
     "metadata": {},
     "output_type": "display_data"
    }
   ],
   "source": [
    "feature_importance = abs(clf.coef_[0])\n",
    "coefs = np.abs(clf.coef_[0])\n",
    "indices = np.argsort(coefs)[::-1]\n",
    "plt.figure()\n",
    "plt.title(\"Feature importances (Logistic Regression)\")\n",
    "plt.bar(range(20), coefs[indices[:20]],\n",
    "       color=\"r\", align=\"center\")\n",
    "plt.xticks(range(20),file_cat_test.columns[indices[:20]], rotation=45, ha='right')\n",
    "plt.subplots_adjust(bottom=0.3)\n",
    "\n",
    "plt.show()"
   ]
  },
  {
   "cell_type": "code",
   "execution_count": 156,
   "metadata": {},
   "outputs": [
    {
     "ename": "AttributeError",
     "evalue": "'numpy.ndarray' object has no attribute 'index'",
     "output_type": "error",
     "traceback": [
      "\u001b[1;31m---------------------------------------------------------------------------\u001b[0m",
      "\u001b[1;31mAttributeError\u001b[0m                            Traceback (most recent call last)",
      "\u001b[1;32m<ipython-input-156-bdb05c31fc59>\u001b[0m in \u001b[0;36m<module>\u001b[1;34m()\u001b[0m\n\u001b[0;32m      1\u001b[0m \u001b[1;32mfor\u001b[0m \u001b[0mi\u001b[0m \u001b[1;32min\u001b[0m \u001b[0mrange\u001b[0m\u001b[1;33m(\u001b[0m\u001b[0mlen\u001b[0m\u001b[1;33m(\u001b[0m\u001b[0mX_test\u001b[0m\u001b[1;33m)\u001b[0m\u001b[1;33m)\u001b[0m\u001b[1;33m:\u001b[0m\u001b[1;33m\u001b[0m\u001b[0m\n\u001b[1;32m----> 2\u001b[1;33m     \u001b[1;32mif\u001b[0m\u001b[1;33m(\u001b[0m\u001b[0mX_test\u001b[0m\u001b[1;33m.\u001b[0m\u001b[0mindex\u001b[0m\u001b[1;33m[\u001b[0m\u001b[0mi\u001b[0m\u001b[1;33m]\u001b[0m\u001b[1;33m<\u001b[0m\u001b[1;36m3000000\u001b[0m\u001b[1;33m)\u001b[0m\u001b[1;33m:\u001b[0m\u001b[1;33m\u001b[0m\u001b[0m\n\u001b[0m\u001b[0;32m      3\u001b[0m         \u001b[0mupdated\u001b[0m \u001b[1;33m=\u001b[0m \u001b[0mupdated\u001b[0m\u001b[1;33m.\u001b[0m\u001b[0mappend\u001b[0m\u001b[1;33m(\u001b[0m\u001b[1;33m{\u001b[0m\u001b[1;34m'DurableKey'\u001b[0m\u001b[1;33m:\u001b[0m\u001b[0mdf\u001b[0m\u001b[1;33m[\u001b[0m\u001b[1;34m'DurableKey'\u001b[0m\u001b[1;33m]\u001b[0m\u001b[1;33m[\u001b[0m\u001b[0mX_test\u001b[0m\u001b[1;33m.\u001b[0m\u001b[0mindex\u001b[0m\u001b[1;33m[\u001b[0m\u001b[0mi\u001b[0m\u001b[1;33m]\u001b[0m\u001b[1;33m]\u001b[0m\u001b[1;33m,\u001b[0m\u001b[1;34m'Predicted_2018'\u001b[0m\u001b[1;33m:\u001b[0m\u001b[0my_pre\u001b[0m\u001b[1;33m[\u001b[0m\u001b[0mi\u001b[0m\u001b[1;33m]\u001b[0m\u001b[1;33m,\u001b[0m\u001b[1;34m'Charges2018'\u001b[0m\u001b[1;33m:\u001b[0m\u001b[0mdf\u001b[0m\u001b[1;33m[\u001b[0m\u001b[1;34m'Charges2018'\u001b[0m\u001b[1;33m]\u001b[0m\u001b[1;33m[\u001b[0m\u001b[0mX_test\u001b[0m\u001b[1;33m.\u001b[0m\u001b[0mindex\u001b[0m\u001b[1;33m[\u001b[0m\u001b[0mi\u001b[0m\u001b[1;33m]\u001b[0m\u001b[1;33m]\u001b[0m\u001b[1;33m,\u001b[0m\u001b[1;34m'Actual'\u001b[0m\u001b[1;33m:\u001b[0m\u001b[0mdf\u001b[0m\u001b[1;33m[\u001b[0m\u001b[1;34m'HighCost_10Percent_Actual'\u001b[0m\u001b[1;33m]\u001b[0m\u001b[1;33m[\u001b[0m\u001b[0mX_test\u001b[0m\u001b[1;33m.\u001b[0m\u001b[0mindex\u001b[0m\u001b[1;33m[\u001b[0m\u001b[0mi\u001b[0m\u001b[1;33m]\u001b[0m\u001b[1;33m]\u001b[0m\u001b[1;33m}\u001b[0m\u001b[1;33m,\u001b[0m \u001b[0mignore_index\u001b[0m\u001b[1;33m=\u001b[0m\u001b[1;32mTrue\u001b[0m\u001b[1;33m)\u001b[0m\u001b[1;33m\u001b[0m\u001b[0m\n",
      "\u001b[1;31mAttributeError\u001b[0m: 'numpy.ndarray' object has no attribute 'index'"
     ]
    }
   ],
   "source": [
    "for i in range(len(X_test)):\n",
    "    if(X_test.index[i]<1000000):\n",
    "        updated = updated.append({'DurableKey':df['DurableKey'][X_test.index[i]],'Predicted_2018':y_pre[i],'Charges2018':df['Charges2018'][X_test.index[i]],'Actual':df['HighCost_10Percent_Actual'][X_test.index[i]]}, ignore_index=True)"
   ]
  },
  {
   "cell_type": "code",
   "execution_count": 148,
   "metadata": {},
   "outputs": [],
   "source": [
    "testset['HighCost_10Percent_Predicted'] = y_pre\n",
    "#testset['HighCost_10Percent_Predicted']"
   ]
  },
  {
   "cell_type": "code",
   "execution_count": 40,
   "metadata": {},
   "outputs": [],
   "source": [
    "#testset.to_csv(\"C:\\PatientRiskStratification\\LRNewData_Phase3.csv\")"
   ]
  },
  {
   "cell_type": "code",
   "execution_count": null,
   "metadata": {},
   "outputs": [],
   "source": []
  }
 ],
 "metadata": {
  "kernelspec": {
   "display_name": "Python 3",
   "language": "python",
   "name": "python3"
  },
  "language_info": {
   "codemirror_mode": {
    "name": "ipython",
    "version": 3
   },
   "file_extension": ".py",
   "mimetype": "text/x-python",
   "name": "python",
   "nbconvert_exporter": "python",
   "pygments_lexer": "ipython3",
   "version": "3.6.2"
  }
 },
 "nbformat": 4,
 "nbformat_minor": 2
}
