{
 "cells": [
  {
   "cell_type": "code",
   "execution_count": 1,
   "metadata": {
    "collapsed": true
   },
   "outputs": [],
   "source": [
    "#Importing all the libraries in this space\n",
    "import pandas as pd\n",
    "import numpy as np\n",
    "import sklearn as skl\n",
    "import matplotlib.pyplot as plt\n",
    "import seaborn as sns; sns.set()\n",
    "import matplotlib.pyplot as plt\n",
    "from pandas.plotting import scatter_matrix\n",
    "from sklearn import preprocessing\n",
    "from sklearn.metrics import accuracy_score\n",
    "from sklearn.linear_model import LogisticRegression\n",
    "\n",
    "from IPython.display import display"
   ]
  },
  {
   "cell_type": "code",
   "execution_count": 2,
   "metadata": {
    "collapsed": true
   },
   "outputs": [],
   "source": [
    "#Importing all the libraries in this space\n",
    "from sklearn.ensemble import RandomForestClassifier as RFC\n",
    "from sklearn.naive_bayes import GaussianNB as NB\n",
    "from sklearn.tree import DecisionTreeClassifier as DTC\n",
    "from sklearn.svm import LinearSVC\n",
    "from sklearn.linear_model import LogisticRegression\n",
    "from sklearn.ensemble import GradientBoostingClassifier as GBC\n",
    "from sklearn.metrics import average_precision_score\n",
    "from sklearn.model_selection import train_test_split\n",
    "from sklearn.metrics import confusion_matrix\n",
    "from sklearn import metrics\n",
    "\n",
    "from sklearn.metrics import confusion_matrix\n",
    "from sklearn import metrics\n",
    "from sklearn.model_selection import cross_val_score\n",
    "from sklearn.model_selection import KFold\n",
    "from sklearn.model_selection import StratifiedKFold"
   ]
  },
  {
   "cell_type": "code",
   "execution_count": 3,
   "metadata": {},
   "outputs": [
    {
     "data": {
      "text/html": [
       "<div>\n",
       "<style>\n",
       "    .dataframe thead tr:only-child th {\n",
       "        text-align: right;\n",
       "    }\n",
       "\n",
       "    .dataframe thead th {\n",
       "        text-align: left;\n",
       "    }\n",
       "\n",
       "    .dataframe tbody tr th {\n",
       "        vertical-align: top;\n",
       "    }\n",
       "</style>\n",
       "<table border=\"1\" class=\"dataframe\">\n",
       "  <thead>\n",
       "    <tr style=\"text-align: right;\">\n",
       "      <th></th>\n",
       "      <th>id</th>\n",
       "      <th>name</th>\n",
       "      <th>display_name</th>\n",
       "      <th>production_year</th>\n",
       "      <th>movie_sequel</th>\n",
       "      <th>creative_type</th>\n",
       "      <th>source</th>\n",
       "      <th>production_method</th>\n",
       "      <th>genre</th>\n",
       "      <th>language</th>\n",
       "      <th>board_rating_reason</th>\n",
       "      <th>movie_board_rating_display_name</th>\n",
       "      <th>movie_release_pattern_display_name</th>\n",
       "      <th>total</th>\n",
       "      <th>Category</th>\n",
       "    </tr>\n",
       "  </thead>\n",
       "  <tbody>\n",
       "    <tr>\n",
       "      <th>0</th>\n",
       "      <td>7950115</td>\n",
       "      <td>Avatar</td>\n",
       "      <td>Avatar</td>\n",
       "      <td>2009</td>\n",
       "      <td>0</td>\n",
       "      <td>Science Fiction</td>\n",
       "      <td>Original Screenplay</td>\n",
       "      <td>Animation/Live Action</td>\n",
       "      <td>Action</td>\n",
       "      <td>English</td>\n",
       "      <td>For intense epic battle sequences and warfare,...</td>\n",
       "      <td>PG-13</td>\n",
       "      <td>Wide</td>\n",
       "      <td>2784</td>\n",
       "      <td>9</td>\n",
       "    </tr>\n",
       "    <tr>\n",
       "      <th>1</th>\n",
       "      <td>50950115</td>\n",
       "      <td>Harry Potter and the Deathly Hallows: Part II</td>\n",
       "      <td>Harry Potter and the Deathly Hallows: Part II</td>\n",
       "      <td>2011</td>\n",
       "      <td>1</td>\n",
       "      <td>Fantasy</td>\n",
       "      <td>Based on Fiction Book/Short Story</td>\n",
       "      <td>Animation/Live Action</td>\n",
       "      <td>Adventure</td>\n",
       "      <td>English</td>\n",
       "      <td>for some sequences of intense action violence ...</td>\n",
       "      <td>PG-13</td>\n",
       "      <td>Wide</td>\n",
       "      <td>1328</td>\n",
       "      <td>9</td>\n",
       "    </tr>\n",
       "    <tr>\n",
       "      <th>2</th>\n",
       "      <td>119870115</td>\n",
       "      <td>Transformers 3</td>\n",
       "      <td>Transformers: Dark of the Moon</td>\n",
       "      <td>2011</td>\n",
       "      <td>1</td>\n",
       "      <td>Science Fiction</td>\n",
       "      <td>Based on TV</td>\n",
       "      <td>Animation/Live Action</td>\n",
       "      <td>Action</td>\n",
       "      <td>English</td>\n",
       "      <td>for intense prolonged sequences of sci-fi acti...</td>\n",
       "      <td>PG-13</td>\n",
       "      <td>Wide</td>\n",
       "      <td>1124</td>\n",
       "      <td>9</td>\n",
       "    </tr>\n",
       "    <tr>\n",
       "      <th>3</th>\n",
       "      <td>119590115</td>\n",
       "      <td>Toy Story 3</td>\n",
       "      <td>Toy Story 3</td>\n",
       "      <td>2010</td>\n",
       "      <td>1</td>\n",
       "      <td>Kids Fiction</td>\n",
       "      <td>Original Screenplay</td>\n",
       "      <td>Digital Animation</td>\n",
       "      <td>Adventure</td>\n",
       "      <td>English</td>\n",
       "      <td>General</td>\n",
       "      <td>G</td>\n",
       "      <td>Wide</td>\n",
       "      <td>1064</td>\n",
       "      <td>9</td>\n",
       "    </tr>\n",
       "    <tr>\n",
       "      <th>4</th>\n",
       "      <td>91700115</td>\n",
       "      <td>Pirates of the Caribbean 4</td>\n",
       "      <td>Pirates of the Caribbean: On Stranger Tides</td>\n",
       "      <td>2011</td>\n",
       "      <td>1</td>\n",
       "      <td>Fantasy</td>\n",
       "      <td>Based on Theme Park Ride</td>\n",
       "      <td>Live Action</td>\n",
       "      <td>Adventure</td>\n",
       "      <td>English</td>\n",
       "      <td>for intense sequences of action/adventure viol...</td>\n",
       "      <td>PG-13</td>\n",
       "      <td>Wide</td>\n",
       "      <td>1044</td>\n",
       "      <td>9</td>\n",
       "    </tr>\n",
       "  </tbody>\n",
       "</table>\n",
       "</div>"
      ],
      "text/plain": [
       "          id                                           name  \\\n",
       "0    7950115                                         Avatar   \n",
       "1   50950115  Harry Potter and the Deathly Hallows: Part II   \n",
       "2  119870115                                 Transformers 3   \n",
       "3  119590115                                    Toy Story 3   \n",
       "4   91700115                     Pirates of the Caribbean 4   \n",
       "\n",
       "                                    display_name  production_year  \\\n",
       "0                                         Avatar             2009   \n",
       "1  Harry Potter and the Deathly Hallows: Part II             2011   \n",
       "2                 Transformers: Dark of the Moon             2011   \n",
       "3                                    Toy Story 3             2010   \n",
       "4    Pirates of the Caribbean: On Stranger Tides             2011   \n",
       "\n",
       "   movie_sequel    creative_type                             source  \\\n",
       "0             0  Science Fiction                Original Screenplay   \n",
       "1             1          Fantasy  Based on Fiction Book/Short Story   \n",
       "2             1  Science Fiction                        Based on TV   \n",
       "3             1     Kids Fiction                Original Screenplay   \n",
       "4             1          Fantasy           Based on Theme Park Ride   \n",
       "\n",
       "       production_method      genre language  \\\n",
       "0  Animation/Live Action     Action  English   \n",
       "1  Animation/Live Action  Adventure  English   \n",
       "2  Animation/Live Action     Action  English   \n",
       "3      Digital Animation  Adventure  English   \n",
       "4            Live Action  Adventure  English   \n",
       "\n",
       "                                 board_rating_reason  \\\n",
       "0  For intense epic battle sequences and warfare,...   \n",
       "1  for some sequences of intense action violence ...   \n",
       "2  for intense prolonged sequences of sci-fi acti...   \n",
       "3                                            General   \n",
       "4  for intense sequences of action/adventure viol...   \n",
       "\n",
       "  movie_board_rating_display_name movie_release_pattern_display_name  total  \\\n",
       "0                           PG-13                               Wide   2784   \n",
       "1                           PG-13                               Wide   1328   \n",
       "2                           PG-13                               Wide   1124   \n",
       "3                               G                               Wide   1064   \n",
       "4                           PG-13                               Wide   1044   \n",
       "\n",
       "   Category  \n",
       "0         9  \n",
       "1         9  \n",
       "2         9  \n",
       "3         9  \n",
       "4         9  "
      ]
     },
     "execution_count": 3,
     "metadata": {},
     "output_type": "execute_result"
    }
   ],
   "source": [
    "#Reading training data and displaying heads\n",
    "train = pd.read_excel('TrainingSheet.xlsx')\n",
    "train.head()"
   ]
  },
  {
   "cell_type": "code",
   "execution_count": 4,
   "metadata": {},
   "outputs": [
    {
     "name": "stdout",
     "output_type": "stream",
     "text": [
      "Shape of train data (1196, 15)\n"
     ]
    }
   ],
   "source": [
    "#Exploring Shape of the train data\n",
    "print(\"Shape of train data\", train.shape)"
   ]
  },
  {
   "cell_type": "code",
   "execution_count": 5,
   "metadata": {},
   "outputs": [
    {
     "name": "stdout",
     "output_type": "stream",
     "text": [
      "Train columns with null values:\n",
      " id                                    0\n",
      "name                                  0\n",
      "display_name                          0\n",
      "production_year                       0\n",
      "movie_sequel                          0\n",
      "creative_type                         0\n",
      "source                                0\n",
      "production_method                     0\n",
      "genre                                 0\n",
      "language                              0\n",
      "board_rating_reason                   0\n",
      "movie_board_rating_display_name       0\n",
      "movie_release_pattern_display_name    0\n",
      "total                                 0\n",
      "Category                              0\n",
      "dtype: int64\n",
      "--------------------\n"
     ]
    }
   ],
   "source": [
    "#Analyzing the null values if exist\n",
    "print('Train columns with null values:\\n', train.isnull().sum())\n",
    "print(\"-\"*20)"
   ]
  },
  {
   "cell_type": "code",
   "execution_count": 6,
   "metadata": {},
   "outputs": [
    {
     "data": {
      "text/html": [
       "<div>\n",
       "<style>\n",
       "    .dataframe thead tr:only-child th {\n",
       "        text-align: right;\n",
       "    }\n",
       "\n",
       "    .dataframe thead th {\n",
       "        text-align: left;\n",
       "    }\n",
       "\n",
       "    .dataframe tbody tr th {\n",
       "        vertical-align: top;\n",
       "    }\n",
       "</style>\n",
       "<table border=\"1\" class=\"dataframe\">\n",
       "  <thead>\n",
       "    <tr style=\"text-align: right;\">\n",
       "      <th></th>\n",
       "      <th>id</th>\n",
       "      <th>name</th>\n",
       "      <th>display_name</th>\n",
       "      <th>production_year</th>\n",
       "      <th>movie_sequel</th>\n",
       "      <th>creative_type</th>\n",
       "      <th>source</th>\n",
       "      <th>production_method</th>\n",
       "      <th>genre</th>\n",
       "      <th>language</th>\n",
       "      <th>board_rating_reason</th>\n",
       "      <th>movie_board_rating_display_name</th>\n",
       "      <th>movie_release_pattern_display_name</th>\n",
       "      <th>total</th>\n",
       "      <th>Category</th>\n",
       "    </tr>\n",
       "  </thead>\n",
       "  <tbody>\n",
       "    <tr>\n",
       "      <th>count</th>\n",
       "      <td>1.196000e+03</td>\n",
       "      <td>1196</td>\n",
       "      <td>1196</td>\n",
       "      <td>1196.000000</td>\n",
       "      <td>1196.000000</td>\n",
       "      <td>1196</td>\n",
       "      <td>1196</td>\n",
       "      <td>1196</td>\n",
       "      <td>1196</td>\n",
       "      <td>1196</td>\n",
       "      <td>1196</td>\n",
       "      <td>1196</td>\n",
       "      <td>1196</td>\n",
       "      <td>1196.000000</td>\n",
       "      <td>1196.000000</td>\n",
       "    </tr>\n",
       "    <tr>\n",
       "      <th>unique</th>\n",
       "      <td>NaN</td>\n",
       "      <td>1196</td>\n",
       "      <td>1195</td>\n",
       "      <td>NaN</td>\n",
       "      <td>NaN</td>\n",
       "      <td>9</td>\n",
       "      <td>16</td>\n",
       "      <td>6</td>\n",
       "      <td>13</td>\n",
       "      <td>16</td>\n",
       "      <td>1003</td>\n",
       "      <td>6</td>\n",
       "      <td>7</td>\n",
       "      <td>NaN</td>\n",
       "      <td>NaN</td>\n",
       "    </tr>\n",
       "    <tr>\n",
       "      <th>top</th>\n",
       "      <td>NaN</td>\n",
       "      <td>Reign Over Me</td>\n",
       "      <td>Death at a Funeral</td>\n",
       "      <td>NaN</td>\n",
       "      <td>NaN</td>\n",
       "      <td>Contemporary Fiction</td>\n",
       "      <td>Original Screenplay</td>\n",
       "      <td>Live Action</td>\n",
       "      <td>Drama</td>\n",
       "      <td>English</td>\n",
       "      <td>International - to be excluded</td>\n",
       "      <td>R</td>\n",
       "      <td>Wide</td>\n",
       "      <td>NaN</td>\n",
       "      <td>NaN</td>\n",
       "    </tr>\n",
       "    <tr>\n",
       "      <th>freq</th>\n",
       "      <td>NaN</td>\n",
       "      <td>1</td>\n",
       "      <td>2</td>\n",
       "      <td>NaN</td>\n",
       "      <td>NaN</td>\n",
       "      <td>638</td>\n",
       "      <td>629</td>\n",
       "      <td>1093</td>\n",
       "      <td>321</td>\n",
       "      <td>1144</td>\n",
       "      <td>83</td>\n",
       "      <td>448</td>\n",
       "      <td>795</td>\n",
       "      <td>NaN</td>\n",
       "      <td>NaN</td>\n",
       "    </tr>\n",
       "    <tr>\n",
       "      <th>mean</th>\n",
       "      <td>8.928203e+07</td>\n",
       "      <td>NaN</td>\n",
       "      <td>NaN</td>\n",
       "      <td>2008.984950</td>\n",
       "      <td>0.097826</td>\n",
       "      <td>NaN</td>\n",
       "      <td>NaN</td>\n",
       "      <td>NaN</td>\n",
       "      <td>NaN</td>\n",
       "      <td>NaN</td>\n",
       "      <td>NaN</td>\n",
       "      <td>NaN</td>\n",
       "      <td>NaN</td>\n",
       "      <td>104.703177</td>\n",
       "      <td>3.564381</td>\n",
       "    </tr>\n",
       "    <tr>\n",
       "      <th>std</th>\n",
       "      <td>4.832893e+07</td>\n",
       "      <td>NaN</td>\n",
       "      <td>NaN</td>\n",
       "      <td>1.383625</td>\n",
       "      <td>0.297204</td>\n",
       "      <td>NaN</td>\n",
       "      <td>NaN</td>\n",
       "      <td>NaN</td>\n",
       "      <td>NaN</td>\n",
       "      <td>NaN</td>\n",
       "      <td>NaN</td>\n",
       "      <td>NaN</td>\n",
       "      <td>NaN</td>\n",
       "      <td>181.927715</td>\n",
       "      <td>1.962417</td>\n",
       "    </tr>\n",
       "    <tr>\n",
       "      <th>min</th>\n",
       "      <td>7.011500e+04</td>\n",
       "      <td>NaN</td>\n",
       "      <td>NaN</td>\n",
       "      <td>2007.000000</td>\n",
       "      <td>0.000000</td>\n",
       "      <td>NaN</td>\n",
       "      <td>NaN</td>\n",
       "      <td>NaN</td>\n",
       "      <td>NaN</td>\n",
       "      <td>NaN</td>\n",
       "      <td>NaN</td>\n",
       "      <td>NaN</td>\n",
       "      <td>NaN</td>\n",
       "      <td>1.000000</td>\n",
       "      <td>1.000000</td>\n",
       "    </tr>\n",
       "    <tr>\n",
       "      <th>25%</th>\n",
       "      <td>4.808012e+07</td>\n",
       "      <td>NaN</td>\n",
       "      <td>NaN</td>\n",
       "      <td>2008.000000</td>\n",
       "      <td>0.000000</td>\n",
       "      <td>NaN</td>\n",
       "      <td>NaN</td>\n",
       "      <td>NaN</td>\n",
       "      <td>NaN</td>\n",
       "      <td>NaN</td>\n",
       "      <td>NaN</td>\n",
       "      <td>NaN</td>\n",
       "      <td>NaN</td>\n",
       "      <td>11.000000</td>\n",
       "      <td>2.000000</td>\n",
       "    </tr>\n",
       "    <tr>\n",
       "      <th>50%</th>\n",
       "      <td>9.391012e+07</td>\n",
       "      <td>NaN</td>\n",
       "      <td>NaN</td>\n",
       "      <td>2009.000000</td>\n",
       "      <td>0.000000</td>\n",
       "      <td>NaN</td>\n",
       "      <td>NaN</td>\n",
       "      <td>NaN</td>\n",
       "      <td>NaN</td>\n",
       "      <td>NaN</td>\n",
       "      <td>NaN</td>\n",
       "      <td>NaN</td>\n",
       "      <td>NaN</td>\n",
       "      <td>40.500000</td>\n",
       "      <td>3.000000</td>\n",
       "    </tr>\n",
       "    <tr>\n",
       "      <th>75%</th>\n",
       "      <td>1.354326e+08</td>\n",
       "      <td>NaN</td>\n",
       "      <td>NaN</td>\n",
       "      <td>2010.000000</td>\n",
       "      <td>0.000000</td>\n",
       "      <td>NaN</td>\n",
       "      <td>NaN</td>\n",
       "      <td>NaN</td>\n",
       "      <td>NaN</td>\n",
       "      <td>NaN</td>\n",
       "      <td>NaN</td>\n",
       "      <td>NaN</td>\n",
       "      <td>NaN</td>\n",
       "      <td>114.250000</td>\n",
       "      <td>5.000000</td>\n",
       "    </tr>\n",
       "    <tr>\n",
       "      <th>max</th>\n",
       "      <td>1.769701e+08</td>\n",
       "      <td>NaN</td>\n",
       "      <td>NaN</td>\n",
       "      <td>2011.000000</td>\n",
       "      <td>1.000000</td>\n",
       "      <td>NaN</td>\n",
       "      <td>NaN</td>\n",
       "      <td>NaN</td>\n",
       "      <td>NaN</td>\n",
       "      <td>NaN</td>\n",
       "      <td>NaN</td>\n",
       "      <td>NaN</td>\n",
       "      <td>NaN</td>\n",
       "      <td>2784.000000</td>\n",
       "      <td>9.000000</td>\n",
       "    </tr>\n",
       "  </tbody>\n",
       "</table>\n",
       "</div>"
      ],
      "text/plain": [
       "                  id           name        display_name  production_year  \\\n",
       "count   1.196000e+03           1196                1196      1196.000000   \n",
       "unique           NaN           1196                1195              NaN   \n",
       "top              NaN  Reign Over Me  Death at a Funeral              NaN   \n",
       "freq             NaN              1                   2              NaN   \n",
       "mean    8.928203e+07            NaN                 NaN      2008.984950   \n",
       "std     4.832893e+07            NaN                 NaN         1.383625   \n",
       "min     7.011500e+04            NaN                 NaN      2007.000000   \n",
       "25%     4.808012e+07            NaN                 NaN      2008.000000   \n",
       "50%     9.391012e+07            NaN                 NaN      2009.000000   \n",
       "75%     1.354326e+08            NaN                 NaN      2010.000000   \n",
       "max     1.769701e+08            NaN                 NaN      2011.000000   \n",
       "\n",
       "        movie_sequel         creative_type               source  \\\n",
       "count    1196.000000                  1196                 1196   \n",
       "unique           NaN                     9                   16   \n",
       "top              NaN  Contemporary Fiction  Original Screenplay   \n",
       "freq             NaN                   638                  629   \n",
       "mean        0.097826                   NaN                  NaN   \n",
       "std         0.297204                   NaN                  NaN   \n",
       "min         0.000000                   NaN                  NaN   \n",
       "25%         0.000000                   NaN                  NaN   \n",
       "50%         0.000000                   NaN                  NaN   \n",
       "75%         0.000000                   NaN                  NaN   \n",
       "max         1.000000                   NaN                  NaN   \n",
       "\n",
       "       production_method  genre language             board_rating_reason  \\\n",
       "count               1196   1196     1196                            1196   \n",
       "unique                 6     13       16                            1003   \n",
       "top          Live Action  Drama  English  International - to be excluded   \n",
       "freq                1093    321     1144                              83   \n",
       "mean                 NaN    NaN      NaN                             NaN   \n",
       "std                  NaN    NaN      NaN                             NaN   \n",
       "min                  NaN    NaN      NaN                             NaN   \n",
       "25%                  NaN    NaN      NaN                             NaN   \n",
       "50%                  NaN    NaN      NaN                             NaN   \n",
       "75%                  NaN    NaN      NaN                             NaN   \n",
       "max                  NaN    NaN      NaN                             NaN   \n",
       "\n",
       "       movie_board_rating_display_name movie_release_pattern_display_name  \\\n",
       "count                             1196                               1196   \n",
       "unique                               6                                  7   \n",
       "top                                  R                               Wide   \n",
       "freq                               448                                795   \n",
       "mean                               NaN                                NaN   \n",
       "std                                NaN                                NaN   \n",
       "min                                NaN                                NaN   \n",
       "25%                                NaN                                NaN   \n",
       "50%                                NaN                                NaN   \n",
       "75%                                NaN                                NaN   \n",
       "max                                NaN                                NaN   \n",
       "\n",
       "              total     Category  \n",
       "count   1196.000000  1196.000000  \n",
       "unique          NaN          NaN  \n",
       "top             NaN          NaN  \n",
       "freq            NaN          NaN  \n",
       "mean     104.703177     3.564381  \n",
       "std      181.927715     1.962417  \n",
       "min        1.000000     1.000000  \n",
       "25%       11.000000     2.000000  \n",
       "50%       40.500000     3.000000  \n",
       "75%      114.250000     5.000000  \n",
       "max     2784.000000     9.000000  "
      ]
     },
     "execution_count": 6,
     "metadata": {},
     "output_type": "execute_result"
    }
   ],
   "source": [
    "#Reviewing summary of the train data\n",
    "train.describe(include='all')"
   ]
  },
  {
   "cell_type": "code",
   "execution_count": 7,
   "metadata": {
    "collapsed": true
   },
   "outputs": [],
   "source": [
    "#drop irrelevant features\n",
    "def cleanDataSet(df):\n",
    "    file= df.drop([\n",
    "                   'id', 'name','display_name','board_rating_reason'\n",
    "                  ], axis = 1)\n",
    "    return file\n",
    "train= cleanDataSet(train)\n",
    "\n",
    "#drop_cols = [\"id\",\"name\",\"display_name\",\"board_rating_reason\"]\n",
    "#train= train.drop(drop_cols, axis=1)"
   ]
  },
  {
   "cell_type": "code",
   "execution_count": 8,
   "metadata": {},
   "outputs": [
    {
     "name": "stdout",
     "output_type": "stream",
     "text": [
      "--------------------\n"
     ]
    },
    {
     "data": {
      "text/plain": [
       "production_year                          int64\n",
       "movie_sequel                             int64\n",
       "creative_type                         category\n",
       "source                                category\n",
       "production_method                     category\n",
       "genre                                 category\n",
       "language                              category\n",
       "movie_board_rating_display_name       category\n",
       "movie_release_pattern_display_name    category\n",
       "total                                    int64\n",
       "Category                                 int64\n",
       "dtype: object"
      ]
     },
     "execution_count": 8,
     "metadata": {},
     "output_type": "execute_result"
    }
   ],
   "source": [
    "#Converting object fields to category type\n",
    "for column in train.select_dtypes(include=[np.object]).columns:\n",
    "    train[column]=train[column].astype('category', categories=train[column].unique())\n",
    "print(\"-\"*20)    \n",
    "train.dtypes    "
   ]
  },
  {
   "cell_type": "code",
   "execution_count": 9,
   "metadata": {},
   "outputs": [
    {
     "data": {
      "image/png": "[encoded data removed]",
      "text/plain": [
       "<matplotlib.figure.Figure at 0x116715898>"
      ]
     },
     "metadata": {},
     "output_type": "display_data"
    }
   ],
   "source": [
    "#Basic pairplot visual to see how data is aligned and check outliers\n",
    "pp = sns.pairplot(train, hue = 'Category',palette=\"husl\")\n",
    "plt.show()\n"
   ]
  },
  {
   "cell_type": "code",
   "execution_count": 10,
   "metadata": {
    "collapsed": true
   },
   "outputs": [],
   "source": [
    "#Converting Categorical values to dummy for feeding in algorithms\n",
    "df = pd.get_dummies(data=train, columns= ['creative_type',\n",
    "                              'source',\n",
    "                              'movie_sequel',\n",
    "                              'production_method',\n",
    "                              'genre',\n",
    "                              'language',\n",
    "                              'movie_board_rating_display_name',\n",
    "                              'movie_release_pattern_display_name'])"
   ]
  },
  {
   "cell_type": "code",
   "execution_count": 11,
   "metadata": {},
   "outputs": [
    {
     "data": {
      "text/html": [
       "<div>\n",
       "<style>\n",
       "    .dataframe thead tr:only-child th {\n",
       "        text-align: right;\n",
       "    }\n",
       "\n",
       "    .dataframe thead th {\n",
       "        text-align: left;\n",
       "    }\n",
       "\n",
       "    .dataframe tbody tr th {\n",
       "        vertical-align: top;\n",
       "    }\n",
       "</style>\n",
       "<table border=\"1\" class=\"dataframe\">\n",
       "  <thead>\n",
       "    <tr style=\"text-align: right;\">\n",
       "      <th></th>\n",
       "      <th>production_year</th>\n",
       "      <th>total</th>\n",
       "      <th>Category</th>\n",
       "      <th>creative_type_Science Fiction</th>\n",
       "      <th>creative_type_Fantasy</th>\n",
       "      <th>creative_type_Kids Fiction</th>\n",
       "      <th>creative_type_Super Hero</th>\n",
       "      <th>creative_type_Historical Fiction</th>\n",
       "      <th>creative_type_Contemporary Fiction</th>\n",
       "      <th>creative_type_Dramatization</th>\n",
       "      <th>...</th>\n",
       "      <th>movie_board_rating_display_name_R</th>\n",
       "      <th>movie_board_rating_display_name_Not Rated</th>\n",
       "      <th>movie_board_rating_display_name_NC-17</th>\n",
       "      <th>movie_release_pattern_display_name_Wide</th>\n",
       "      <th>movie_release_pattern_display_name_Expands Wide</th>\n",
       "      <th>movie_release_pattern_display_name_Limited</th>\n",
       "      <th>movie_release_pattern_display_name_Exclusive</th>\n",
       "      <th>movie_release_pattern_display_name_IMAX</th>\n",
       "      <th>movie_release_pattern_display_name_Special Engagement</th>\n",
       "      <th>movie_release_pattern_display_name_Oscar Qualifying Run</th>\n",
       "    </tr>\n",
       "  </thead>\n",
       "  <tbody>\n",
       "    <tr>\n",
       "      <th>0</th>\n",
       "      <td>2009</td>\n",
       "      <td>2784</td>\n",
       "      <td>9</td>\n",
       "      <td>1</td>\n",
       "      <td>0</td>\n",
       "      <td>0</td>\n",
       "      <td>0</td>\n",
       "      <td>0</td>\n",
       "      <td>0</td>\n",
       "      <td>0</td>\n",
       "      <td>...</td>\n",
       "      <td>0</td>\n",
       "      <td>0</td>\n",
       "      <td>0</td>\n",
       "      <td>1</td>\n",
       "      <td>0</td>\n",
       "      <td>0</td>\n",
       "      <td>0</td>\n",
       "      <td>0</td>\n",
       "      <td>0</td>\n",
       "      <td>0</td>\n",
       "    </tr>\n",
       "    <tr>\n",
       "      <th>1</th>\n",
       "      <td>2011</td>\n",
       "      <td>1328</td>\n",
       "      <td>9</td>\n",
       "      <td>0</td>\n",
       "      <td>1</td>\n",
       "      <td>0</td>\n",
       "      <td>0</td>\n",
       "      <td>0</td>\n",
       "      <td>0</td>\n",
       "      <td>0</td>\n",
       "      <td>...</td>\n",
       "      <td>0</td>\n",
       "      <td>0</td>\n",
       "      <td>0</td>\n",
       "      <td>1</td>\n",
       "      <td>0</td>\n",
       "      <td>0</td>\n",
       "      <td>0</td>\n",
       "      <td>0</td>\n",
       "      <td>0</td>\n",
       "      <td>0</td>\n",
       "    </tr>\n",
       "    <tr>\n",
       "      <th>2</th>\n",
       "      <td>2011</td>\n",
       "      <td>1124</td>\n",
       "      <td>9</td>\n",
       "      <td>1</td>\n",
       "      <td>0</td>\n",
       "      <td>0</td>\n",
       "      <td>0</td>\n",
       "      <td>0</td>\n",
       "      <td>0</td>\n",
       "      <td>0</td>\n",
       "      <td>...</td>\n",
       "      <td>0</td>\n",
       "      <td>0</td>\n",
       "      <td>0</td>\n",
       "      <td>1</td>\n",
       "      <td>0</td>\n",
       "      <td>0</td>\n",
       "      <td>0</td>\n",
       "      <td>0</td>\n",
       "      <td>0</td>\n",
       "      <td>0</td>\n",
       "    </tr>\n",
       "    <tr>\n",
       "      <th>3</th>\n",
       "      <td>2010</td>\n",
       "      <td>1064</td>\n",
       "      <td>9</td>\n",
       "      <td>0</td>\n",
       "      <td>0</td>\n",
       "      <td>1</td>\n",
       "      <td>0</td>\n",
       "      <td>0</td>\n",
       "      <td>0</td>\n",
       "      <td>0</td>\n",
       "      <td>...</td>\n",
       "      <td>0</td>\n",
       "      <td>0</td>\n",
       "      <td>0</td>\n",
       "      <td>1</td>\n",
       "      <td>0</td>\n",
       "      <td>0</td>\n",
       "      <td>0</td>\n",
       "      <td>0</td>\n",
       "      <td>0</td>\n",
       "      <td>0</td>\n",
       "    </tr>\n",
       "    <tr>\n",
       "      <th>4</th>\n",
       "      <td>2011</td>\n",
       "      <td>1044</td>\n",
       "      <td>9</td>\n",
       "      <td>0</td>\n",
       "      <td>1</td>\n",
       "      <td>0</td>\n",
       "      <td>0</td>\n",
       "      <td>0</td>\n",
       "      <td>0</td>\n",
       "      <td>0</td>\n",
       "      <td>...</td>\n",
       "      <td>0</td>\n",
       "      <td>0</td>\n",
       "      <td>0</td>\n",
       "      <td>1</td>\n",
       "      <td>0</td>\n",
       "      <td>0</td>\n",
       "      <td>0</td>\n",
       "      <td>0</td>\n",
       "      <td>0</td>\n",
       "      <td>0</td>\n",
       "    </tr>\n",
       "  </tbody>\n",
       "</table>\n",
       "<p>5 rows × 78 columns</p>\n",
       "</div>"
      ],
      "text/plain": [
       "   production_year  total  Category  creative_type_Science Fiction  \\\n",
       "0             2009   2784         9                              1   \n",
       "1             2011   1328         9                              0   \n",
       "2             2011   1124         9                              1   \n",
       "3             2010   1064         9                              0   \n",
       "4             2011   1044         9                              0   \n",
       "\n",
       "   creative_type_Fantasy  creative_type_Kids Fiction  \\\n",
       "0                      0                           0   \n",
       "1                      1                           0   \n",
       "2                      0                           0   \n",
       "3                      0                           1   \n",
       "4                      1                           0   \n",
       "\n",
       "   creative_type_Super Hero  creative_type_Historical Fiction  \\\n",
       "0                         0                                 0   \n",
       "1                         0                                 0   \n",
       "2                         0                                 0   \n",
       "3                         0                                 0   \n",
       "4                         0                                 0   \n",
       "\n",
       "   creative_type_Contemporary Fiction  creative_type_Dramatization  \\\n",
       "0                                   0                            0   \n",
       "1                                   0                            0   \n",
       "2                                   0                            0   \n",
       "3                                   0                            0   \n",
       "4                                   0                            0   \n",
       "\n",
       "                            ...                             \\\n",
       "0                           ...                              \n",
       "1                           ...                              \n",
       "2                           ...                              \n",
       "3                           ...                              \n",
       "4                           ...                              \n",
       "\n",
       "   movie_board_rating_display_name_R  \\\n",
       "0                                  0   \n",
       "1                                  0   \n",
       "2                                  0   \n",
       "3                                  0   \n",
       "4                                  0   \n",
       "\n",
       "   movie_board_rating_display_name_Not Rated  \\\n",
       "0                                          0   \n",
       "1                                          0   \n",
       "2                                          0   \n",
       "3                                          0   \n",
       "4                                          0   \n",
       "\n",
       "   movie_board_rating_display_name_NC-17  \\\n",
       "0                                      0   \n",
       "1                                      0   \n",
       "2                                      0   \n",
       "3                                      0   \n",
       "4                                      0   \n",
       "\n",
       "   movie_release_pattern_display_name_Wide  \\\n",
       "0                                        1   \n",
       "1                                        1   \n",
       "2                                        1   \n",
       "3                                        1   \n",
       "4                                        1   \n",
       "\n",
       "   movie_release_pattern_display_name_Expands Wide  \\\n",
       "0                                                0   \n",
       "1                                                0   \n",
       "2                                                0   \n",
       "3                                                0   \n",
       "4                                                0   \n",
       "\n",
       "   movie_release_pattern_display_name_Limited  \\\n",
       "0                                           0   \n",
       "1                                           0   \n",
       "2                                           0   \n",
       "3                                           0   \n",
       "4                                           0   \n",
       "\n",
       "   movie_release_pattern_display_name_Exclusive  \\\n",
       "0                                             0   \n",
       "1                                             0   \n",
       "2                                             0   \n",
       "3                                             0   \n",
       "4                                             0   \n",
       "\n",
       "   movie_release_pattern_display_name_IMAX  \\\n",
       "0                                        0   \n",
       "1                                        0   \n",
       "2                                        0   \n",
       "3                                        0   \n",
       "4                                        0   \n",
       "\n",
       "   movie_release_pattern_display_name_Special Engagement  \\\n",
       "0                                                  0       \n",
       "1                                                  0       \n",
       "2                                                  0       \n",
       "3                                                  0       \n",
       "4                                                  0       \n",
       "\n",
       "   movie_release_pattern_display_name_Oscar Qualifying Run  \n",
       "0                                                  0        \n",
       "1                                                  0        \n",
       "2                                                  0        \n",
       "3                                                  0        \n",
       "4                                                  0        \n",
       "\n",
       "[5 rows x 78 columns]"
      ]
     },
     "execution_count": 11,
     "metadata": {},
     "output_type": "execute_result"
    }
   ],
   "source": [
    "#Viewing data after conversion\n",
    "df.head(5)"
   ]
  },
  {
   "cell_type": "code",
   "execution_count": 12,
   "metadata": {},
   "outputs": [
    {
     "data": {
      "text/plain": [
       "2    247\n",
       "3    245\n",
       "4    206\n",
       "1    168\n",
       "5    132\n",
       "6     80\n",
       "7     61\n",
       "8     38\n",
       "9     19\n",
       "Name: Category, dtype: int64"
      ]
     },
     "execution_count": 12,
     "metadata": {},
     "output_type": "execute_result"
    }
   ],
   "source": [
    "#Counting the categories films in the train to check class imbalance\n",
    "df[\"Category\"].value_counts(dropna= False )"
   ]
  },
  {
   "cell_type": "code",
   "execution_count": 13,
   "metadata": {},
   "outputs": [
    {
     "data": {
      "image/png": "[encoded data removed]",
      "text/plain": [
       "<matplotlib.figure.Figure at 0x11ca6d630>"
      ]
     },
     "metadata": {},
     "output_type": "display_data"
    }
   ],
   "source": [
    "import matplotlib.pyplot as plt\n",
    "a = np.hstack(df['Category'])            \n",
    "plt.hist(a, bins='auto')  # arguments are passed to np.histogram\n",
    "plt.title(\"Histogram with 'auto' bins\")\n",
    "plt.show()"
   ]
  },
  {
   "cell_type": "code",
   "execution_count": 14,
   "metadata": {
    "collapsed": true
   },
   "outputs": [],
   "source": [
    "#Seperating dependent and independent features in train dataset\n",
    "ind_features = df.drop(\"Category\", axis=1)\n",
    "dep_feature = df[\"Category\"]\n",
    "X= ind_features\n",
    "y= dep_feature"
   ]
  },
  {
   "cell_type": "code",
   "execution_count": 3,
   "metadata": {},
   "outputs": [
    {
     "name": "stdout",
     "output_type": "stream",
     "text": [
      "Collecting imblearn\n",
      "\u001b[33m  Cache entry deserialization failed, entry ignored\u001b[0m\n",
      "\u001b[33m  Cache entry deserialization failed, entry ignored\u001b[0m\n",
      "  Downloading https://files.pythonhosted.org/packages/81/a7/4179e6ebfd654bd0eac0b9c06125b8b4c96a9d0a8ff9e9507eb2a26d2d7e/imblearn-0.0-py2.py3-none-any.whl\n",
      "Collecting imbalanced-learn (from imblearn)\n",
      "\u001b[33m  Cache entry deserialization failed, entry ignored\u001b[0m\n",
      "  Downloading https://files.pythonhosted.org/packages/e5/4c/7557e1c2e791bd43878f8c82065bddc5798252084f26ef44527c02262af1/imbalanced_learn-0.4.3-py3-none-any.whl (166kB)\n",
      "\u001b[K    100% |████████████████████████████████| 174kB 1.9MB/s ta 0:00:01\n",
      "\u001b[?25hCollecting scikit-learn>=0.20 (from imbalanced-learn->imblearn)\n",
      "\u001b[33m  Cache entry deserialization failed, entry ignored\u001b[0m\n",
      "\u001b[33m  Cache entry deserialization failed, entry ignored\u001b[0m\n",
      "  Downloading https://files.pythonhosted.org/packages/cb/5f/dfa0a118b8a503e45cd2cf48acb9cf1de8deaf06a3cef1b1c19bd5cbbc45/scikit_learn-0.20.2-cp36-cp36m-macosx_10_6_intel.macosx_10_9_intel.macosx_10_9_x86_64.macosx_10_10_intel.macosx_10_10_x86_64.whl (7.9MB)\n",
      "\u001b[K    100% |████████████████████████████████| 7.9MB 206kB/s ta 0:00:011    50% |████████████████▎               | 4.0MB 3.9MB/s eta 0:00:01\n",
      "\u001b[?25hRequirement already satisfied: numpy>=1.8.2 in /anaconda3/lib/python3.6/site-packages (from imbalanced-learn->imblearn)\n",
      "Requirement already satisfied: scipy>=0.13.3 in /anaconda3/lib/python3.6/site-packages (from imbalanced-learn->imblearn)\n",
      "Installing collected packages: scikit-learn, imbalanced-learn, imblearn\n",
      "  Found existing installation: scikit-learn 0.19.0\n",
      "    Uninstalling scikit-learn-0.19.0:\n",
      "      Successfully uninstalled scikit-learn-0.19.0\n",
      "Successfully installed imbalanced-learn-0.4.3 imblearn-0.0 scikit-learn-0.20.2\n",
      "\u001b[33mYou are using pip version 9.0.1, however version 19.0.1 is available.\n",
      "You should consider upgrading via the 'pip install --upgrade pip' command.\u001b[0m\n"
     ]
    }
   ],
   "source": [
    "import sys\n",
    "!{sys.executable} -m pip install imblearn"
   ]
  },
  {
   "cell_type": "code",
   "execution_count": 4,
   "metadata": {},
   "outputs": [
    {
     "name": "stdout",
     "output_type": "stream",
     "text": [
      "\n",
      "The following command must be run outside of the IPython shell:\n",
      "\n",
      "    $ pip install --upgrade pip\n",
      "\n",
      "The Python package manager (pip) can only be used from outside of IPython.\n",
      "Please reissue the `pip` command in a separate terminal or command prompt.\n",
      "\n",
      "See the Python documentation for more informations on how to install packages:\n",
      "\n",
      "    https://docs.python.org/3/installing/\n"
     ]
    }
   ],
   "source": [
    "pip install --upgrade pip"
   ]
  },
  {
   "cell_type": "code",
   "execution_count": 5,
   "metadata": {
    "collapsed": true
   },
   "outputs": [],
   "source": [
    "#SMOTE methodology to balance the imbalance class will \n",
    "#help us to learn the data better and reduce bias\n",
    "#SMOTE is used special plt.show()\n",
    "import imblearn.over_sampling\n",
    "from imblearn.over_sampling import SMOTE"
   ]
  },
  {
   "cell_type": "code",
   "execution_count": 24,
   "metadata": {},
   "outputs": [
    {
     "ename": "NameError",
     "evalue": "name 'SMOTE' is not defined",
     "output_type": "error",
     "traceback": [
      "\u001b[0;31m---------------------------------------------------------------------------\u001b[0m",
      "\u001b[0;31mNameError\u001b[0m                                 Traceback (most recent call last)",
      "\u001b[0;32m<ipython-input-24-f39ac842ac99>\u001b[0m in \u001b[0;36m<module>\u001b[0;34m()\u001b[0m\n\u001b[0;32m----> 1\u001b[0;31m \u001b[0msmote\u001b[0m \u001b[0;34m=\u001b[0m \u001b[0mSMOTE\u001b[0m\u001b[0;34m(\u001b[0m\u001b[0msampling_strategy\u001b[0m\u001b[0;34m=\u001b[0m\u001b[0;34m'minority'\u001b[0m\u001b[0;34m)\u001b[0m\u001b[0;34m\u001b[0m\u001b[0m\n\u001b[0m\u001b[1;32m      2\u001b[0m \u001b[0mX_sm\u001b[0m\u001b[0;34m,\u001b[0m \u001b[0mY_sm\u001b[0m \u001b[0;34m=\u001b[0m \u001b[0msmote\u001b[0m\u001b[0;34m.\u001b[0m\u001b[0mfit_sample\u001b[0m\u001b[0;34m(\u001b[0m\u001b[0mX\u001b[0m\u001b[0;34m,\u001b[0m \u001b[0mY\u001b[0m\u001b[0;34m)\u001b[0m\u001b[0;34m\u001b[0m\u001b[0m\n\u001b[1;32m      3\u001b[0m \u001b[0mplot_2d_space\u001b[0m\u001b[0;34m(\u001b[0m\u001b[0mX_sm\u001b[0m\u001b[0;34m,\u001b[0m \u001b[0mY_sm\u001b[0m\u001b[0;34m,\u001b[0m \u001b[0;34m'SMOTE over-sampling'\u001b[0m\u001b[0;34m)\u001b[0m\u001b[0;34m\u001b[0m\u001b[0m\n\u001b[1;32m      4\u001b[0m \u001b[0mX\u001b[0m \u001b[0;34m=\u001b[0m \u001b[0mX_sm\u001b[0m\u001b[0;34m\u001b[0m\u001b[0m\n\u001b[1;32m      5\u001b[0m \u001b[0mY\u001b[0m \u001b[0;34m=\u001b[0m \u001b[0mY_sm\u001b[0m\u001b[0;34m\u001b[0m\u001b[0m\n",
      "\u001b[0;31mNameError\u001b[0m: name 'SMOTE' is not defined"
     ]
    }
   ],
   "source": [
    "smote = SMOTE(sampling_strategy='minority')\n",
    "X_sm, Y_sm = smote.fit_sample(X, Y)\n",
    "plot_2d_space(X_sm, Y_sm, 'SMOTE over-sampling')\n",
    "X = X_sm\n",
    "Y = Y_sm"
   ]
  },
  {
   "cell_type": "code",
   "execution_count": 15,
   "metadata": {
    "collapsed": true
   },
   "outputs": [],
   "source": [
    "def featureScale(feature,df):\n",
    "    df.iloc[:,df.columns.get_loc(feature):df.columns.get_loc(feature)+1] = sc_X.fit_transform(df.iloc[:,df.columns.get_loc(feature):df.columns.get_loc(feature)+1])\n",
    "    return df;"
   ]
  },
  {
   "cell_type": "code",
   "execution_count": 16,
   "metadata": {
    "collapsed": true
   },
   "outputs": [],
   "source": [
    "#Scaling the data before modeling\n",
    "from sklearn.preprocessing import StandardScaler\n",
    "scaler = StandardScaler()\n",
    "X=ind_features.as_matrix().astype(np.float)\n",
    "X= scaler.fit_transform(X)\n",
    "y=dep_feature.values"
   ]
  },
  {
   "cell_type": "code",
   "execution_count": 17,
   "metadata": {},
   "outputs": [
    {
     "name": "stdout",
     "output_type": "stream",
     "text": [
      "Shape of features X: (1196, 77)\n",
      "Shape of target label y: (1196,)\n",
      "Unique values present in target label: [1 2 3 4 5 6 7 8 9]\n"
     ]
    }
   ],
   "source": [
    "#Printing the shape of the data\n",
    "print(\"Shape of features X:\",X.shape)\n",
    "print(\"Shape of target label y:\",y.shape)\n",
    "print(\"Unique values present in target label:\",np.unique(y))"
   ]
  },
  {
   "cell_type": "code",
   "execution_count": 18,
   "metadata": {
    "collapsed": true
   },
   "outputs": [],
   "source": [
    "#Test and Train Split\n",
    "X_train, X_test,  y_train, y_test = train_test_split(X,y,test_size=0.25, random_state=100)"
   ]
  },
  {
   "cell_type": "code",
   "execution_count": 21,
   "metadata": {},
   "outputs": [
    {
     "name": "stdout",
     "output_type": "stream",
     "text": [
      "Accuracy of LOGISTIC REGRESSION classifier on test set: 0.37\n"
     ]
    }
   ],
   "source": [
    "#Applying Logistic Regression Classification on test and train split\n",
    "clf_LR = LogisticRegression(class_weight='balanced')\n",
    "clfmodelcross= clf_LR.fit(X_train,y_train)\n",
    "# Predicting the Test set results \n",
    "y_pred = clfmodelcross.predict(X_test)\n",
    "#Accuracy \n",
    "print('Accuracy of LOGISTIC REGRESSION classifier on test set: {:.2f}'.format(clfmodelcross.score(X_test, y_test)))\n",
    "#LR gives low accuracy"
   ]
  },
  {
   "cell_type": "code",
   "execution_count": 22,
   "metadata": {},
   "outputs": [
    {
     "name": "stdout",
     "output_type": "stream",
     "text": [
      "Accuracy of LINEAR SVC classifier on test set: 0.46\n"
     ]
    }
   ],
   "source": [
    "#Applying Linear SVC on test and train split\n",
    "clf_SVC= LinearSVC()\n",
    "clfmodelcross=clf_SVC.fit(X_train,y_train)\n",
    "target_predicted_SVC=clf_SVC.predict(X_test)\n",
    "#Accuracy \n",
    "print('Accuracy of LINEAR SVC classifier on test set: {:.2f}'.format(clfmodelcross.score(X_test, y_test)))\n",
    "#Gives better accuracy than LR"
   ]
  },
  {
   "cell_type": "code",
   "execution_count": 27,
   "metadata": {},
   "outputs": [
    {
     "name": "stdout",
     "output_type": "stream",
     "text": [
      "Accuracy of GRADIENT BOOSTING classifier on test set: 0.97\n"
     ]
    }
   ],
   "source": [
    "#Applying Gradient Boostong Classifier on test and train split\n",
    "clf_GB= GBC()\n",
    "clfmodelcross=clf_GB.fit(X_train,y_train)\n",
    "target_predicted_GB=clf_GB.predict(X_test)\n",
    "#Accuracy \n",
    "print('Accuracy of GRADIENT BOOSTING classifier on test set: {:.2f}'.format(clfmodelcross.score(X_test, y_test)))\n",
    "#Accuracy is high but might over fit"
   ]
  },
  {
   "cell_type": "code",
   "execution_count": 28,
   "metadata": {},
   "outputs": [
    {
     "name": "stdout",
     "output_type": "stream",
     "text": [
      "Accuracy of RANDOM FOREST classifier on test set: 0.80\n"
     ]
    }
   ],
   "source": [
    "#Applying Random Forest Classifier on test and train split\n",
    "model_RFC=RFC(max_depth= None, max_features= 'sqrt', min_samples_leaf= 1, min_samples_split= 5, n_estimators= 300)\n",
    "clfmodelcross=model_RFC.fit(X_train,y_train)\n",
    "target_predicted_RF=model_RFC.predict(X_test)\n",
    "#Accuracy \n",
    "print('Accuracy of RANDOM FOREST classifier on test set: {:.2f}'.format(clfmodelcross.score(X_test, y_test)))"
   ]
  },
  {
   "cell_type": "code",
   "execution_count": 29,
   "metadata": {},
   "outputs": [
    {
     "name": "stdout",
     "output_type": "stream",
     "text": [
      "Accuracy of Naives Bayes classifier on test set: 0.09\n"
     ]
    }
   ],
   "source": [
    "#Applying Naives Bayes Classifier on test and train split\n",
    "model_NB=NB()\n",
    "clfmodelcross=model_NB.fit(X_train,y_train)\n",
    "target_predicted_NB=model_NB.predict(X_test)\n",
    "#Accuracy \n",
    "print('Accuracy of Naives Bayes classifier on test set: {:.2f}'.format(clfmodelcross.score(X_test, y_test)))"
   ]
  },
  {
   "cell_type": "code",
   "execution_count": 30,
   "metadata": {},
   "outputs": [
    {
     "name": "stdout",
     "output_type": "stream",
     "text": [
      "Accuracy of DECISION TREE classifier on test set: 0.77\n"
     ]
    }
   ],
   "source": [
    "#Applying Decision Tree Classifier on test and train split\n",
    "model_DTC=DTC(criterion = \"gini\", random_state = 100,max_depth=3, min_samples_leaf=5)\n",
    "clfmodelcross=model_DTC.fit(X_train,y_train)\n",
    "target_predicted_DT=model_DTC.predict(X_test)\n",
    "#Accuracy \n",
    "print('Accuracy of DECISION TREE classifier on test set: {:.2f}'.format(clfmodelcross.score(X_test, y_test)))\n",
    "\n",
    "#Accuracy for RF, DT and GBC are same on test and train split"
   ]
  },
  {
   "cell_type": "code",
   "execution_count": null,
   "metadata": {
    "collapsed": true
   },
   "outputs": [],
   "source": [
    "#Applying cross validation techniques (cv, kfold cv, \n",
    "#stratified kfold) to see how accuracy varies\n",
    "#I tried Leave one out cross validation but due to time complexity\n",
    "#I did not move further with it"
   ]
  },
  {
   "cell_type": "code",
   "execution_count": 31,
   "metadata": {},
   "outputs": [
    {
     "name": "stdout",
     "output_type": "stream",
     "text": [
      "Linear SVC-->Accuracy: 0.44 (+/- 0.11)\n",
      "\n",
      "Logistic Regression-->Accuracy: 0.36 (+/- 0.03)\n",
      "\n",
      "naive_bayes-->Accuracy: 0.12 (+/- 0.07)\n",
      "\n",
      "RandomForestClassifier-->Accuracy: 0.66 (+/- 0.32)\n",
      "\n",
      "DecisionTree-->Accuracy: 0.81 (+/- 0.46)\n",
      "\n",
      "GradientBoostingClassifier-->Accuracy: 0.81 (+/- 0.46)\n",
      "\n"
     ]
    }
   ],
   "source": [
    "# Modeling using cross validation\n",
    "models_name=['Linear SVC','Logistic Regression','naive_bayes','RandomForestClassifier','DecisionTree','GradientBoostingClassifier']\n",
    "models_list= [LinearSVC(),LogisticRegression(),NB(),RFC(),DTC(),GBC()]\n",
    "for i, j in zip(models_name, models_list):\n",
    "    scores = cross_val_score(j, X,y, cv=5)\n",
    "    print(i+\"-->\"+ \"Accuracy: %0.2f (+/- %0.2f)\" % (scores.mean(), scores.std() * 2))\n",
    "    print()\n"
   ]
  },
  {
   "cell_type": "code",
   "execution_count": 32,
   "metadata": {},
   "outputs": [
    {
     "name": "stdout",
     "output_type": "stream",
     "text": [
      "Linear SVC--Accuracy: 0.15 (+/- 0.17)\n",
      "\n",
      "Logistic Regression--Accuracy: 0.12 (+/- 0.10)\n",
      "\n",
      "naive_bayes--Accuracy: 0.20 (+/- 0.24)\n",
      "\n",
      "RandomForestClassifier--Accuracy: 0.42 (+/- 0.41)\n",
      "\n",
      "DecisionTree--Accuracy: 0.63 (+/- 0.66)\n",
      "\n",
      "GradientBoostingClassifier--Accuracy: 0.63 (+/- 0.66)\n",
      "\n"
     ]
    }
   ],
   "source": [
    "# Modeling using k-fold cross validation\n",
    "kf=KFold(n_splits=5)\n",
    "model_name=['Linear SVC','Logistic Regression','naive_bayes','RandomForestClassifier','DecisionTree','GradientBoostingClassifier']\n",
    "models_list= [LinearSVC(),LogisticRegression(),NB(),RFC(),DTC(),GBC()]\n",
    "for i, j in zip(model_name, models_list):\n",
    "    scores = cross_val_score(j, X, y, cv=kf)\n",
    "    print(i+\"--\"+ \"Accuracy: %0.2f (+/- %0.2f)\" % (scores.mean(), scores.std() * 2))\n",
    "    print()"
   ]
  },
  {
   "cell_type": "code",
   "execution_count": 33,
   "metadata": {},
   "outputs": [
    {
     "name": "stdout",
     "output_type": "stream",
     "text": [
      "Linear SVC--Accuracy: 0.44 (+/- 0.11)\n",
      "\n",
      "Logistic Regression--Accuracy: 0.36 (+/- 0.03)\n",
      "\n",
      "naive_bayes--Accuracy: 0.12 (+/- 0.07)\n",
      "\n",
      "RandomForestClassifier--Accuracy: 0.65 (+/- 0.33)\n",
      "\n",
      "DecisionTree--Accuracy: 0.81 (+/- 0.46)\n",
      "\n",
      "GradientBoostingClassifier--Accuracy: 0.81 (+/- 0.46)\n",
      "\n"
     ]
    }
   ],
   "source": [
    "# Modeling using cross validation\n",
    "skf = StratifiedKFold(n_splits=5)\n",
    "model_name=['Linear SVC','Logistic Regression','naive_bayes','RandomForestClassifier','DecisionTree','GradientBoostingClassifier']\n",
    "models_list= [LinearSVC(),LogisticRegression(),NB(),RFC(),DTC(),GBC()]\n",
    "for i, j in zip(model_name, models_list):\n",
    "    scores = cross_val_score(j, X, y, cv=skf)\n",
    "    #print(scores)\n",
    "    print(i+\"--\"+ \"Accuracy: %0.2f (+/- %0.2f)\" % (scores.mean(), scores.std() * 2))\n",
    "    print()"
   ]
  },
  {
   "cell_type": "code",
   "execution_count": 34,
   "metadata": {
    "collapsed": true
   },
   "outputs": [],
   "source": [
    "#Consistently we see that RF, DT and GBC perform well. Since DT has a nature of overfitting I will not use it for final modeling"
   ]
  },
  {
   "cell_type": "code",
   "execution_count": 35,
   "metadata": {},
   "outputs": [
    {
     "data": {
      "text/html": [
       "<div>\n",
       "<style>\n",
       "    .dataframe thead tr:only-child th {\n",
       "        text-align: right;\n",
       "    }\n",
       "\n",
       "    .dataframe thead th {\n",
       "        text-align: left;\n",
       "    }\n",
       "\n",
       "    .dataframe tbody tr th {\n",
       "        vertical-align: top;\n",
       "    }\n",
       "</style>\n",
       "<table border=\"1\" class=\"dataframe\">\n",
       "  <thead>\n",
       "    <tr style=\"text-align: right;\">\n",
       "      <th></th>\n",
       "      <th>id</th>\n",
       "      <th>name</th>\n",
       "      <th>display_name</th>\n",
       "      <th>production_budget</th>\n",
       "      <th>production_year</th>\n",
       "      <th>movie_sequel</th>\n",
       "      <th>creative_type</th>\n",
       "      <th>source</th>\n",
       "      <th>production_method</th>\n",
       "      <th>genre</th>\n",
       "      <th>language</th>\n",
       "      <th>board_rating_reason</th>\n",
       "      <th>movie_board_rating_display_name</th>\n",
       "      <th>movie_release_pattern_display_name</th>\n",
       "    </tr>\n",
       "  </thead>\n",
       "  <tbody>\n",
       "    <tr>\n",
       "      <th>0</th>\n",
       "      <td>7970115</td>\n",
       "      <td>Avengers, The (2011)</td>\n",
       "      <td>Marvel's The Avengers</td>\n",
       "      <td>225000000</td>\n",
       "      <td>2012</td>\n",
       "      <td>0</td>\n",
       "      <td>Super Hero</td>\n",
       "      <td>Based on Comic/Graphic Novel</td>\n",
       "      <td>Live Action</td>\n",
       "      <td>Adventure</td>\n",
       "      <td>English</td>\n",
       "      <td>for intense sequences of sci-fi violence and a...</td>\n",
       "      <td>PG-13</td>\n",
       "      <td>Wide</td>\n",
       "    </tr>\n",
       "    <tr>\n",
       "      <th>1</th>\n",
       "      <td>174540115</td>\n",
       "      <td>Dark Knight Rises The</td>\n",
       "      <td>The Dark Knight Rises</td>\n",
       "      <td>0</td>\n",
       "      <td>2012</td>\n",
       "      <td>1</td>\n",
       "      <td>Super Hero</td>\n",
       "      <td>Based on Comic/Graphic Novel</td>\n",
       "      <td>Live Action</td>\n",
       "      <td>Action</td>\n",
       "      <td>English</td>\n",
       "      <td>for intense sequences of violence and action, ...</td>\n",
       "      <td>PG-13</td>\n",
       "      <td>Wide</td>\n",
       "    </tr>\n",
       "    <tr>\n",
       "      <th>2</th>\n",
       "      <td>149080115</td>\n",
       "      <td>Bond 23</td>\n",
       "      <td>Skyfall</td>\n",
       "      <td>200000000</td>\n",
       "      <td>2012</td>\n",
       "      <td>1</td>\n",
       "      <td>Contemporary Fiction</td>\n",
       "      <td>Based on Fiction Book/Short Story</td>\n",
       "      <td>Live Action</td>\n",
       "      <td>Action</td>\n",
       "      <td>English</td>\n",
       "      <td>for intense violent sequences throughout, some...</td>\n",
       "      <td>PG-13</td>\n",
       "      <td>Wide</td>\n",
       "    </tr>\n",
       "    <tr>\n",
       "      <th>3</th>\n",
       "      <td>136020115</td>\n",
       "      <td>Twilight Saga Breaking Dawn Part 2 The</td>\n",
       "      <td>The Twilight Saga: Breaking Dawn, Part 2</td>\n",
       "      <td>136200000</td>\n",
       "      <td>2012</td>\n",
       "      <td>1</td>\n",
       "      <td>Fantasy</td>\n",
       "      <td>Based on Fiction Book/Short Story</td>\n",
       "      <td>Live Action</td>\n",
       "      <td>Drama</td>\n",
       "      <td>English</td>\n",
       "      <td>for sequences of violence including disturbing...</td>\n",
       "      <td>PG-13</td>\n",
       "      <td>Wide</td>\n",
       "    </tr>\n",
       "    <tr>\n",
       "      <th>4</th>\n",
       "      <td>53500115</td>\n",
       "      <td>Hobbit, The</td>\n",
       "      <td>The Hobbit: An Unexpected Journey</td>\n",
       "      <td>270000000</td>\n",
       "      <td>2012</td>\n",
       "      <td>1</td>\n",
       "      <td>Fantasy</td>\n",
       "      <td>Based on Fiction Book/Short Story</td>\n",
       "      <td>Animation/Live Action</td>\n",
       "      <td>Adventure</td>\n",
       "      <td>English</td>\n",
       "      <td>for extended sequences of intense fantasy acti...</td>\n",
       "      <td>PG-13</td>\n",
       "      <td>Wide</td>\n",
       "    </tr>\n",
       "  </tbody>\n",
       "</table>\n",
       "</div>"
      ],
      "text/plain": [
       "          id                                    name  \\\n",
       "0    7970115                    Avengers, The (2011)   \n",
       "1  174540115                   Dark Knight Rises The   \n",
       "2  149080115                                 Bond 23   \n",
       "3  136020115  Twilight Saga Breaking Dawn Part 2 The   \n",
       "4   53500115                             Hobbit, The   \n",
       "\n",
       "                               display_name  production_budget  \\\n",
       "0                     Marvel's The Avengers          225000000   \n",
       "1                     The Dark Knight Rises                  0   \n",
       "2                                   Skyfall          200000000   \n",
       "3  The Twilight Saga: Breaking Dawn, Part 2          136200000   \n",
       "4         The Hobbit: An Unexpected Journey          270000000   \n",
       "\n",
       "   production_year  movie_sequel         creative_type  \\\n",
       "0             2012             0            Super Hero   \n",
       "1             2012             1            Super Hero   \n",
       "2             2012             1  Contemporary Fiction   \n",
       "3             2012             1               Fantasy   \n",
       "4             2012             1               Fantasy   \n",
       "\n",
       "                              source      production_method      genre  \\\n",
       "0       Based on Comic/Graphic Novel            Live Action  Adventure   \n",
       "1       Based on Comic/Graphic Novel            Live Action     Action   \n",
       "2  Based on Fiction Book/Short Story            Live Action     Action   \n",
       "3  Based on Fiction Book/Short Story            Live Action      Drama   \n",
       "4  Based on Fiction Book/Short Story  Animation/Live Action  Adventure   \n",
       "\n",
       "  language                                board_rating_reason  \\\n",
       "0  English  for intense sequences of sci-fi violence and a...   \n",
       "1  English  for intense sequences of violence and action, ...   \n",
       "2  English  for intense violent sequences throughout, some...   \n",
       "3  English  for sequences of violence including disturbing...   \n",
       "4  English  for extended sequences of intense fantasy acti...   \n",
       "\n",
       "  movie_board_rating_display_name movie_release_pattern_display_name  \n",
       "0                           PG-13                               Wide  \n",
       "1                           PG-13                               Wide  \n",
       "2                           PG-13                               Wide  \n",
       "3                           PG-13                               Wide  \n",
       "4                           PG-13                               Wide  "
      ]
     },
     "execution_count": 35,
     "metadata": {},
     "output_type": "execute_result"
    }
   ],
   "source": [
    "#Reading scoring sheet\n",
    "test= pd.read_excel(\"Scoringsheet.xlsx\")\n",
    "test.head()"
   ]
  },
  {
   "cell_type": "code",
   "execution_count": 36,
   "metadata": {},
   "outputs": [
    {
     "name": "stdout",
     "output_type": "stream",
     "text": [
      "Shape of scoring data is: (91, 14)\n"
     ]
    }
   ],
   "source": [
    "#Printing shape of scoring data\n",
    "print(\"Shape of scoring data is:\",test.shape)"
   ]
  },
  {
   "cell_type": "code",
   "execution_count": 37,
   "metadata": {},
   "outputs": [
    {
     "name": "stdout",
     "output_type": "stream",
     "text": [
      "Test columns with null values:\n",
      " id                                    0\n",
      "name                                  0\n",
      "display_name                          0\n",
      "production_budget                     0\n",
      "production_year                       0\n",
      "movie_sequel                          0\n",
      "creative_type                         0\n",
      "source                                0\n",
      "production_method                     0\n",
      "genre                                 0\n",
      "language                              0\n",
      "board_rating_reason                   0\n",
      "movie_board_rating_display_name       0\n",
      "movie_release_pattern_display_name    0\n",
      "dtype: int64\n",
      "--------------------\n"
     ]
    }
   ],
   "source": [
    "#Analyzing the null values of scoring sheet\n",
    "print('Test columns with null values:\\n', test.isnull().sum())\n",
    "print(\"-\"*20)"
   ]
  },
  {
   "cell_type": "code",
   "execution_count": 38,
   "metadata": {},
   "outputs": [
    {
     "name": "stdout",
     "output_type": "stream",
     "text": [
      "['creative_type' 'genre' 'language' 'movie_board_rating_display_name'\n",
      " 'movie_release_pattern_display_name' 'movie_sequel' 'production_method'\n",
      " 'production_year' 'source']\n"
     ]
    }
   ],
   "source": [
    "#Selecting the common columns in test and train data\n",
    "a = np.intersect1d(train.columns, test.columns)\n",
    "print (a)"
   ]
  },
  {
   "cell_type": "code",
   "execution_count": 39,
   "metadata": {
    "collapsed": true
   },
   "outputs": [],
   "source": [
    "#test= cleanDataSet(test)\n",
    "drop_cols = [\"id\",\"name\",\"display_name\",\"board_rating_reason\",\"production_budget\"]\n",
    "test= test.drop(drop_cols, axis=1)"
   ]
  },
  {
   "cell_type": "code",
   "execution_count": 40,
   "metadata": {
    "collapsed": true
   },
   "outputs": [],
   "source": [
    "#Converting object to categorical variables\n",
    "for column in test.select_dtypes(include=[np.object]).columns:\n",
    "    test[column] = test[column].astype('category', categories = test[column].unique())"
   ]
  },
  {
   "cell_type": "code",
   "execution_count": 41,
   "metadata": {},
   "outputs": [
    {
     "data": {
      "text/plain": [
       "production_year                          int64\n",
       "movie_sequel                             int64\n",
       "creative_type                         category\n",
       "source                                category\n",
       "production_method                     category\n",
       "genre                                 category\n",
       "language                              category\n",
       "movie_board_rating_display_name       category\n",
       "movie_release_pattern_display_name    category\n",
       "dtype: object"
      ]
     },
     "metadata": {},
     "output_type": "display_data"
    }
   ],
   "source": [
    "display(test.dtypes)"
   ]
  },
  {
   "cell_type": "code",
   "execution_count": 42,
   "metadata": {
    "collapsed": true
   },
   "outputs": [],
   "source": [
    "#Dummifying the values\n",
    "test = pd.get_dummies(data=test, columns= ['creative_type',\n",
    "                              'source',\n",
    "                              'movie_sequel',\n",
    "                              'production_method',\n",
    "                              'genre',\n",
    "                              'language',\n",
    "                              'movie_board_rating_display_name',\n",
    "                              'movie_release_pattern_display_name'])"
   ]
  },
  {
   "cell_type": "code",
   "execution_count": 43,
   "metadata": {},
   "outputs": [
    {
     "data": {
      "text/plain": [
       "(1196, 77)"
      ]
     },
     "metadata": {},
     "output_type": "display_data"
    },
    {
     "data": {
      "text/plain": [
       "(91, 49)"
      ]
     },
     "metadata": {},
     "output_type": "display_data"
    }
   ],
   "source": [
    "display(X.shape)\n",
    "display(test.shape)"
   ]
  },
  {
   "cell_type": "code",
   "execution_count": null,
   "metadata": {
    "collapsed": true
   },
   "outputs": [],
   "source": [
    "'''for column in test:\n",
    "    if(column not in X.column):\n",
    "        X= X.drop([column],axis=1).values'''"
   ]
  },
  {
   "cell_type": "code",
   "execution_count": 44,
   "metadata": {
    "collapsed": true
   },
   "outputs": [],
   "source": [
    "# Get missing columns in the training test\n",
    "missing_cols = set(pd.DataFrame(X)) - set(pd.DataFrame(test))\n",
    "# Add a missing column in test set with default value equal to 0\n",
    "for c in missing_cols:\n",
    "    test[c] = 0\n",
    "# Setting order of test columns same as X\n",
    "test = test[pd.DataFrame(X).columns]"
   ]
  },
  {
   "cell_type": "code",
   "execution_count": 45,
   "metadata": {},
   "outputs": [
    {
     "name": "stdout",
     "output_type": "stream",
     "text": [
      "Shape of training data : (1196, 77)\n",
      "Shape of Test data : (91, 77)\n"
     ]
    }
   ],
   "source": [
    "print(\"Shape of training data :\",X.shape)\n",
    "print(\"Shape of Test data :\",test.shape)"
   ]
  },
  {
   "cell_type": "code",
   "execution_count": 46,
   "metadata": {
    "collapsed": true
   },
   "outputs": [],
   "source": [
    "#Using all the algorithms used in cross validation and test \n",
    "#and train split to perform final analysis, but I will be \n",
    "#considering Random Forest and Gradient Boosting Classifier as top picks"
   ]
  },
  {
   "cell_type": "code",
   "execution_count": 48,
   "metadata": {
    "collapsed": true
   },
   "outputs": [],
   "source": [
    "clf_SVC= LinearSVC()\n",
    "clf_SVC.fit(X,y)\n",
    "score_prediction_SVC=clf_SVC.predict(test)\n",
    "Predictions= pd.DataFrame(score_prediction_SVC).to_excel('score_prediction_LinearSVC.xlsx')"
   ]
  },
  {
   "cell_type": "code",
   "execution_count": null,
   "metadata": {
    "collapsed": true
   },
   "outputs": [],
   "source": [
    "#test['Category_Predicted'] = score_prediction_SVC"
   ]
  },
  {
   "cell_type": "code",
   "execution_count": null,
   "metadata": {
    "collapsed": true
   },
   "outputs": [],
   "source": [
    "# Make cross validated predictions\n",
    "#predictions = cross_val_score(target_predicted_SVC, X, y, cv=6)\n",
    "#plt.scatter(y, predictions)"
   ]
  },
  {
   "cell_type": "code",
   "execution_count": 49,
   "metadata": {
    "collapsed": true
   },
   "outputs": [],
   "source": [
    "clf_LR = LogisticRegression(class_weight='balanced')\n",
    "clf_LR.fit(X,y)\n",
    "score_prediction_LR = clf_LR.predict(test)\n",
    "Predictions= pd.DataFrame(score_prediction_LR).to_excel('score_prediction_LR.xlsx')"
   ]
  },
  {
   "cell_type": "code",
   "execution_count": 51,
   "metadata": {
    "collapsed": true
   },
   "outputs": [],
   "source": [
    "clf_NB = NB()\n",
    "clf_NB.fit(X,y)\n",
    "score_prediction_NB = clf_NB.predict(test)\n",
    "Predictions= pd.DataFrame(score_prediction_NB).to_excel('score_prediction_NB.xlsx')"
   ]
  },
  {
   "cell_type": "code",
   "execution_count": 52,
   "metadata": {
    "collapsed": true
   },
   "outputs": [],
   "source": [
    "clf_RF=RFC(max_depth= None, max_features= 'sqrt', min_samples_leaf= 1, min_samples_split= 5, n_estimators= 300)\n",
    "clf_RF.fit(X,y)\n",
    "score_predicted_RF=clf_RF.predict(test)\n",
    "Predictions= pd.DataFrame(score_predicted_RF).to_excel('score_prediction_RFC.xlsx')"
   ]
  },
  {
   "cell_type": "code",
   "execution_count": 53,
   "metadata": {
    "collapsed": true
   },
   "outputs": [],
   "source": [
    "clf_DTC=DTC(criterion = \"gini\", random_state = 100,max_depth=3, min_samples_leaf=5)\n",
    "clf_DTC.fit(X,y)\n",
    "score_predicted_DT=clf_DTC.predict(test)\n",
    "Predictions= pd.DataFrame(score_predicted_DT).to_excel('score_prediction_DT.xlsx')"
   ]
  },
  {
   "cell_type": "code",
   "execution_count": 56,
   "metadata": {},
   "outputs": [
    {
     "ename": "ModuleNotFoundError",
     "evalue": "No module named 'pydotplus'",
     "output_type": "error",
     "traceback": [
      "\u001b[0;31m---------------------------------------------------------------------------\u001b[0m",
      "\u001b[0;31mModuleNotFoundError\u001b[0m                       Traceback (most recent call last)",
      "\u001b[0;32m<ipython-input-56-079b29b8ee1f>\u001b[0m in \u001b[0;36m<module>\u001b[0;34m()\u001b[0m\n\u001b[1;32m      2\u001b[0m \u001b[0;32mfrom\u001b[0m \u001b[0mIPython\u001b[0m\u001b[0;34m.\u001b[0m\u001b[0mdisplay\u001b[0m \u001b[0;32mimport\u001b[0m \u001b[0mImage\u001b[0m\u001b[0;34m\u001b[0m\u001b[0m\n\u001b[1;32m      3\u001b[0m \u001b[0;32mfrom\u001b[0m \u001b[0msklearn\u001b[0m\u001b[0;34m.\u001b[0m\u001b[0mtree\u001b[0m \u001b[0;32mimport\u001b[0m \u001b[0mexport_graphviz\u001b[0m\u001b[0;34m\u001b[0m\u001b[0m\n\u001b[0;32m----> 4\u001b[0;31m \u001b[0;32mimport\u001b[0m \u001b[0mpydotplus\u001b[0m\u001b[0;34m\u001b[0m\u001b[0m\n\u001b[0m\u001b[1;32m      5\u001b[0m \u001b[0mdot_data\u001b[0m \u001b[0;34m=\u001b[0m \u001b[0mStringIO\u001b[0m\u001b[0;34m(\u001b[0m\u001b[0;34m)\u001b[0m\u001b[0;34m\u001b[0m\u001b[0m\n\u001b[1;32m      6\u001b[0m export_graphviz(clf_DTC, out_file=dot_data,  \n",
      "\u001b[0;31mModuleNotFoundError\u001b[0m: No module named 'pydotplus'"
     ]
    }
   ],
   "source": [
    "#Visualizaing the tree generated by Decision Tree algorithm\n",
    "from sklearn.externals.six import StringIO  \n",
    "from IPython.display import Image  \n",
    "from sklearn.tree import export_graphviz\n",
    "import pydotplus\n",
    "dot_data = StringIO()\n",
    "export_graphviz(clf_DTC, out_file=dot_data,  \n",
    "                filled=True, rounded=True,\n",
    "                special_characters=True)\n",
    "graph = pydotplus.graph_from_dot_data(dot_data.getvalue())  \n",
    "Image(graph.create_png())"
   ]
  },
  {
   "cell_type": "code",
   "execution_count": 55,
   "metadata": {
    "collapsed": true
   },
   "outputs": [],
   "source": [
    "clf_GB= GBC()\n",
    "clf_GB.fit(X,y)\n",
    "score_predicted_GBC=clf_GB.predict(test)\n",
    "Predictions= pd.DataFrame(score_predicted_GBC).to_excel('score_prediction_GBC.xlsx')"
   ]
  },
  {
   "cell_type": "code",
   "execution_count": null,
   "metadata": {
    "collapsed": true
   },
   "outputs": [],
   "source": [
    "#In conclusion Random Forest and Gradient Boostong \n",
    "#Classifier should work best for scoring data"
   ]
  }
 ],
 "metadata": {
  "kernelspec": {
   "display_name": "Python 3",
   "language": "python",
   "name": "python3"
  },
  "language_info": {
   "codemirror_mode": {
    "name": "ipython",
    "version": 3
   },
   "file_extension": ".py",
   "mimetype": "text/x-python",
   "name": "python",
   "nbconvert_exporter": "python",
   "pygments_lexer": "ipython3",
   "version": "3.6.2"
  }
 },
 "nbformat": 4,
 "nbformat_minor": 2
}
